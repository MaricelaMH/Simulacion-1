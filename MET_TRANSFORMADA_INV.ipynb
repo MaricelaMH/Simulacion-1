{
  "nbformat": 4,
  "nbformat_minor": 0,
  "metadata": {
    "colab": {
      "provenance": [],
      "authorship_tag": "ABX9TyOdJYHuI8mFjSP4/12fKIv/",
      "include_colab_link": true
    },
    "kernelspec": {
      "name": "python3",
      "display_name": "Python 3"
    },
    "language_info": {
      "name": "python"
    }
  },
  "cells": [
    {
      "cell_type": "markdown",
      "metadata": {
        "id": "view-in-github",
        "colab_type": "text"
      },
      "source": [
        "<a href=\"https://colab.research.google.com/github/MaricelaMH/Simulacion-1/blob/main/MET_TRANSFORMADA_INV.ipynb\" target=\"_parent\"><img src=\"https://colab.research.google.com/assets/colab-badge.svg\" alt=\"Open In Colab\"/></a>"
      ]
    },
    {
      "cell_type": "markdown",
      "source": [
        "M-É-T-O-D-O    D-E   L-A    T-R-A-N-S-F-O-R-M-A-D-A   I-N-V-E-R-S-A\n",
        "\n",
        "Tenemos la siguiente representación gráfica:\n",
        "\n",
        "![texto alternativo](https://drive.google.com/uc?id=1SwQ9pOJcQIAXb4kz7bgwRHEYYyK8-pXO)\n"
      ],
      "metadata": {
        "id": "fWCUJdspACoP"
      }
    },
    {
      "cell_type": "markdown",
      "source": [
        "1. Calculamos la función que representa esta gráfica, por lo que:\n",
        "  \n",
        "  * Sabemos que la ecuacion de la recta es:\n",
        "  $$ y - y_1 = m ( x-x_1)$$\n",
        "  donde $m$ es\n",
        "  $$m = \\frac{y_2 - y_2}{x_2 - x_1} = \\frac{1/4 - 5/4}{1-0}=-1$$\n",
        "  por lo que sustituyendo en la ecuación de la recta, tendremos que:\n",
        "  $$y - \\frac{5}{4}=-1(x-0) $$ $$ ⟹ f(x) = \\frac{5}{4}-x \\text{ , para } 0\\leq x < 1$$\n",
        "  por lo que nuestra función que representa la gráfica mostrada anteriormente es:\n",
        "  $$ f(x) = \\begin{cases}\n",
        "      \\frac{5}{4}-x & \\text{si } 0 \\leq x < 1 \\\\\n",
        "      \\frac{1}{4} & \\text{si } 1 \\leq x \\leq 2 \\\\\n",
        "      0 & \\text{en otro caso }\n",
        "   \\end{cases} $$\n"
      ],
      "metadata": {
        "id": "wVOJAU07tWJf"
      }
    },
    {
      "cell_type": "markdown",
      "source": [
        "2. Calculamos la distribución acumulada de nuestra $f(x)$:\n",
        "  * Probamos que efectivamente es una función de densidad, para ello, por definición tenemos que:\n",
        "  $$\\int_{-∞}^{x} f(s) \\, ds = 1$$ $$⟹ \\int_{0}^{1} (\\frac{5}{4}-s) \\, ds \\ + \\int_{1}^{2}(\\frac{1}{4}) \\, ds = \\frac{3}{4} \\ + \\frac{1}{4}=1$$\n",
        "  dado que $F(x)=1$, podemos afirmar que se trata de una función de densidad de probabilidad ademas $f(x) \\leq 0 $\n",
        "  * Ahora calculamos nuestra  función de distribución acumulada $F(x)$\n",
        "  $$ F(x)=\\int_{-∞}^{x} f(s) \\, ds $$\n",
        "  CASO 1: Para $ \\frac{5}{4}-s$ tenemos que\n",
        "  $$ F(x)= \\int_{0}^{x} (\\frac{5}{4}-s) \\, ds =  \\left[ \\frac{5}{4} s - \\frac{s^2}{2} \\right]_0^x = \\frac{5}{4} x - \\frac{x^2}{2}$$\n",
        "  CASO 2: Y para $\\frac{1}{4}$\n",
        "  $$F(x)=\\int_{0}^{1} (\\frac{5}{4}-s) \\, ds \\ + \\int_{1}^{x} \\frac{1}{4} \\, ds$$ $$ = \\frac{3}{4} \\ + \\frac{x-1}{4}$$ $$= \\frac{1}{4}x + \\frac{1}{2}$$\n",
        "  Finalmente tendremos que\n",
        "   $$ F(x) = \\begin{cases}\n",
        "      \\frac{5}{4}x-\\frac{x^2}{2} & \\text{si } 0 \\leq x < 1 \\\\\n",
        "      \\frac{1}{4}x + \\frac{1}{2} & \\text{si } 1 \\leq x \\leq 2 \\\\\n",
        "      0 & \\text{en otro caso }\n",
        "   \\end{cases} $$"
      ],
      "metadata": {
        "id": "a2ed3_VKtcK9"
      }
    },
    {
      "cell_type": "markdown",
      "source": [
        "3. Calculamos la transformada inversa $F^{-1}(x)$\n",
        "   * Para el CASO 1, vamos a igualar nuestra $F(x)=R$ y despejaremos $x$\n",
        "   $$ \\frac{5}{4}x-\\frac{x^2}{2} = R ⟹ -2 ( \\frac{5}{4}x-\\frac{x^2}{2}=R)$$\n",
        "   $$ ⟹ -\\frac{5}{2}x \\ + x^2 = -2R$$\n",
        "   $$⟹ x^2 - \\frac{5}{2}x + \\frac{25}{16} = -2R + \\frac{25}{16}$$\n",
        "   $$ ⟹ (x-\\frac{5}{4})^2 = \\frac{25}{16}-2R$$\n",
        "   por lo que\n",
        "\n",
        "   $$ x = \\sqrt{\\frac{25}{16}-2R} + \\frac{5}{4} $$\n",
        "   * Para el CASO 2, hacemos el mismo procedimiento que en el CASO 1, asi:\n",
        "   $$ \\frac{1}{4} \\ + \\frac{1}{2} = R $$\n",
        "   $$⟹ x + 2 = 4R $$\n",
        "   finalmente\n",
        "   $$ x = 4R-2$$\n",
        "   \n",
        "   Finalmente igualamos $R=u$, por lo que nuestra función inversa es igual a:\n",
        "   $$ F^{-1}(x) = \\begin{cases}\n",
        "      \\sqrt{\\frac{25}{16}-2u} + \\frac{5}{4} & \\text{si } 0 \\leq u < \\frac{3}{4} \\\\\n",
        "       4u-2 & \\text{si } \\frac{3}{4} \\leq u \\leq 1 \\\\\n",
        "      0 & \\text{en otro caso }\n",
        "   \\end{cases} $$"
      ],
      "metadata": {
        "id": "6FJ9ClsdtiDb"
      }
    },
    {
      "cell_type": "markdown",
      "source": [
        "Asi , podemos simular nuestros resultados y ver que obtengamos con ayuda de un histograma nuestra función de densidad"
      ],
      "metadata": {
        "id": "eYL4QLvPtnBc"
      }
    },
    {
      "cell_type": "code",
      "execution_count": null,
      "metadata": {
        "id": "fBNgoJ1_7sui"
      },
      "outputs": [],
      "source": [
        "# Ingresamos nuestraspaqueterias necesarias\n",
        "import random as rnd\n",
        "import numpy as np\n",
        "import matplotlib.pyplot as plt"
      ]
    },
    {
      "cell_type": "markdown",
      "source": [
        "Crearemos una funcion donde definiremos nuestra función inversa obtenida anteriormente"
      ],
      "metadata": {
        "id": "3w7J157GyxVB"
      }
    },
    {
      "cell_type": "code",
      "source": [
        "def graf(n):     # Definimos nuestra funcion graf, la cual representa la cantidad de números aleatorios que se desean generar\n",
        "    Lista = []   # Creamos una lista vacia\n",
        "    for i in range(n):\n",
        "        u=rnd.random()   #Genera un número aleatorio u entre 0 y 1\n",
        "        if 0 <= u < 0.75:\n",
        "           x = 5/4-(25/16-2*u)**0.5   # Si u está en el rango [0, 0.75), calcula x utilizando esta fórmula\n",
        "        else:\n",
        "          x=4*u-2 #Si u no está en el rango [0, 0.75), entonces u debe estar en el rango [0.75, 1) y se calcula x\n",
        "        Lista.append(x)  # Agregamos el valore de x a la Lista\n",
        "    return Lista"
      ],
      "metadata": {
        "id": "Sq711SUb8B9W"
      },
      "execution_count": null,
      "outputs": []
    },
    {
      "cell_type": "markdown",
      "source": [
        "Realizaremos la prueba para una muestra un poco grande y ver si exactamente esto aproximara correctamente nuestra fdp"
      ],
      "metadata": {
        "id": "krrqNSKWy72Y"
      }
    },
    {
      "cell_type": "code",
      "source": [
        "G=graf(100000) # Generarmos la lista G usando la función graf"
      ],
      "metadata": {
        "id": "fvum8W3G83Ap"
      },
      "execution_count": null,
      "outputs": []
    },
    {
      "cell_type": "code",
      "source": [
        "mu=np.mean(G)  #Calculamos la media de G\n",
        "print(mu)"
      ],
      "metadata": {
        "colab": {
          "base_uri": "https://localhost:8080/"
        },
        "id": "2dvL1W9l88bL",
        "outputId": "77e65985-97af-4f38-b895-fc92f52c263f"
      },
      "execution_count": null,
      "outputs": [
        {
          "output_type": "stream",
          "name": "stdout",
          "text": [
            "0.6671281305810607\n"
          ]
        }
      ]
    },
    {
      "cell_type": "code",
      "source": [
        "sigma2=np.var(G) #Calculamos la varianza de G\n",
        "print(sigma2)"
      ],
      "metadata": {
        "colab": {
          "base_uri": "https://localhost:8080/"
        },
        "id": "n25NS3j39BNF",
        "outputId": "567bb7b1-6424-48d7-b804-95937627e109"
      },
      "execution_count": null,
      "outputs": [
        {
          "output_type": "stream",
          "name": "stdout",
          "text": [
            "0.3045785889965957\n"
          ]
        }
      ]
    },
    {
      "cell_type": "code",
      "source": [
        "plt.hist(G,bins=100,color='lightblue') #Graficamos G"
      ],
      "metadata": {
        "colab": {
          "base_uri": "https://localhost:8080/",
          "height": 1000
        },
        "id": "z7P6dmTY9DYr",
        "outputId": "7dd03ba9-b63d-48c2-b6cd-277d731b7f7d"
      },
      "execution_count": null,
      "outputs": [
        {
          "output_type": "execute_result",
          "data": {
            "text/plain": [
              "(array([2400., 2430., 2393., 2360., 2361., 2215., 2255., 2203., 2126.,\n",
              "        2077., 2074., 2040., 2028., 1905., 1918., 1861., 1817., 1764.,\n",
              "        1785., 1778., 1751., 1625., 1607., 1621., 1501., 1452., 1470.,\n",
              "        1391., 1445., 1346., 1327., 1289., 1165., 1131., 1047., 1057.,\n",
              "        1043., 1014., 1029.,  932.,  906.,  833.,  801.,  745.,  722.,\n",
              "         692.,  615.,  624.,  563.,  521.,  521.,  480.,  497.,  480.,\n",
              "         494.,  525.,  519.,  508.,  504.,  479.,  491.,  502.,  485.,\n",
              "         490.,  494.,  479.,  477.,  498.,  529.,  490.,  519.,  499.,\n",
              "         530.,  481.,  500.,  513.,  531.,  473.,  524.,  473.,  480.,\n",
              "         505.,  514.,  469.,  529.,  512.,  488.,  471.,  513.,  491.,\n",
              "         509.,  508.,  492.,  474.,  485.,  487.,  482.,  499.,  538.,\n",
              "         514.]),\n",
              " array([3.47450545e-06, 2.00032545e-02, 4.00030344e-02, 6.00028144e-02,\n",
              "        8.00025944e-02, 1.00002374e-01, 1.20002154e-01, 1.40001934e-01,\n",
              "        1.60001714e-01, 1.80001494e-01, 2.00001274e-01, 2.20001054e-01,\n",
              "        2.40000834e-01, 2.60000614e-01, 2.80000394e-01, 3.00000174e-01,\n",
              "        3.19999954e-01, 3.39999734e-01, 3.59999514e-01, 3.79999294e-01,\n",
              "        3.99999074e-01, 4.19998854e-01, 4.39998634e-01, 4.59998414e-01,\n",
              "        4.79998194e-01, 4.99997974e-01, 5.19997754e-01, 5.39997533e-01,\n",
              "        5.59997313e-01, 5.79997093e-01, 5.99996873e-01, 6.19996653e-01,\n",
              "        6.39996433e-01, 6.59996213e-01, 6.79995993e-01, 6.99995773e-01,\n",
              "        7.19995553e-01, 7.39995333e-01, 7.59995113e-01, 7.79994893e-01,\n",
              "        7.99994673e-01, 8.19994453e-01, 8.39994233e-01, 8.59994013e-01,\n",
              "        8.79993793e-01, 8.99993573e-01, 9.19993353e-01, 9.39993133e-01,\n",
              "        9.59992913e-01, 9.79992693e-01, 9.99992473e-01, 1.01999225e+00,\n",
              "        1.03999203e+00, 1.05999181e+00, 1.07999159e+00, 1.09999137e+00,\n",
              "        1.11999115e+00, 1.13999093e+00, 1.15999071e+00, 1.17999049e+00,\n",
              "        1.19999027e+00, 1.21999005e+00, 1.23998983e+00, 1.25998961e+00,\n",
              "        1.27998939e+00, 1.29998917e+00, 1.31998895e+00, 1.33998873e+00,\n",
              "        1.35998851e+00, 1.37998829e+00, 1.39998807e+00, 1.41998785e+00,\n",
              "        1.43998763e+00, 1.45998741e+00, 1.47998719e+00, 1.49998697e+00,\n",
              "        1.51998675e+00, 1.53998653e+00, 1.55998631e+00, 1.57998609e+00,\n",
              "        1.59998587e+00, 1.61998565e+00, 1.63998543e+00, 1.65998521e+00,\n",
              "        1.67998499e+00, 1.69998477e+00, 1.71998455e+00, 1.73998433e+00,\n",
              "        1.75998411e+00, 1.77998389e+00, 1.79998367e+00, 1.81998345e+00,\n",
              "        1.83998323e+00, 1.85998301e+00, 1.87998279e+00, 1.89998257e+00,\n",
              "        1.91998235e+00, 1.93998213e+00, 1.95998191e+00, 1.97998169e+00,\n",
              "        1.99998147e+00]),\n",
              " <BarContainer object of 100 artists>)"
            ]
          },
          "metadata": {},
          "execution_count": 14
        },
        {
          "output_type": "display_data",
          "data": {
            "text/plain": [
              "<Figure size 640x480 with 1 Axes>"
            ],
            "image/png": "[encoded data removed]"
          },
          "metadata": {}
        }
      ]
    },
    {
      "cell_type": "markdown",
      "source": [
        "Podemos ver que con ayuda de este hitograma efectivamente se obtiene nuestra grafica de fdp"
      ],
      "metadata": {
        "id": "pW2CLX5QzI8J"
      }
    },
    {
      "cell_type": "code",
      "source": [
        "plt.plot(G,color='lightblue') #Graficamos los valores de G obtenidos"
      ],
      "metadata": {
        "colab": {
          "base_uri": "https://localhost:8080/",
          "height": 447
        },
        "id": "eNDN9BRM9GX7",
        "outputId": "b0a1c3d2-d9c1-4fd4-e5d6-93b03173cc2f"
      },
      "execution_count": null,
      "outputs": [
        {
          "output_type": "execute_result",
          "data": {
            "text/plain": [
              "[<matplotlib.lines.Line2D at 0x7b9d691b73a0>]"
            ]
          },
          "metadata": {},
          "execution_count": 15
        },
        {
          "output_type": "display_data",
          "data": {
            "text/plain": [
              "<Figure size 640x480 with 1 Axes>"
            ],
            "image/png": "[encoded data removed]"
          },
          "metadata": {}
        }
      ]
    },
    {
      "cell_type": "code",
      "source": [
        "def cdf(G):  #Definimos una nueva funsión\n",
        "  n = len(G)  #Calculamos el número de elementos en la lista G.\n",
        "  x = np.sort(G) #Ordena los valores de G en orden ascendente.\n",
        "  y = np.arange(0,n)/n   #Obtenemo las probabilidades acumuladas\n",
        "  return x,y"
      ],
      "metadata": {
        "id": "gxDiSZtp9MvN"
      },
      "execution_count": null,
      "outputs": []
    },
    {
      "cell_type": "code",
      "source": [
        "x,y = cdf(G) #Obtenemos los valores de x , y"
      ],
      "metadata": {
        "id": "H8PeljBu9NYH"
      },
      "execution_count": null,
      "outputs": []
    },
    {
      "cell_type": "markdown",
      "source": [
        "Graficamos nuestra funsión de probabilidad acumulada"
      ],
      "metadata": {
        "id": "BGk4ksO1zgZz"
      }
    },
    {
      "cell_type": "code",
      "source": [
        "plt.step(x,y)\n",
        "plt.axhline(0.5,color=\"red\")  #Graficamos una línea horizontal en y=0.5 (punto medio)\n",
        "plt.axvline(mu,color=\"green\") #Graficamos la media"
      ],
      "metadata": {
        "colab": {
          "base_uri": "https://localhost:8080/",
          "height": 447
        },
        "id": "O_n8dsBX9PR2",
        "outputId": "ed6b8c26-5024-45fd-fc5f-9f7136d8de3a"
      },
      "execution_count": null,
      "outputs": [
        {
          "output_type": "execute_result",
          "data": {
            "text/plain": [
              "<matplotlib.lines.Line2D at 0x7b9d690fef80>"
            ]
          },
          "metadata": {},
          "execution_count": 18
        },
        {
          "output_type": "display_data",
          "data": {
            "text/plain": [
              "<Figure size 640x480 with 1 Axes>"
            ],
            "image/png": "[encoded data removed]"
          },
          "metadata": {}
        }
      ]
    }
  ]
}