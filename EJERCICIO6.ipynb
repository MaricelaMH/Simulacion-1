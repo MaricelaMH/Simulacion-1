{
  "nbformat": 4,
  "nbformat_minor": 0,
  "metadata": {
    "colab": {
      "provenance": [],
      "authorship_tag": "ABX9TyP2SmUX33ftT7HwFnL/h0dI",
      "include_colab_link": true
    },
    "kernelspec": {
      "name": "python3",
      "display_name": "Python 3"
    },
    "language_info": {
      "name": "python"
    }
  },
  "cells": [
    {
      "cell_type": "markdown",
      "metadata": {
        "id": "view-in-github",
        "colab_type": "text"
      },
      "source": [
        "<a href=\"https://colab.research.google.com/github/MaricelaMH/Simulacion-1/blob/main/EJERCICIO6.ipynb\" target=\"_parent\"><img src=\"https://colab.research.google.com/assets/colab-badge.svg\" alt=\"Open In Colab\"/></a>"
      ]
    },
    {
      "cell_type": "code",
      "execution_count": 58,
      "metadata": {
        "colab": {
          "base_uri": "https://localhost:8080/",
          "height": 812
        },
        "id": "My-B0IxGX7eh",
        "outputId": "eed54a86-5656-4a52-d756-5960fafa3162"
      },
      "outputs": [
        {
          "output_type": "stream",
          "name": "stdout",
          "text": [
            "╒═════════════╤══════╤══════╤═════════╤═════════════╤════════════════╕\n",
            "│ Clases      │   fo │   fe │   fo-fe │   (fo-fe)^2 │   (fo-fe)^2/fe │\n",
            "╞═════════════╪══════╪══════╪═════════╪═════════════╪════════════════╡\n",
            "│ (0.01-0.20) │   20 │   20 │       0 │           0 │           0    │\n",
            "├─────────────┼──────┼──────┼─────────┼─────────────┼────────────────┤\n",
            "│ (0.21-0.40) │   19 │   20 │      -1 │           1 │           0.05 │\n",
            "├─────────────┼──────┼──────┼─────────┼─────────────┼────────────────┤\n",
            "│ (0.41-0.60) │   21 │   20 │       1 │           1 │           0.05 │\n",
            "├─────────────┼──────┼──────┼─────────┼─────────────┼────────────────┤\n",
            "│ (0.61-0.80) │   22 │   20 │       2 │           4 │           0.2  │\n",
            "├─────────────┼──────┼──────┼─────────┼─────────────┼────────────────┤\n",
            "│ (0.81-1.00) │   18 │   20 │      -2 │           4 │           0.2  │\n",
            "╘═════════════╧══════╧══════╧═════════╧═════════════╧════════════════╛\n"
          ]
        },
        {
          "output_type": "display_data",
          "data": {
            "text/plain": [
              "<Figure size 640x480 with 1 Axes>"
            ],
            "image/png": "[encoded data removed]"
          },
          "metadata": {}
        },
        {
          "output_type": "stream",
          "name": "stdout",
          "text": [
            "Valor del estadistico de prueba:  0.5\n",
            "Valor crítico de chi-cuadrada: 7.8\n",
            "*************************************************************************\n",
            "* Aceptamos la hipotesis nula (Ho) dado que 0.5 <= 7.8 *\n",
            "* Los datos pueden seguir una distribución uniforme *\n",
            "Conclusión: No existe diferencia entre las proporciones de los datos.\n",
            "*************************************************************************\n"
          ]
        }
      ],
      "source": [
        "datos = [0.78, 0.98, 0.24, 0.73, 0.43, 0.16, 0.78, 0.47, 0.18, 0.55, 0.04, 0.29, 0.68, 0.77, 0.16, 0.03, 0.79, 0.22, 0.37, 0.80, 0.96, 0.26, 0.91, 0.55, 0.75, 0.55, 0.64, 0.39, 0.53, 0.45, 0.61, 0.14, 0.38, 0.12, 0.40, 0.74, 0.78, 0.98, 0.27, 0.60, 0.43, 0.67, 0.62, 0.32, 0.53, 0.54, 0.24, 0.29, 0.18, 0.08, 0.82, 0.94, 0.19, 0.98, 0.41, 1.00, 0.74, 0.92, 0.14, 0.43, 0.83, 0.88, 0.18, 0.21, 0.50, 0.13, 0.43, 0.69, 0.08, 0.12, 0.22, 0.50, 0.16, 0.11, 0.18, 0.89, 0.80, 0.42, 0.29, 0.87, 0.83, 0.79, 0.65, 0.28, 0.78, 0.49, 0.36, 0.86, 0.87, 0.64, 0.51, 0.07, 0.18, 0.94, 0.50, 0.22, 0.66, 0.91, 0.48, 0.24]\n",
        "\n",
        "clases = 5\n",
        "f1 = 0\n",
        "f2 = 0\n",
        "f3 = 0\n",
        "f4 = 0\n",
        "f5 = 0\n",
        "i = 0\n",
        "\n",
        "\n",
        "for i in range(100):\n",
        "    if 0.01 <= datos[i] <= 0.20:\n",
        "        f1 = f1+ 1\n",
        "    elif 0.21 <= datos[i] <= 0.40:\n",
        "        f2 = f2 + 1\n",
        "    elif 0.41 <= datos[i] <= 0.60:\n",
        "        f3 = f3 + 1\n",
        "    elif 0.61 <= datos[i] <= 0.80:\n",
        "        f4 = f4 + 1\n",
        "    elif 0.81 <= datos[i] <= 1:\n",
        "        f5 = f5 + 1\n",
        "\n",
        "#Calvualmos la frecuencia esperada fe\n",
        "frec = [f1,f2,f3,f4,f5]\n",
        "fe = len(datos)/clases\n",
        "fes = [20,20, 20, 20, 20]\n",
        "fofe = []\n",
        "fofe_2 = []\n",
        "fofe_2_fe = []\n",
        "for i in range(5):\n",
        "  fofe.insert(i,frec[i]-fe)\n",
        "  fofe_2.insert(i,fofe[i]**2)\n",
        "  fofe_2_fe.insert(i,fofe_2[i]/fe)\n",
        "\n",
        "inter = [\"(0.01-0.20)\", \"(0.21-0.40)\", \"(0.41-0.60)\",\"(0.61-0.80)\", \"(0.81-1.00)\"]\n",
        "\n",
        "A = [[inter[i],frec[i],fes[i], fofe[i],fofe_2[i], fofe_2_fe[i]] for i in range(5)]\n",
        "head = [\"Clases\",\"fo\",\"fe\",\"fo-fe\", \"(fo-fe)^2\", \"(fo-fe)^2/fe\"]\n",
        "A.insert(0,head)\n",
        "\n",
        "from tabulate import tabulate\n",
        "# Imprimir los datos en formato de tabla\n",
        "print(tabulate(A, headers=\"firstrow\", tablefmt=\"fancy_grid\"))\n",
        "\n",
        "# Histograma\n",
        "plt.hist(datos, bins=clases, color='green', edgecolor='black', alpha=0.3)\n",
        "plt.title('Histograma de distribución de datos')\n",
        "plt.xlabel('Intervalos')\n",
        "plt.ylabel('Frecuencia')\n",
        "plt.show()\n",
        "\n",
        "# Sumar los elementos\n",
        "suma=sum(fofe_2_fe[i] for i in range(5))\n",
        "print(\"Valor del estadistico de prueba: \",suma)\n",
        "\n",
        "from scipy.stats import chi2\n",
        "\n",
        "# Grados de libertad\n",
        "grados_libertad = clases - 1\n",
        "\n",
        "# Nivel de confianza (90% / 100= 0.90)\n",
        "nivel_confianza = 0.90\n",
        "\n",
        "# Calcular el valor crítico de chi-cuadrada para el nivel de confianza dado\n",
        "valc = chi2.ppf(nivel_confianza, grados_libertad)\n",
        "valor_critico = round(valc, 1)\n",
        "print(\"Valor crítico de chi-cuadrada:\", valor_critico)\n",
        "\n",
        "\n",
        "if suma <= valor_critico:\n",
        "  text1=\"Aceptamos la hipotesis nula (Ho) dado que {} <= {}\".format(suma,valor_critico)\n",
        "  text2=\"Los datos pueden seguir una distribución uniforme\"\n",
        "  text3=\"Conclusión: No existe diferencia entre las proporciones de los datos.\"\n",
        "  longitud_cuadro = max(len(text1), len(text2),len(text3)) + 4\n",
        "  print(\"*\" * longitud_cuadro)\n",
        "  print(f\"* {text1} *\")\n",
        "  print(f\"* {text2} *\")\n",
        "  print(f\"{text3}\")\n",
        "  print(\"*\" * longitud_cuadro)\n",
        "elif suma > valor_critico:\n",
        "  text1=\"Rechazamos la hipotesis nula (Ho) dado que {} > {}\".format(suma,valor_critico)\n",
        "  text2=\"Los datos no siguen una distribución uniforme\"\n",
        "  text3=\"Conclusión: Existe diferencia entre las proporciones de los datos.\"\n",
        "  longitud_cuadro = max(len(text1), len(text2),len(text3)) + 4\n",
        "  print(\"*\" * longitud_cuadro)\n",
        "  print(f\"* {text1} *\")\n",
        "  print(f\"* {text2} *\")\n",
        "  print(f\" {text3} \")\n",
        "  print(\"*\" * longitud_cuadro)\n",
        "\n",
        "\n"
      ]
    },
    {
      "cell_type": "code",
      "source": [
        "datos = [21,22,12,19,11,29,4,6,17,0,15,20,1,5,27,24,23,2,26,3,16,10,8,28,14,30,25,13,9,18]\n",
        "clases = 5\n",
        "f1 = 0\n",
        "f2 = 0\n",
        "f3 = 0\n",
        "f4 = 0\n",
        "f5 = 0\n",
        "i = 0\n",
        "\n",
        "\n",
        "for i in range(30):\n",
        "    if 0 <= datos[i] <= 6:\n",
        "        f1 = f1+ 1\n",
        "    elif 7 <= datos[i] <= 12:\n",
        "        f2 = f2 + 1\n",
        "    elif 13 <= datos[i] <= 18:\n",
        "        f3 = f3 + 1\n",
        "    elif 19 <= datos[i] <= 24:\n",
        "        f4 = f4 + 1\n",
        "    elif 25 <= datos[i] <= 30:\n",
        "        f5 = f5 + 1\n",
        "\n",
        "#Calvualmos la frecuencia esperada fe\n",
        "frec = [f1,f2,f3,f4,f5]\n",
        "fe = len(datos)/clases\n",
        "fes = [6,6, 6, 6, 6]\n",
        "fofe = []\n",
        "fofe_2 = []\n",
        "fofe_2_fe = []\n",
        "for i in range(5):\n",
        "  fofe.insert(i,frec[i]-fe)\n",
        "  fofe_2.insert(i,fofe[i]**2)\n",
        "  fofe_2_fe.insert(i,fofe_2[i]/fe)\n",
        "\n",
        "inter = [\"(0.01-0.20)\", \"(0.21-0.40)\", \"(0.41-0.60)\",\"(0.61-0.80)\", \"(0.81-1.00)\"]\n",
        "\n",
        "A = [[inter[i],frec[i],fes[i], fofe[i],fofe_2[i], fofe_2_fe[i]] for i in range(5)]\n",
        "head = [\"Clases\",\"fo\",\"fe\",\"fo-fe\", \"(fo-fe)^2\", \"(fo-fe)^2/fe\"]\n",
        "A.insert(0,head)\n",
        "\n",
        "from tabulate import tabulate\n",
        "# Imprimir los datos en formato de tabla\n",
        "print(tabulate(A, headers=\"firstrow\", tablefmt=\"fancy_grid\"))\n",
        "\n",
        "# Histograma\n",
        "plt.hist(datos, bins=clases, color='green', edgecolor='black', alpha=0.3)\n",
        "plt.title('Histograma de distribución de datos')\n",
        "plt.xlabel('Intervalos')\n",
        "plt.ylabel('Frecuencia')\n",
        "plt.show()\n",
        "\n",
        "# Sumar los elementos\n",
        "suma=sum(fofe_2_fe[i] for i in range(5))\n",
        "suma1=round(suma,1)\n",
        "print(\"Valor del estadistico de prueba: \",suma1)\n",
        "\n",
        "from scipy.stats import chi2\n",
        "\n",
        "# Grados de libertad\n",
        "grados_libertad = clases - 1\n",
        "\n",
        "# Nivel de confianza (90% / 100= 0.90)\n",
        "nivel_confianza = 0.90\n",
        "\n",
        "# Calcular el valor crítico de chi-cuadrada para el nivel de confianza dado\n",
        "valc = chi2.ppf(nivel_confianza, grados_libertad)\n",
        "valor_critico = round(valc,1)\n",
        "print(\"Valor crítico de chi-cuadrada:\", valor_critico)\n",
        "\n",
        "\n",
        "if suma <= valor_critico:\n",
        "  text1=\"Aceptamos la hipotesis nula (Ho) dado que {} <= {}\".format(suma1,valor_critico)\n",
        "  text2=\"Los datos pueden seguir una distribución uniforme\"\n",
        "  text3=\"Conclusión: No existe diferencia entre las proporciones de los datos.\"\n",
        "  longitud_cuadro = max(len(text1), len(text2),len(text3)) + 4\n",
        "  print(\"*\" * longitud_cuadro)\n",
        "  print(f\"* {text1} *\")\n",
        "  print(f\"* {text2} *\")\n",
        "  print(f\"{text3}\")\n",
        "  print(\"*\" * longitud_cuadro)\n",
        "elif suma > valor_critico:\n",
        "  text1=\"Rechazamos la hipotesis nula (Ho) dado que {} > {}\".format(suma1,valor_critico)\n",
        "  text2=\"Los datos no siguen una distribución uniforme\"\n",
        "  text3=\"Conclusión: Existe diferencia entre las proporciones de los datos.\"\n",
        "  longitud_cuadro = max(len(text1), len(text2),len(text3)) + 4\n",
        "  print(\"*\" * longitud_cuadro)\n",
        "  print(f\"* {text1} *\")\n",
        "  print(f\"* {text2} *\")\n",
        "  print(f\" {text3} \")\n",
        "  print(\"*\" * longitud_cuadro)\n"
      ],
      "metadata": {
        "colab": {
          "base_uri": "https://localhost:8080/",
          "height": 812
        },
        "id": "CmG1spyj09aB",
        "outputId": "30b0964a-4892-43eb-9f41-6b4ebbb17edb"
      },
      "execution_count": 63,
      "outputs": [
        {
          "output_type": "stream",
          "name": "stdout",
          "text": [
            "╒═════════════╤══════╤══════╤═════════╤═════════════╤════════════════╕\n",
            "│ Clases      │   fo │   fe │   fo-fe │   (fo-fe)^2 │   (fo-fe)^2/fe │\n",
            "╞═════════════╪══════╪══════╪═════════╪═════════════╪════════════════╡\n",
            "│ (0.01-0.20) │    7 │    6 │       1 │           1 │       0.166667 │\n",
            "├─────────────┼──────┼──────┼─────────┼─────────────┼────────────────┤\n",
            "│ (0.21-0.40) │    5 │    6 │      -1 │           1 │       0.166667 │\n",
            "├─────────────┼──────┼──────┼─────────┼─────────────┼────────────────┤\n",
            "│ (0.41-0.60) │    6 │    6 │       0 │           0 │       0        │\n",
            "├─────────────┼──────┼──────┼─────────┼─────────────┼────────────────┤\n",
            "│ (0.61-0.80) │    6 │    6 │       0 │           0 │       0        │\n",
            "├─────────────┼──────┼──────┼─────────┼─────────────┼────────────────┤\n",
            "│ (0.81-1.00) │    6 │    6 │       0 │           0 │       0        │\n",
            "╘═════════════╧══════╧══════╧═════════╧═════════════╧════════════════╛\n"
          ]
        },
        {
          "output_type": "display_data",
          "data": {
            "text/plain": [
              "<Figure size 640x480 with 1 Axes>"
            ],
            "image/png": "[encoded data removed]"
          },
          "metadata": {}
        },
        {
          "output_type": "stream",
          "name": "stdout",
          "text": [
            "Valor del estadistico de prueba:  0.3\n",
            "Valor crítico de chi-cuadrada: 7.8\n",
            "*************************************************************************\n",
            "* Aceptamos la hipotesis nula (Ho) dado que 0.3 <= 7.8 *\n",
            "* Los datos pueden seguir una distribución uniforme *\n",
            "Conclusión: No existe diferencia entre las proporciones de los datos.\n",
            "*************************************************************************\n"
          ]
        }
      ]
    }
  ]
}