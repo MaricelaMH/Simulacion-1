{
  "nbformat": 4,
  "nbformat_minor": 0,
  "metadata": {
    "colab": {
      "provenance": [],
      "authorship_tag": "ABX9TyO0BsNFzePEvkMlPTMqwB6h",
      "include_colab_link": true
    },
    "kernelspec": {
      "name": "python3",
      "display_name": "Python 3"
    },
    "language_info": {
      "name": "python"
    }
  },
  "cells": [
    {
      "cell_type": "markdown",
      "metadata": {
        "id": "view-in-github",
        "colab_type": "text"
      },
      "source": [
        "<a href=\"https://colab.research.google.com/github/MaricelaMH/Simulacion-1/blob/main/MET_CUADRADO_MEDIO.ipynb\" target=\"_parent\"><img src=\"https://colab.research.google.com/assets/colab-badge.svg\" alt=\"Open In Colab\"/></a>"
      ]
    },
    {
      "cell_type": "markdown",
      "source": [
        "# M É T O D O - D E L - C U A D R A D O - M E D I O\n",
        "El método del cuadrado medio es otro método para generar números pseudoaleatorios. Este método implica cuadrar un número inicial (semilla) de un cierto número de dígitos y luego tomar el centro de los dígitos resultantes como el próximo número en la secuencia. El proceso se repite para generar una secuencia de números pseudoaleatorios.\n",
        "\n",
        "* P A S O S\n",
        "\n",
        "1. Seleccionamos una semilla inicial de un cierto número de dígitos (en este caso de 4 dígitos).\n",
        "2. Elevamos al cuadrado la semilla inicial para obtener un número de aproximadamente el doble de dígitos.\n",
        "3. Tomamos los dígitos centrales del resultado cuadrado como el siguiente número en la secuencia.\n",
        "4. Utilizamos este número como la próxima semilla.\n",
        "5. Repetimos los pasos 2 a 4 para generar una secuencia de números.\n",
        "\n",
        "Por lo que aplicamos el método en el siguiente código:\n"
      ],
      "metadata": {
        "id": "HYCyKGqtBvaC"
      }
    },
    {
      "cell_type": "code",
      "source": [
        "print(\"    M É T O D O  D E L  C U A D R A D O   \")\n",
        "print(\"                M E D I O                 \")\n",
        "print(\"------------------------------------------------\")\n",
        "from tabulate import tabulate\n",
        "\n",
        "imp = set()\n",
        "resultados = []\n",
        "\n",
        "# Pedimos al usuario que ingrese un número de 4 cifras\n",
        "iter = int(input(\"Ingrese la cantidad de iteraciones deseadas: \"))\n",
        "num = input(\"Ingrese un numero de 4 cifras: \")\n",
        "\n",
        "# Aseguramos que el número ingresado sea de 4 cifras, de lo contrario, marcará error\n",
        "while len(num) != 4 or not num.isdigit():  # Aseguramos que se ingrese un numero\n",
        "    num = input(\"Ingrese un numero de 4 cifras: \")\n",
        "\n",
        "print(\"------------------------------------------------\")\n",
        "print(\"\\n LOS RESULTADOS SE MUESTRAN ACONTINUACIÓN : \\n\")\n",
        "\n",
        "# Convertimos el número ingresado a entero\n",
        "num = int(num)\n",
        "\n",
        "\n",
        "# Aplicamos el método del cuadrado medio\n",
        "for i in range(iter):\n",
        "    elev_cuad = num ** 2\n",
        "    cad = str(elev_cuad)\n",
        "\n",
        "    # Con zfill rellenamos automaticamente con ceros para que sea un numero al menos de 8 cifras\n",
        "    nuevo_num = cad.zfill(8)\n",
        "\n",
        "    num_str = str(num)\n",
        "\n",
        "    while len(num_str) < 4:\n",
        "     num_str = \"0\" + num_str\n",
        "\n",
        "    # Creamos el formato de la tabla\n",
        "    resultados.append((i, num_str, elev_cuad, nuevo_num[2:6]))\n",
        "    imp.add(num)\n",
        "\n",
        "    headers = [\"n\", \"X_n\", \"(X_n)^2\", \"CUAD_MED\"]\n",
        "    num = int(nuevo_num[2:6])  # Tomamos los 4 dígitos centrales como el siguiente número\n",
        "\n",
        "print(tabulate(resultados, headers=headers, tablefmt=\"grid\"))\n"
      ],
      "metadata": {
        "id": "y3AAytOmEpw9",
        "outputId": "799de511-7be7-46ec-dd0f-60f520ce332a",
        "colab": {
          "base_uri": "https://localhost:8080/"
        }
      },
      "execution_count": 17,
      "outputs": [
        {
          "output_type": "stream",
          "name": "stdout",
          "text": [
            "    M É T O D O  D E L  C U A D R A D O   \n",
            "                M E D I O                 \n",
            "------------------------------------------------\n",
            "Ingrese la cantidad de iteraciones deseadas: 10\n",
            "Ingrese un numero de 4 cifras: 1234\n",
            "------------------------------------------------\n",
            "\n",
            " LOS RESULTADOS SE MUESTRAN ACONTINUACIÓN : \n",
            "\n",
            "+-----+-------+-----------+------------+\n",
            "|   n |   X_n |   (X_n)^2 |   CUAD_MED |\n",
            "+=====+=======+===========+============+\n",
            "|   0 |  1234 |   1522756 |       5227 |\n",
            "+-----+-------+-----------+------------+\n",
            "|   1 |  5227 |  27321529 |       3215 |\n",
            "+-----+-------+-----------+------------+\n",
            "|   2 |  3215 |  10336225 |       3362 |\n",
            "+-----+-------+-----------+------------+\n",
            "|   3 |  3362 |  11303044 |       3030 |\n",
            "+-----+-------+-----------+------------+\n",
            "|   4 |  3030 |   9180900 |       1809 |\n",
            "+-----+-------+-----------+------------+\n",
            "|   5 |  1809 |   3272481 |       2724 |\n",
            "+-----+-------+-----------+------------+\n",
            "|   6 |  2724 |   7420176 |       4201 |\n",
            "+-----+-------+-----------+------------+\n",
            "|   7 |  4201 |  17648401 |       6484 |\n",
            "+-----+-------+-----------+------------+\n",
            "|   8 |  6484 |  42042256 |       0422 |\n",
            "+-----+-------+-----------+------------+\n",
            "|   9 |  0422 |    178084 |       1780 |\n",
            "+-----+-------+-----------+------------+\n"
          ]
        }
      ]
    }
  ]
}