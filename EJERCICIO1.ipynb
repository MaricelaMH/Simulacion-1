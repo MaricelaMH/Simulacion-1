{
  "nbformat": 4,
  "nbformat_minor": 0,
  "metadata": {
    "colab": {
      "provenance": [],
      "authorship_tag": "ABX9TyOyjoBLu0ZhzUn+AR+cKGYO",
      "include_colab_link": true
    },
    "kernelspec": {
      "name": "python3",
      "display_name": "Python 3"
    },
    "language_info": {
      "name": "python"
    }
  },
  "cells": [
    {
      "cell_type": "markdown",
      "metadata": {
        "id": "view-in-github",
        "colab_type": "text"
      },
      "source": [
        "<a href=\"https://colab.research.google.com/github/MaricelaMH/Simulacion-1/blob/main/EJERCICIO1.ipynb\" target=\"_parent\"><img src=\"https://colab.research.google.com/assets/colab-badge.svg\" alt=\"Open In Colab\"/></a>"
      ]
    },
    {
      "cell_type": "markdown",
      "source": [
        "Metodo de \"Cuadrado Medio\""
      ],
      "metadata": {
        "id": "KWjXMq3IKCgC"
      }
    },
    {
      "cell_type": "code",
      "source": [
        "# Creamos un numero aleatorio de 4 digitos\n",
        "num=input(\"Ingresa un numero de 4 digitos: \")\n",
        "num=int(num)\n",
        "print(\"El numero ingresado es (xo): \",num)"
      ],
      "metadata": {
        "colab": {
          "base_uri": "https://localhost:8080/"
        },
        "id": "VmWFqgs8KJNZ",
        "outputId": "9068f000-d040-4e46-8283-9c31d31aa121"
      },
      "execution_count": 23,
      "outputs": [
        {
          "output_type": "stream",
          "name": "stdout",
          "text": [
            "Ingresa un numero de 4 digitos: 9999\n",
            "El numero ingresado es (xo):  9999\n"
          ]
        }
      ]
    },
    {
      "cell_type": "code",
      "source": [
        "# Elevamos al cuadrado nuestro numero aleatorio\n",
        "elev_cuad= (num)**2\n",
        "print(\"Numero elevado al cuadrado (x0)^2: \",elev_cuad)"
      ],
      "metadata": {
        "colab": {
          "base_uri": "https://localhost:8080/"
        },
        "id": "AI4ZWhOaLWbq",
        "outputId": "876d8347-4352-46d8-942d-f41cc90008dd"
      },
      "execution_count": 36,
      "outputs": [
        {
          "output_type": "stream",
          "name": "stdout",
          "text": [
            "Numero elevado al cuadrado (x0)^2:  99980001\n"
          ]
        }
      ]
    },
    {
      "cell_type": "code",
      "source": [
        "# Leemos el numero de digitos que tiene nuestro numero\n",
        "cad=str(elev_cuad)\n",
        "num_cif=len(cad)\n",
        "print(\"El numero de digitos es:\",num_cif)\n",
        "\n"
      ],
      "metadata": {
        "colab": {
          "base_uri": "https://localhost:8080/"
        },
        "id": "8QGiUp40MIlR",
        "outputId": "791688ab-bb73-4de4-b26f-254d5d2788ce"
      },
      "execution_count": 37,
      "outputs": [
        {
          "output_type": "stream",
          "name": "stdout",
          "text": [
            "El numero de digitos es: 8\n"
          ]
        }
      ]
    },
    {
      "cell_type": "code",
      "source": [
        "# Agragamos un cero dado que el numero tiene 7 digitos\n",
        "if num_cif == 7 :\n",
        "    aux = 0\n",
        "    nuevo_num= str(aux) + cad\n",
        "    print(nuevo_num)\n",
        "else:\n",
        "      nuevo_num=cad\n",
        "      print(nuevo_num)"
      ],
      "metadata": {
        "colab": {
          "base_uri": "https://localhost:8080/"
        },
        "id": "WAqks1JcQDGE",
        "outputId": "4161679b-263f-4f6c-9923-6d569f7f3f8c"
      },
      "execution_count": 38,
      "outputs": [
        {
          "output_type": "stream",
          "name": "stdout",
          "text": [
            "99980001\n"
          ]
        }
      ]
    },
    {
      "cell_type": "code",
      "source": [
        "# Tomamos el cuadrado medio\n",
        "cad2=str(nuevo_num)\n",
        "elem_cero=int(str(cad2)[:1])\n",
        "\n",
        "cuad_med= int(str(nuevo_num)[2:6])\n",
        "print(\"El cuadrado medio de nuestro numero es (x1): \",cuad_med)\n"
      ],
      "metadata": {
        "colab": {
          "base_uri": "https://localhost:8080/"
        },
        "id": "HuFTz-anUQco",
        "outputId": "42260d85-e937-4b5b-e231-d0589de1d6fa"
      },
      "execution_count": 39,
      "outputs": [
        {
          "output_type": "stream",
          "name": "stdout",
          "text": [
            "El cuadrado medio de nuestro numero es (x1):  9800\n"
          ]
        }
      ]
    },
    {
      "cell_type": "code",
      "source": [
        "# Realizamos un ciclo para nuestro numero obtenido\n",
        "def cuadrado_medio(num_aux,itera) :\n",
        "    num_aux=cuad_med\n",
        "    for _ in range(iter) :\n",
        "      elev_cuad1 = (num_aux)**2\n",
        "      print(\"Nuevo numero elevado al cuadrado: \",elev_cuad1)\n",
        "      cad1= str(elev_cuad1)\n",
        "      num_cif1=len(cad1)\n",
        "      print(\"El numero de cifras del nuevo numero es: \",num_cif1)\n",
        "      if num_cif1 == 7 :\n",
        "        aux1=0\n",
        "        nuev_num1=str(aux1)+cad1\n",
        "        print(nuev_num1)\n",
        "      else:\n",
        "        nuev_num1=cad1\n",
        "        print(nuev_num1)\n",
        "      cad3=str(nuev_num1)\n",
        "      elem_cero1=int(str(cad3)[:1])\n",
        "      cuad_med1=int(str(nuev_num1)[2:6])\n",
        "      print(\"El cuadrado medio de nuestro numero es: \",cuad_med1)\n",
        "\n",
        "      num_aux=cuad_med1\n",
        "    return num_aux\n",
        "    itera=input(\"Cuantas iteraciones deseas: \")\n",
        "    itera=int(itera)\n",
        "\n",
        "\n",
        "\n"
      ],
      "metadata": {
        "id": "WSE3mutbMYZM"
      },
      "execution_count": 42,
      "outputs": []
    }
  ]
}