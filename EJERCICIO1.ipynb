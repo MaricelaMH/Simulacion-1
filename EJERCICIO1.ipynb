{
  "nbformat": 4,
  "nbformat_minor": 0,
  "metadata": {
    "colab": {
      "provenance": [],
      "authorship_tag": "ABX9TyNfxGpHH1WTQKcy8aBXggbQ",
      "include_colab_link": true
    },
    "kernelspec": {
      "name": "python3",
      "display_name": "Python 3"
    },
    "language_info": {
      "name": "python"
    }
  },
  "cells": [
    {
      "cell_type": "markdown",
      "metadata": {
        "id": "view-in-github",
        "colab_type": "text"
      },
      "source": [
        "<a href=\"https://colab.research.google.com/github/MaricelaMH/Simulacion-1/blob/main/EJERCICIO1.ipynb\" target=\"_parent\"><img src=\"https://colab.research.google.com/assets/colab-badge.svg\" alt=\"Open In Colab\"/></a>"
      ]
    },
    {
      "cell_type": "markdown",
      "source": [
        "Metodo de \"Cuadrado Medio\""
      ],
      "metadata": {
        "id": "KWjXMq3IKCgC"
      }
    },
    {
      "cell_type": "code",
      "source": [
        "# Creamos un numero aleatorio de 4 digitos\n",
        "num=input(\"Ingresa un numero de 4 digitos: \")\n",
        "num=int(num)\n",
        "print(\"El numero ingresado es: \",num)"
      ],
      "metadata": {
        "colab": {
          "base_uri": "https://localhost:8080/"
        },
        "id": "VmWFqgs8KJNZ",
        "outputId": "fc0ce96a-7ce2-44fe-df33-f7842a5a5256"
      },
      "execution_count": 10,
      "outputs": [
        {
          "output_type": "stream",
          "name": "stdout",
          "text": [
            "Ingresa un numero de 4 digitos: 1234\n",
            "El numero ingresado es:  1234\n"
          ]
        }
      ]
    },
    {
      "cell_type": "code",
      "source": [
        "# Elevamos al cuadrado nuestro numero aleatorio\n",
        "elev_cuad= (num)*(num)\n",
        "print(\"Numero elevado al cuadrado: \",elev_cuad)"
      ],
      "metadata": {
        "colab": {
          "base_uri": "https://localhost:8080/"
        },
        "id": "AI4ZWhOaLWbq",
        "outputId": "4adb9845-98dd-442e-decf-3f89a45e09d8"
      },
      "execution_count": 11,
      "outputs": [
        {
          "output_type": "stream",
          "name": "stdout",
          "text": [
            "Numero elevado al cuadrado:  1522756\n"
          ]
        }
      ]
    },
    {
      "cell_type": "code",
      "source": [
        "# Leemos el numero de digitos que tiene nuestro numero\n",
        "cad=str(elev_cuad)\n",
        "num_cif=len(cad)\n",
        "print(\"El numero de digitos es:\",num_cif)\n",
        "\n"
      ],
      "metadata": {
        "colab": {
          "base_uri": "https://localhost:8080/"
        },
        "id": "8QGiUp40MIlR",
        "outputId": "552580f6-5230-4a20-9978-4717d56c19af"
      },
      "execution_count": 15,
      "outputs": [
        {
          "output_type": "stream",
          "name": "stdout",
          "text": [
            "El numero de digitos es: 7\n"
          ]
        }
      ]
    },
    {
      "cell_type": "code",
      "source": [
        "# Agragamos un cero dado que el numero tiene 7 digitos\n",
        "if num_cif == 7 :\n",
        "    aux = 0\n",
        "    nuevo_num= str(aux) + cad\n",
        "    print(nuevo_num)\n",
        "else:\n",
        "      nuevo_num=cad\n",
        "      print(nuevo_num)"
      ],
      "metadata": {
        "colab": {
          "base_uri": "https://localhost:8080/"
        },
        "id": "WAqks1JcQDGE",
        "outputId": "62f2b306-12f8-4b29-c8aa-fc40e5b7dc4a"
      },
      "execution_count": 34,
      "outputs": [
        {
          "output_type": "stream",
          "name": "stdout",
          "text": [
            "01522756\n"
          ]
        }
      ]
    },
    {
      "cell_type": "code",
      "source": [
        "# Tomamos el cuadrado medio\n",
        "cad2=str(nuevo_num)\n",
        "elem_cero=int(str(cad2)[:1])\n",
        "\n",
        "if\n",
        "cuad_med= int(str(nuevo_num)[:5])\n",
        "print(cuad_med)\n"
      ],
      "metadata": {
        "colab": {
          "base_uri": "https://localhost:8080/"
        },
        "id": "HuFTz-anUQco",
        "outputId": "ad00aace-bda6-4105-e2d6-5e90c5189c15"
      },
      "execution_count": 40,
      "outputs": [
        {
          "output_type": "stream",
          "name": "stdout",
          "text": [
            "1522\n"
          ]
        }
      ]
    }
  ]
}