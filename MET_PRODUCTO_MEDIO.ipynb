{
  "nbformat": 4,
  "nbformat_minor": 0,
  "metadata": {
    "colab": {
      "provenance": [],
      "authorship_tag": "ABX9TyOYPPyWH/k9QaybLIZOsHTS",
      "include_colab_link": true
    },
    "kernelspec": {
      "name": "python3",
      "display_name": "Python 3"
    },
    "language_info": {
      "name": "python"
    }
  },
  "cells": [
    {
      "cell_type": "markdown",
      "metadata": {
        "id": "view-in-github",
        "colab_type": "text"
      },
      "source": [
        "<a href=\"https://colab.research.google.com/github/MaricelaMH/Simulacion-1/blob/main/MET_PRODUCTO_MEDIO.ipynb\" target=\"_parent\"><img src=\"https://colab.research.google.com/assets/colab-badge.svg\" alt=\"Open In Colab\"/></a>"
      ]
    },
    {
      "cell_type": "markdown",
      "source": [
        "# M É T O D O - D E L - P R O D U C T O - M E D I O\n",
        "El método del producto medio es un método para generar números pseudoaleatorios. La idea básica es multiplicar dos números iniciales, llamados semillas, y luego extraer una parte intermedia del resultado para usarla como la próxima semilla. Este proceso se repite para generar una secuencia de números aparentemente aleatorios.\n",
        "\n",
        "* P A S O S\n",
        "\n",
        "\n",
        "1.   Seleccionamos dos semillas iniciales, generalmente números enteros positivos\n",
        "2.   Multiplicamos las dos semillas para obtener un producto.\n",
        "3.   Extraemos una parte intermedia del producto resultante.\n",
        "4.   Utilizamos esta parte intermedia como la próxima semilla.\n",
        "5.   Se repiten los pasos 2 a 4 para generar una secuencia de números.\n",
        "\n",
        "Por lo que aplicamos el método en el siguiente código\n",
        "\n",
        "\n"
      ],
      "metadata": {
        "id": "AsII67zKAur4"
      }
    },
    {
      "cell_type": "code",
      "source": [
        "print(\"    M É T O D O  D E L  P R O D U C T O   \")\n",
        "print(\"                M E D I O                 \")\n",
        "print(\"------------------------------------------------\")\n",
        "\n",
        "from tabulate import tabulate\n",
        "\n",
        "imp = set()\n",
        "resultados = []\n",
        "\n",
        "# Pedimos que el usuario ingrese 4 cifras\n",
        "iter = int(input(\"Ingrese la cantidad de iteraciones deseadas: \"))\n",
        "X_n1 = input(\"Ingrese X_n-1 (tres cifras): \")\n",
        "X_n = input(\"Ingrese X_n (tres cifras): \")\n",
        "\n",
        "# Aseguramos que el número ingresado sea de 3 cifras, de lo contrario, marcará error\n",
        "while len(X_n1) != 3 or len(X_n) != 3 or not X_n1.isdigit() or not X_n.isdigit():\n",
        "    X_n1 = input(\"Ingrese X_n-1 (tres cifras): \")\n",
        "    X_n = input(\"Ingrese X_n (tres cifras): \")\n",
        "\n",
        "print(\"------------------------------------------------\")\n",
        "print(\"\\n LOS RESULTADOS SE MUESTRAN ACONTINUACIÓN : \\n\")\n",
        "# Convertimos el número ingresado a entero\n",
        "X_n1 = int(X_n1)\n",
        "X_n = int(X_n)\n",
        "\n",
        "# Aplicamos el método del producto medio\n",
        "for i in range(iter):\n",
        "    prod = X_n1 * X_n\n",
        "    cad = str(prod)\n",
        "\n",
        "    # Aseguramos que el número tenga al menos 8 dígitos\n",
        "    nuevo_num = cad.zfill(3)[1:4]\n",
        "\n",
        "    # Si nuestro numero es impar, agregaremos un cero al inicio\n",
        "    num_str = str(prod)\n",
        "    while len(num_str) % 2 == 0:\n",
        "        num_str = \"0\" + num_str\n",
        "\n",
        "    # Imprimimos los resultados en una tabla\n",
        "    resultados.append((i, X_n1, X_n, num_str, nuevo_num))\n",
        "    imp.add(X_n1)\n",
        "\n",
        "    headers = [\"n\", \"X_n-1\", \"X_n\", \"(X_n)(X_n-1)\", \"PROD_MED\"]\n",
        "\n",
        "    X_n1 = X_n\n",
        "    X_n = int(nuevo_num)\n",
        "\n",
        "print(tabulate(resultados, headers=headers, tablefmt=\"grid\"))\n"
      ],
      "metadata": {
        "id": "Oojyoy5MAti1",
        "outputId": "30a3d891-60fc-4aa3-be87-a4bf1fec137a",
        "colab": {
          "base_uri": "https://localhost:8080/"
        }
      },
      "execution_count": 10,
      "outputs": [
        {
          "output_type": "stream",
          "name": "stdout",
          "text": [
            "    M É T O D O  D E L  P R O D U C T O   \n",
            "                M E D I O                 \n",
            "------------------------------------------------\n",
            "Ingrese la cantidad de iteraciones deseadas: 10\n",
            "Ingrese X_n-1 (tres cifras): 123\n",
            "Ingrese X_n (tres cifras): 456\n",
            "------------------------------------------------\n",
            "\n",
            " LOS RESULTADOS SE MUESTRAN ACONTINUACIÓN : \n",
            "\n",
            "+-----+---------+-------+----------------+------------+\n",
            "|   n |   X_n-1 |   X_n |   (X_n)(X_n-1) |   PROD_MED |\n",
            "+=====+=========+=======+================+============+\n",
            "|   0 |     123 |   456 |          56088 |        608 |\n",
            "+-----+---------+-------+----------------+------------+\n",
            "|   1 |     456 |   608 |        0277248 |        772 |\n",
            "+-----+---------+-------+----------------+------------+\n",
            "|   2 |     608 |   772 |        0469376 |        693 |\n",
            "+-----+---------+-------+----------------+------------+\n",
            "|   3 |     772 |   693 |        0534996 |        349 |\n",
            "+-----+---------+-------+----------------+------------+\n",
            "|   4 |     693 |   349 |        0241857 |        418 |\n",
            "+-----+---------+-------+----------------+------------+\n",
            "|   5 |     349 |   418 |        0145882 |        458 |\n",
            "+-----+---------+-------+----------------+------------+\n",
            "|   6 |     418 |   458 |        0191444 |        914 |\n",
            "+-----+---------+-------+----------------+------------+\n",
            "|   7 |     458 |   914 |        0418612 |        186 |\n",
            "+-----+---------+-------+----------------+------------+\n",
            "|   8 |     914 |   186 |        0170004 |        700 |\n",
            "+-----+---------+-------+----------------+------------+\n",
            "|   9 |     186 |   700 |        0130200 |        302 |\n",
            "+-----+---------+-------+----------------+------------+\n"
          ]
        }
      ]
    }
  ]
}