{
  "nbformat": 4,
  "nbformat_minor": 0,
  "metadata": {
    "colab": {
      "provenance": [],
      "authorship_tag": "ABX9TyObTbwdK80FytHCWXm0M3sZ",
      "include_colab_link": true
    },
    "kernelspec": {
      "name": "python3",
      "display_name": "Python 3"
    },
    "language_info": {
      "name": "python"
    }
  },
  "cells": [
    {
      "cell_type": "markdown",
      "metadata": {
        "id": "view-in-github",
        "colab_type": "text"
      },
      "source": [
        "<a href=\"https://colab.research.google.com/github/MaricelaMH/Simulacion-1/blob/main/EJERCICIO1_3P.ipynb\" target=\"_parent\"><img src=\"https://colab.research.google.com/assets/colab-badge.svg\" alt=\"Open In Colab\"/></a>"
      ]
    },
    {
      "cell_type": "markdown",
      "source": [
        "     E   J   E   R   C   I   C   I   O       1\n",
        "\n",
        "1. Graficamente podemos observar que:\n",
        "\n",
        "$$a= 190 , b=230, c=210$$\n",
        "\n",
        "2. Definimos nuestra función de densidad\n",
        "\n",
        "$$\n",
        "f(x) =\n",
        "\\begin{array}{ll}\n",
        "\\left\\{\n",
        "\\begin{array}{ll}\n",
        "    0 & \\text{si } x < 190, \\\\\n",
        "    \\frac{2(x-190)}{800} & \\text{si } 190 \\leq x \\leq 210, \\\\\n",
        "    \\frac{2(230 - x)}{800} & \\text{si } 210 < x \\leq 230, \\\\\n",
        "    0 & \\text{si } x > 230\n",
        "\\end{array}\n",
        "\\right.\n",
        "\\end{array}\n",
        "$$\n",
        "\n",
        "3. Queremos calcular la probabilida de\n",
        "\n",
        "$$ P (\\sum_{i=1}^{5} x_i > 1000 )$$\n",
        "\n",
        "para  encontrar  la  probabilidad  de  que  la  suma  de  los  pesos  de  5  tinas exceda la capacidad del camión, en este caso $x_i$ representa el peso de la tina, por lo que si dividimos nuestra probabilidad anterior en 5, la capacidad de cada tina correspondera a la probabilidad siguiente:\n",
        "\n",
        "$$ P( x > 200)$$\n",
        "\n",
        "El teorema del limite central que nos dice que cuando la población muestrada es aproximadamente simetrica, la distribución muestral de $\\bar{x}$ se  proxima a una distribución normal para valores relativamente pequeños de $n$ , en este caso para $n=5$, con media $\\mu$ y desviasión estándar $\\frac{\\theta}{\\sqrt{n}}$\n",
        "\n",
        "4. Calculamos la media\n",
        "\n",
        "$$ \\mu =  \\frac{a+b+c}{3} = \\frac{190+230+210}{3} = 210$$\n",
        "\n",
        "5. Calculamos la varianza\n",
        "\n",
        "$$ \\sigma^2 =  \\frac{a^2+b^2+c^2-ab-ac-bc}{18} $$ $$ = \\frac{(190)^2+(230)^2+(210)^2-(190)(230)-(190)(210)-(230)(210)}{18} $$ $$= \\frac{200}{3} \\approx{66.7} $$\n",
        "\n",
        "6. Dado que se aproxima a una normal, tendremos que\n",
        "\n",
        "\n",
        "\\begin{align*}\n",
        "P\\left( \\bar{x} > 200 \\right) &= P\\left( \\bar{x} - \\mu > 200 \\right) \\\\\n",
        "&= P\\left( \\frac{\\bar{x} - \\mu}{\\sigma}\\sqrt{n} > 200 \\right) \\\\\n",
        "&= P\\left( \\frac{\\bar{x} - \\mu}{\\sigma} \\sqrt{n}  > \\frac{\\bar{x} - \\mu}{\\sigma}\\sqrt{n} \\right) \\\\\n",
        "&= P\\left( Z > \\frac{\\bar{x} - \\mu}{\\sigma}\\sqrt{5} \\right)\n",
        "\\end{align*}\n",
        "\n",
        "7. Sustituyendo valores tenomos que:\n",
        "\n",
        "\\begin{align*}\n",
        "P\\left( Z > \\frac{\\bar{x} - \\mu}{\\sigma}\\sqrt{5} \\right) &= P\\left( Z > \\frac{200 - 210}{\\sqrt{66.7}}\\sqrt{5} \\right) \\\\\n",
        "&= P(Z > -2.73) \\\\\n",
        "&= 1 - P(Z < -2.73) \\\\\n",
        "&= 1 - 0.0031 \\\\\n",
        "&= 0.9969\n",
        "\\end{align*}\n",
        "\n",
        "* Para simular esto, definiremos nuestra función acumulada\n",
        "\n",
        "$$\n",
        "F(x) =\n",
        "\\begin{array}{ll}\n",
        "\\left\\{\n",
        "\\begin{array}{ll}\n",
        "    0 & \\text{si } x \\leq 190, \\\\\n",
        "  \\frac{(x-190)^2}{800} & \\text{si } 190 \\leq x \\leq 210, \\\\\n",
        "    1- \\frac{(230-x)^2}{800} & \\text{si } 210 < x \\leq 230, \\\\\n",
        "    1 & \\text{si } 230 \\leq x\n",
        "\\end{array}\n",
        "\\right.\n",
        "\\end{array}\n",
        "$$\n",
        "\n",
        "* Despejamos $x$ de nuestra función en partes:\n",
        "\n",
        "Caso 1:\n",
        "\n",
        "$$ \\frac{(x-190)^2}{800} = u $$\n",
        "$$ ⟹  (x-190)^2 = 800u $$\n",
        "$$ ⟹  x = \\sqrt{800u} + 190 $$\n",
        "\n",
        "Caso 2:\n",
        "\n",
        "$$1- \\frac{(230-x)^2}{800} = u$$\n",
        "$$ ⟹ - \\frac{(230-x)^2}{800} = u-1$$\n",
        "$$ ⟹ (-230+x)^2 = 800(u-1) $$\n",
        "$$ ⟹ x= -\\sqrt{800(1-u)}+230 $$\n",
        "\n",
        "* Asi nuestra inversa es:\n",
        "$$\n",
        "F(x)^{-1} =\n",
        "\\begin{array}{ll}\n",
        "\\left\\{\n",
        "\\begin{array}{ll}\n",
        "    \\sqrt{800u} + 190 & \\text{si } 0 \\leq x \\leq 0.5, \\\\\n",
        "    -\\sqrt{800(1-u)}+230 & \\text{si } 0.5 < x \\leq 1, \\\\\n",
        "\\end{array}\n",
        "\\right.\n",
        "\\end{array}\n",
        "$$"
      ],
      "metadata": {
        "id": "E-OqeY5PMc7M"
      }
    },
    {
      "cell_type": "markdown",
      "source": [
        "* Vamos a codificar nuestra distribución, para ello ingresamos nuestras librerias"
      ],
      "metadata": {
        "id": "ZARNlCq5cOWH"
      }
    },
    {
      "cell_type": "code",
      "execution_count": 83,
      "metadata": {
        "id": "TqlH3NCLAT18"
      },
      "outputs": [],
      "source": [
        "import random as rnd\n",
        "import numpy as np\n",
        "import matplotlib.pyplot as plt\n",
        "import math"
      ]
    },
    {
      "cell_type": "markdown",
      "source": [
        "P S E U D O C O D I G O\n",
        "\n",
        "1. Generar un número uniforme $u$\n",
        "2. Si $u < 0.5$  entonces $$x = \\sqrt{800u} + 190 $$\n",
        "   si no $$ x = -\\sqrt{800(1-u)}+230$$\n",
        "3. Salir x\n"
      ],
      "metadata": {
        "id": "FBf8rVAZcjKA"
      }
    },
    {
      "cell_type": "code",
      "source": [
        "def muestra(n):\n",
        "  Lista = []\n",
        "  for i in range(n):\n",
        "    #Generamos una uniforme\n",
        "    u = rnd.random() #Genera números aleatorios entre 0 y 1\n",
        "    if 0 < u < 1/2:\n",
        "       x = math.sqrt(800*u) + 190\n",
        "    else:\n",
        "       x = 230 - math.sqrt(800*(1-u))\n",
        "    Lista.append(x)#Agregamos los elementos a una lista\n",
        "  return Lista\n"
      ],
      "metadata": {
        "id": "LEvnvt3cJcKw"
      },
      "execution_count": 84,
      "outputs": []
    },
    {
      "cell_type": "markdown",
      "source": [
        "* Realizamos la prueba tantas veces que queramos"
      ],
      "metadata": {
        "id": "OH2WJZnbewfF"
      }
    },
    {
      "cell_type": "code",
      "source": [
        "G=muestra(1000000)"
      ],
      "metadata": {
        "id": "9hcCBuPRsaV0"
      },
      "execution_count": 85,
      "outputs": []
    },
    {
      "cell_type": "markdown",
      "source": [
        "* Graficamos los resultados."
      ],
      "metadata": {
        "id": "6HLeUwi1fCBd"
      }
    },
    {
      "cell_type": "code",
      "source": [
        "plt.hist(G, bins=50, color='lightblue')"
      ],
      "metadata": {
        "colab": {
          "base_uri": "https://localhost:8080/",
          "height": 787
        },
        "id": "-dVRMS5us7mj",
        "outputId": "297598e1-97d0-4d00-dd7d-80ce2d7292b3"
      },
      "execution_count": 86,
      "outputs": [
        {
          "output_type": "execute_result",
          "data": {
            "text/plain": [
              "(array([  829.,  2482.,  4011.,  5677.,  7276.,  8772., 10349., 12060.,\n",
              "        13694., 15432., 16640., 18069., 20017., 21522., 23038., 24742.,\n",
              "        26262., 27823., 29646., 31116., 32832., 33987., 36286., 37771.,\n",
              "        39108., 39054., 37292., 36165., 34484., 33060., 31057., 29520.,\n",
              "        27986., 26339., 24808., 23320., 21527., 20125., 18673., 16881.,\n",
              "        15504., 13428., 11931., 10416.,  8788.,  7301.,  5589.,  3999.,\n",
              "         2483.,   829.]),\n",
              " array([190.01339504, 190.81253386, 191.61167269, 192.41081152,\n",
              "        193.20995035, 194.00908918, 194.80822801, 195.60736683,\n",
              "        196.40650566, 197.20564449, 198.00478332, 198.80392215,\n",
              "        199.60306097, 200.4021998 , 201.20133863, 202.00047746,\n",
              "        202.79961629, 203.59875512, 204.39789394, 205.19703277,\n",
              "        205.9961716 , 206.79531043, 207.59444926, 208.39358808,\n",
              "        209.19272691, 209.99186574, 210.79100457, 211.5901434 ,\n",
              "        212.38928223, 213.18842105, 213.98755988, 214.78669871,\n",
              "        215.58583754, 216.38497637, 217.18411519, 217.98325402,\n",
              "        218.78239285, 219.58153168, 220.38067051, 221.17980934,\n",
              "        221.97894816, 222.77808699, 223.57722582, 224.37636465,\n",
              "        225.17550348, 225.9746423 , 226.77378113, 227.57291996,\n",
              "        228.37205879, 229.17119762, 229.97033644]),\n",
              " <BarContainer object of 50 artists>)"
            ]
          },
          "metadata": {},
          "execution_count": 86
        },
        {
          "output_type": "display_data",
          "data": {
            "text/plain": [
              "<Figure size 640x480 with 1 Axes>"
            ],
            "image/png": "[encoded data removed]"
          },
          "metadata": {}
        }
      ]
    },
    {
      "cell_type": "markdown",
      "source": [
        "* Verificamos que ciertamente se sigue una distribución triangular.\n",
        "* Ahora veamos que si se proxima a una normal, para ello:\n"
      ],
      "metadata": {
        "id": "5Ih9_jXAg-xr"
      }
    },
    {
      "cell_type": "markdown",
      "source": [
        "* Ahora simularemos las probabilidades"
      ],
      "metadata": {
        "id": "Fboynj8NVn4u"
      }
    },
    {
      "cell_type": "markdown",
      "source": [
        "Veamos que $$x_i \\sim Tri(a,b,c) : peso$$\n",
        "\n",
        "la condición que tenemos es: $$ \\sum_{i=1}^{5} x_i > 1000 $$\n",
        "\n",
        "por lo que, acontinuación , simularemos nuestra probabilidad"
      ],
      "metadata": {
        "id": "wdD9CTiKYw6S"
      }
    },
    {
      "cell_type": "code",
      "source": [
        "lista = []\n",
        "cont = 0\n",
        "N = 1000000\n",
        "prob = []\n",
        "\n",
        "for i in range (N):\n",
        "   if sum(muestra(5)) > 1000:\n",
        "       cont = cont + 1\n",
        "   prob.append(cont/(i+1))\n",
        "p = cont/N\n",
        "print(p)\n",
        ""
      ],
      "metadata": {
        "colab": {
          "base_uri": "https://localhost:8080/"
        },
        "id": "WCsf8Ka3Vl2T",
        "outputId": "068bf0d9-c422-416e-a128-a347673ea457"
      },
      "execution_count": 105,
      "outputs": [
        {
          "output_type": "stream",
          "name": "stdout",
          "text": [
            "0.997515\n"
          ]
        }
      ]
    },
    {
      "cell_type": "markdown",
      "source": [
        "* Vemos el comportamiento de nuestra probabilidad en la siguiente grafica"
      ],
      "metadata": {
        "id": "4T2eTBA35ljh"
      }
    },
    {
      "cell_type": "code",
      "source": [
        "plt.plot(prob)"
      ],
      "metadata": {
        "id": "pa_DFIQi5k7e",
        "outputId": "b8fc282e-4a3b-44fe-fe27-140f2c4101f7",
        "colab": {
          "base_uri": "https://localhost:8080/",
          "height": 465
        }
      },
      "execution_count": 106,
      "outputs": [
        {
          "output_type": "execute_result",
          "data": {
            "text/plain": [
              "[<matplotlib.lines.Line2D at 0x7e8353d237f0>]"
            ]
          },
          "metadata": {},
          "execution_count": 106
        },
        {
          "output_type": "display_data",
          "data": {
            "text/plain": [
              "<Figure size 640x480 with 1 Axes>"
            ],
            "image/png": "[encoded data removed]"
          },
          "metadata": {}
        }
      ]
    },
    {
      "cell_type": "markdown",
      "source": [
        "       E   J   E   R   C   I   C   I   O    2\n",
        "\n",
        "1. En este caso, tomando las siguientes condiciones, calcularemos el costo esperado de enviar la mercancia:\n",
        "\n",
        " * Cada vez que la capacidad del camión es excedida una tina es enviada a través de otra compañía a un costo de $200.\n",
        "\n",
        " * El costo promedio anual de un nuevo camión es de $60,000.\n",
        "\n",
        " * Se trabajan 5 días a la semana y 52 semanas al año.\n",
        "\n",
        " * La la probabilidad de que el peso de las tinas exceda la capacidad del camión es de 0.9969\n",
        "\n",
        " * La capacidad del camión es de una tonelada.\n",
        "\n",
        "Con lo anterior , tenemos que\n",
        "\n",
        "$$ (5 \\text{ / dias})*(52 \\text{ / semanas}) = 260 \\text{ /dias}$$\n",
        "\n",
        "por lo que\n",
        "\n",
        "$$ 260 \\text{ dias} \\rightarrow  100\\% $$\n",
        "$$ x → 99.7 \\% $$\n",
        "$$  \\therefore x = 259 \\text{ / dias al año} $$\n",
        "\n",
        "por lo tanto el costo sera\n",
        "$$ \\text{ Costo } = 259 * $200= 51 800$$\n",
        "\n",
        "lo que quiere decir , que lo mas conveniente es enviar las tinas sobrantes con la otra compañia."
      ],
      "metadata": {
        "id": "9KqsbUWYlQIf"
      }
    },
    {
      "cell_type": "code",
      "source": [
        "lista = []\n",
        "cont = 0\n",
        "costo = 0\n",
        "cost = []\n",
        "N = 260 # Numero de dias al año\n",
        "prob = []\n",
        "\n",
        "for i in range (N):\n",
        "   if sum(muestra(5)) > 1000:\n",
        "       costo = costo + 200\n",
        "   cost.append(costo)\n",
        "print(cost)"
      ],
      "metadata": {
        "id": "ofvtz1za4t9b",
        "outputId": "2c526864-01f8-4e05-8147-23666a26e8b6",
        "colab": {
          "base_uri": "https://localhost:8080/"
        }
      },
      "execution_count": 97,
      "outputs": [
        {
          "output_type": "stream",
          "name": "stdout",
          "text": [
            "[200, 400, 600, 800, 1000, 1200, 1400, 1600, 1800, 2000, 2200, 2400, 2600, 2800, 3000, 3200, 3400, 3600, 3800, 4000, 4200, 4400, 4600, 4800, 5000, 5200, 5400, 5600, 5800, 6000, 6200, 6400, 6600, 6800, 7000, 7200, 7400, 7600, 7800, 8000, 8200, 8400, 8600, 8800, 9000, 9200, 9400, 9600, 9800, 10000, 10200, 10400, 10600, 10800, 11000, 11200, 11400, 11600, 11800, 12000, 12200, 12400, 12600, 12800, 13000, 13200, 13400, 13600, 13800, 14000, 14200, 14400, 14600, 14800, 15000, 15200, 15400, 15600, 15800, 16000, 16200, 16400, 16600, 16800, 17000, 17200, 17400, 17600, 17800, 18000, 18200, 18400, 18600, 18800, 19000, 19200, 19400, 19600, 19800, 20000, 20200, 20400, 20600, 20800, 21000, 21200, 21400, 21600, 21800, 22000, 22200, 22400, 22600, 22800, 23000, 23200, 23400, 23600, 23800, 24000, 24200, 24400, 24600, 24800, 25000, 25200, 25400, 25600, 25800, 26000, 26200, 26400, 26600, 26800, 27000, 27200, 27400, 27600, 27800, 28000, 28200, 28400, 28600, 28800, 29000, 29200, 29400, 29600, 29800, 30000, 30200, 30400, 30600, 30800, 31000, 31200, 31400, 31600, 31800, 32000, 32200, 32400, 32600, 32800, 33000, 33200, 33400, 33600, 33800, 34000, 34200, 34400, 34600, 34800, 35000, 35200, 35400, 35600, 35800, 36000, 36200, 36400, 36600, 36800, 37000, 37200, 37400, 37600, 37800, 38000, 38200, 38400, 38600, 38800, 39000, 39200, 39400, 39600, 39800, 40000, 40200, 40400, 40600, 40800, 41000, 41200, 41400, 41600, 41800, 42000, 42200, 42400, 42600, 42800, 43000, 43200, 43400, 43600, 43800, 44000, 44200, 44400, 44600, 44800, 45000, 45200, 45400, 45600, 45800, 46000, 46200, 46400, 46600, 46800, 47000, 47200, 47400, 47600, 47800, 48000, 48200, 48400, 48600, 48800, 49000, 49200, 49400, 49600, 49800, 50000, 50200, 50400, 50600, 50800, 51000, 51200, 51400, 51600, 51800, 52000]\n"
          ]
        }
      ]
    },
    {
      "cell_type": "code",
      "source": [
        "plt.plot(cost)\n",
        "plt.axhline(60000,color=\"red\")"
      ],
      "metadata": {
        "id": "jmqNrk42z30F",
        "outputId": "a100426f-55a4-4fd2-dc73-f0e51616d1f7",
        "colab": {
          "base_uri": "https://localhost:8080/",
          "height": 447
        }
      },
      "execution_count": 101,
      "outputs": [
        {
          "output_type": "execute_result",
          "data": {
            "text/plain": [
              "<matplotlib.lines.Line2D at 0x7e835ff07ca0>"
            ]
          },
          "metadata": {},
          "execution_count": 101
        },
        {
          "output_type": "display_data",
          "data": {
            "text/plain": [
              "<Figure size 640x480 with 1 Axes>"
            ],
            "image/png": "[encoded data removed]"
          },
          "metadata": {}
        }
      ]
    },
    {
      "cell_type": "markdown",
      "source": [
        "Asi el costo anual tiende a 51800"
      ],
      "metadata": {
        "id": "TJav8Sah07uj"
      }
    }
  ]
}