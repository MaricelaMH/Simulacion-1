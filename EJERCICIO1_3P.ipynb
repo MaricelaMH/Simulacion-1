{
  "nbformat": 4,
  "nbformat_minor": 0,
  "metadata": {
    "colab": {
      "provenance": [],
      "authorship_tag": "ABX9TyOcV9p1SCZCwf3hEMP2FoW8",
      "include_colab_link": true
    },
    "kernelspec": {
      "name": "python3",
      "display_name": "Python 3"
    },
    "language_info": {
      "name": "python"
    }
  },
  "cells": [
    {
      "cell_type": "markdown",
      "metadata": {
        "id": "view-in-github",
        "colab_type": "text"
      },
      "source": [
        "<a href=\"https://colab.research.google.com/github/MaricelaMH/Simulacion-1/blob/main/EJERCICIO1_3P.ipynb\" target=\"_parent\"><img src=\"https://colab.research.google.com/assets/colab-badge.svg\" alt=\"Open In Colab\"/></a>"
      ]
    },
    {
      "cell_type": "markdown",
      "source": [
        "EJERCICIO 1\n",
        "\n",
        "1. Graficamente podemos observar que:\n",
        "\n",
        "$$a= 190 , b=230, c=210$$\n",
        "\n",
        "2. Definimos nuestra funsión de densidad\n",
        "\n",
        "$$\n",
        "f(x) =\n",
        "\\begin{array}{ll}\n",
        "\\left\\{\n",
        "\\begin{array}{ll}\n",
        "    0 & \\text{si } x < 190, \\\\\n",
        "    \\frac{2(x-190)}{800} & \\text{si } 190 \\leq x \\leq 210, \\\\\n",
        "    \\frac{2(230 - x)}{800} & \\text{si } 210 < x \\leq 230, \\\\\n",
        "    0 & \\text{si } x > 230\n",
        "\\end{array}\n",
        "\\right.\n",
        "\\end{array}\n",
        "$$\n",
        "\n",
        "3. Queremos calcular la probabilida de\n",
        "\n",
        "$$ P (\\sum_{i=1}^{5} x_i > 1000 )$$\n",
        "\n",
        "para  encontrar  la  probabilidad  de  que  la  suma  de  los  pesos  de  5  tinas exceda la capacidad del camión, en este caso $x_i$ representa el peso de la tina, por lo que si dividimos nuestra probabilidad anterior en 5, la capacidad de cada tina correspondera a la probabilidad siguiente:\n",
        "\n",
        "$$ P( x > 200)$$\n",
        "\n",
        "El teorema del limite central que nos dice que cuando la población muestrada es aproximadamente simetrica, la distribución muestral de $\\bar{x}$ se  proxima a una distribución normal para valores relativamente pequeños de $n$ , en este caso para $n=5$, con media $\\mu$ y desviasión estándar $\\frac{\\theta}{\\sqrt{n}}$\n",
        "\n",
        "4. Calculamos la media\n",
        "\n",
        "$$ \\mu =  \\frac{a+b+c}{3} = \\frac{190+230+210}{3} = 210$$\n",
        "\n",
        "5. Calculamos la varianza\n",
        "\n",
        "$$ \\sigma^2 =  \\frac{a^2+b^2+c^2-ab-ac-bc}{18} $$ $$ = \\frac{(190)^2+(230)^2+(210)^2-(190)(230)-(190)(210)-(230)(210)}{18} $$ $$= \\frac{200}{3} \\approx{66.7} $$\n",
        "\n",
        "6. Dado que se aproxima a una normal, tendremos que\n",
        "\n",
        "\\begin{document}\n",
        "\n",
        "\\begin{align*}\n",
        "P\\left( \\bar{x} > 200 \\right) &= P\\left( \\bar{x} - \\mu > 200 \\right) \\\\\n",
        "&= P\\left( \\frac{\\bar{x} - \\mu}{\\sigma}\\sqrt{n} > 200 \\right) \\\\\n",
        "&= P\\left( \\frac{\\bar{x} - \\mu}{\\sigma} \\sqrt{n}  > \\frac{\\bar{x} - \\mu}{\\sigma}\\sqrt{n} \\right) \\\\\n",
        "&= P\\left( Z > \\frac{\\bar{x} - \\mu}{\\sigma}\\sqrt{5} \\right)\n",
        "\\end{align*}\n",
        "\n",
        "7. Sustituyendo valores tenomos que:\n",
        "\n",
        "\\begin{align*}\n",
        "P\\left( Z > \\frac{\\bar{x} - \\mu}{\\sigma}\\sqrt{5} \\right) &= P\\left( Z > \\frac{200 - 210}{\\sqrt{66.7}}\\sqrt{5} \\right) \\\\\n",
        "&= P(Z > -2.73) \\\\\n",
        "&= 1 - P(Z < -2.73) \\\\\n",
        "&= 1 - 0.0031 \\\\\n",
        "&= 0.9969\n",
        "\\end{align*}\n",
        "\n",
        "* Para simular esto, definiremos nuestra funsión acumulada\n",
        "\n",
        "$$\n",
        "F(x) =\n",
        "\\begin{array}{ll}\n",
        "\\left\\{\n",
        "\\begin{array}{ll}\n",
        "    0 & \\text{si } x \\leq 190, \\\\\n",
        "  \\frac{(x-190)^2}{800} & \\text{si } 190 \\leq x \\leq 210, \\\\\n",
        "    1- \\frac{(230-x)^2}{800} & \\text{si } 210 < x \\leq 230, \\\\\n",
        "    1 & \\text{si } 230 \\leq x\n",
        "\\end{array}\n",
        "\\right.\n",
        "\\end{array}\n",
        "$$\n",
        "\n",
        "* Despejamos $x$ de nuestra funsión en partes:\n",
        "\n",
        "Caso 1:\n",
        "\n",
        "$$ \\frac{(x-190)^2}{800} = u $$\n",
        "$$ ⟹  (x-190)^2 = 800u $$\n",
        "$$ ⟹  x = \\sqrt{800u} + 190 $$\n",
        "\n",
        "Caso 2:\n",
        "\n",
        "$$1- \\frac{(230-x)^2}{800} = u$$\n",
        "$$ ⟹ - \\frac{(230-x)^2}{800} = u-1$$\n",
        "$$ ⟹ (-230+x)^2 = 800(u-1) $$\n",
        "$$ ⟹ x= -\\sqrt{800(1-u)}+230 $$\n",
        "\n",
        "* Asi nuestra inversa es:\n",
        "$$\n",
        "F(x)^{-1} =\n",
        "\\begin{array}{ll}\n",
        "\\left\\{\n",
        "\\begin{array}{ll}\n",
        "    \\sqrt{800u} + 190 & \\text{si } 0 \\leq x \\leq 0.5, \\\\\n",
        "    -\\sqrt{800(1-u)}+230 & \\text{si } 0.5 < x \\leq 1, \\\\\n",
        "\\end{array}\n",
        "\\right.\n",
        "\\end{array}\n",
        "$$"
      ],
      "metadata": {
        "id": "E-OqeY5PMc7M"
      }
    },
    {
      "cell_type": "code",
      "execution_count": 6,
      "metadata": {
        "id": "TqlH3NCLAT18"
      },
      "outputs": [],
      "source": [
        "import random as rnd\n",
        "import numpy as np\n",
        "import matplotlib.pyplot as plt\n",
        "import math"
      ]
    },
    {
      "cell_type": "code",
      "source": [
        "def probtria(n):\n",
        "    Lista = []\n",
        "    for i in range(n):\n",
        "     j=0\n",
        "    for j in range(5):\n",
        "       u=rnd.random()\n",
        "       if  u <= 0.5:\n",
        "          x =(800*u)**0.5 + 190\n",
        "       else:\n",
        "          x=230-(800*(1-u))**0.5\n",
        "    Lista.append(x)\n",
        "    return Lista"
      ],
      "metadata": {
        "id": "LEvnvt3cJcKw"
      },
      "execution_count": 69,
      "outputs": []
    },
    {
      "cell_type": "code",
      "source": [
        "G=probtria(100000)"
      ],
      "metadata": {
        "id": "9hcCBuPRsaV0"
      },
      "execution_count": 70,
      "outputs": []
    },
    {
      "cell_type": "code",
      "source": [
        "plt.hist(G, bins=50, color='lightblue')"
      ],
      "metadata": {
        "colab": {
          "base_uri": "https://localhost:8080/",
          "height": 719
        },
        "id": "-dVRMS5us7mj",
        "outputId": "b8b77057-14c3-40a5-9224-eae3f1e6bab8"
      },
      "execution_count": 71,
      "outputs": [
        {
          "output_type": "execute_result",
          "data": {
            "text/plain": [
              "(array([0., 0., 0., 0., 0., 0., 0., 0., 0., 0., 0., 0., 0., 0., 0., 0., 0.,\n",
              "        0., 0., 0., 0., 0., 0., 0., 0., 1., 0., 0., 0., 0., 0., 0., 0., 0.,\n",
              "        0., 0., 0., 0., 0., 0., 0., 0., 0., 0., 0., 0., 0., 0., 0., 0.]),\n",
              " array([220.95911247, 220.97911247, 220.99911247, 221.01911247,\n",
              "        221.03911247, 221.05911247, 221.07911247, 221.09911247,\n",
              "        221.11911247, 221.13911247, 221.15911247, 221.17911247,\n",
              "        221.19911247, 221.21911247, 221.23911247, 221.25911247,\n",
              "        221.27911247, 221.29911247, 221.31911247, 221.33911247,\n",
              "        221.35911247, 221.37911247, 221.39911247, 221.41911247,\n",
              "        221.43911247, 221.45911247, 221.47911247, 221.49911247,\n",
              "        221.51911247, 221.53911247, 221.55911247, 221.57911247,\n",
              "        221.59911247, 221.61911247, 221.63911247, 221.65911247,\n",
              "        221.67911247, 221.69911247, 221.71911247, 221.73911247,\n",
              "        221.75911247, 221.77911247, 221.79911247, 221.81911247,\n",
              "        221.83911247, 221.85911247, 221.87911247, 221.89911247,\n",
              "        221.91911247, 221.93911247, 221.95911247]),\n",
              " <BarContainer object of 50 artists>)"
            ]
          },
          "metadata": {},
          "execution_count": 71
        },
        {
          "output_type": "display_data",
          "data": {
            "text/plain": [
              "<Figure size 640x480 with 1 Axes>"
            ],
            "image/png": "[encoded data removed]"
          },
          "metadata": {}
        }
      ]
    }
  ]
}