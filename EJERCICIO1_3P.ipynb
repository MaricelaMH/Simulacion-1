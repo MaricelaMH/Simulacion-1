{
  "nbformat": 4,
  "nbformat_minor": 0,
  "metadata": {
    "colab": {
      "provenance": [],
      "authorship_tag": "ABX9TyP4gBAQvbja8EvGRRuXI59H",
      "include_colab_link": true
    },
    "kernelspec": {
      "name": "python3",
      "display_name": "Python 3"
    },
    "language_info": {
      "name": "python"
    }
  },
  "cells": [
    {
      "cell_type": "markdown",
      "metadata": {
        "id": "view-in-github",
        "colab_type": "text"
      },
      "source": [
        "<a href=\"https://colab.research.google.com/github/MaricelaMH/Simulacion-1/blob/main/EJERCICIO1_3P.ipynb\" target=\"_parent\"><img src=\"https://colab.research.google.com/assets/colab-badge.svg\" alt=\"Open In Colab\"/></a>"
      ]
    },
    {
      "cell_type": "markdown",
      "source": [
        "     E   J   E   R   C   I   C   I   O       1\n",
        "\n",
        "1. Graficamente podemos observar que:\n",
        "\n",
        "$$a= 190 , b=230, c=210$$\n",
        "\n",
        "2. Definimos nuestra función de densidad\n",
        "\n",
        "$$\n",
        "f(x) =\n",
        "\\begin{array}{ll}\n",
        "\\left\\{\n",
        "\\begin{array}{ll}\n",
        "    0 & \\text{si } x < 190, \\\\\n",
        "    \\frac{2(x-190)}{800} & \\text{si } 190 \\leq x \\leq 210, \\\\\n",
        "    \\frac{2(230 - x)}{800} & \\text{si } 210 < x \\leq 230, \\\\\n",
        "    0 & \\text{si } x > 230\n",
        "\\end{array}\n",
        "\\right.\n",
        "\\end{array}\n",
        "$$\n",
        "\n",
        "3. Queremos calcular la probabilida de\n",
        "\n",
        "$$ P (\\sum_{i=1}^{5} x_i > 1000 )$$\n",
        "\n",
        "para  encontrar  la  probabilidad  de  que  la  suma  de  los  pesos  de  5  tinas exceda la capacidad del camión, en este caso $x_i$ representa el peso de la tina, por lo que si dividimos nuestra probabilidad anterior en 5, la capacidad de cada tina correspondera a la probabilidad siguiente:\n",
        "\n",
        "$$ P( x > 200)$$\n",
        "\n",
        "El teorema del limite central que nos dice que cuando la población muestrada es aproximadamente simetrica, la distribución muestral de $\\bar{x}$ se  proxima a una distribución normal para valores relativamente pequeños de $n$ , en este caso para $n=5$, con media $\\mu$ y desviasión estándar $\\frac{\\theta}{\\sqrt{n}}$\n",
        "\n",
        "4. Calculamos la media\n",
        "\n",
        "$$ \\mu =  \\frac{a+b+c}{3} = \\frac{190+230+210}{3} = 210$$\n",
        "\n",
        "5. Calculamos la varianza\n",
        "\n",
        "$$ \\sigma^2 =  \\frac{a^2+b^2+c^2-ab-ac-bc}{18} $$ $$ = \\frac{(190)^2+(230)^2+(210)^2-(190)(230)-(190)(210)-(230)(210)}{18} $$ $$= \\frac{200}{3} \\approx{66.7} $$\n",
        "\n",
        "6. Dado que se aproxima a una normal, tendremos que\n",
        "\n",
        "\n",
        "\\begin{align*}\n",
        "P\\left( \\bar{x} > 200 \\right) &= P\\left( \\bar{x} - \\mu > 200 \\right) \\\\\n",
        "&= P\\left( \\frac{\\bar{x} - \\mu}{\\sigma}\\sqrt{n} > 200 \\right) \\\\\n",
        "&= P\\left( \\frac{\\bar{x} - \\mu}{\\sigma} \\sqrt{n}  > \\frac{\\bar{x} - \\mu}{\\sigma}\\sqrt{n} \\right) \\\\\n",
        "&= P\\left( Z > \\frac{\\bar{x} - \\mu}{\\sigma}\\sqrt{5} \\right)\n",
        "\\end{align*}\n",
        "\n",
        "7. Sustituyendo valores tenomos que:\n",
        "\n",
        "\\begin{align*}\n",
        "P\\left( Z > \\frac{\\bar{x} - \\mu}{\\sigma}\\sqrt{5} \\right) &= P\\left( Z > \\frac{200 - 210}{\\sqrt{66.7}}\\sqrt{5} \\right) \\\\\n",
        "&= P(Z > -2.73) \\\\\n",
        "&= 1 - P(Z < -2.73) \\\\\n",
        "&= 1 - 0.0031 \\\\\n",
        "&= 0.9969\n",
        "\\end{align*}\n",
        "\n",
        "* Para simular esto, definiremos nuestra función acumulada\n",
        "\n",
        "$$\n",
        "F(x) =\n",
        "\\begin{array}{ll}\n",
        "\\left\\{\n",
        "\\begin{array}{ll}\n",
        "    0 & \\text{si } x \\leq 190, \\\\\n",
        "  \\frac{(x-190)^2}{800} & \\text{si } 190 \\leq x \\leq 210, \\\\\n",
        "    1- \\frac{(230-x)^2}{800} & \\text{si } 210 < x \\leq 230, \\\\\n",
        "    1 & \\text{si } 230 \\leq x\n",
        "\\end{array}\n",
        "\\right.\n",
        "\\end{array}\n",
        "$$\n",
        "\n",
        "* Despejamos $x$ de nuestra función en partes:\n",
        "\n",
        "Caso 1:\n",
        "\n",
        "$$ \\frac{(x-190)^2}{800} = u $$\n",
        "$$ ⟹  (x-190)^2 = 800u $$\n",
        "$$ ⟹  x = \\sqrt{800u} + 190 $$\n",
        "\n",
        "Caso 2:\n",
        "\n",
        "$$1- \\frac{(230-x)^2}{800} = u$$\n",
        "$$ ⟹ - \\frac{(230-x)^2}{800} = u-1$$\n",
        "$$ ⟹ (-230+x)^2 = 800(u-1) $$\n",
        "$$ ⟹ x= -\\sqrt{800(1-u)}+230 $$\n",
        "\n",
        "* Asi nuestra inversa es:\n",
        "$$\n",
        "F(x)^{-1} =\n",
        "\\begin{array}{ll}\n",
        "\\left\\{\n",
        "\\begin{array}{ll}\n",
        "    \\sqrt{800u} + 190 & \\text{si } 0 \\leq x \\leq 0.5, \\\\\n",
        "    -\\sqrt{800(1-u)}+230 & \\text{si } 0.5 < x \\leq 1, \\\\\n",
        "\\end{array}\n",
        "\\right.\n",
        "\\end{array}\n",
        "$$"
      ],
      "metadata": {
        "id": "E-OqeY5PMc7M"
      }
    },
    {
      "cell_type": "markdown",
      "source": [
        "* Vamos a codificar nuestra distribución, para ello ingresamos nuestras librerias"
      ],
      "metadata": {
        "id": "ZARNlCq5cOWH"
      }
    },
    {
      "cell_type": "code",
      "execution_count": 2,
      "metadata": {
        "id": "TqlH3NCLAT18"
      },
      "outputs": [],
      "source": [
        "import random as rnd\n",
        "import numpy as np\n",
        "import matplotlib.pyplot as plt\n",
        "import math"
      ]
    },
    {
      "cell_type": "markdown",
      "source": [
        "P S E U D O C O D I G O\n",
        "\n",
        "1. Generar un número uniforme $u$\n",
        "2. Si $u < 0.5$  entonces $$x = \\sqrt{800u} + 190 $$\n",
        "   si no $$ x = -\\sqrt{800(1-u)}+230$$\n",
        "3. Salir x\n"
      ],
      "metadata": {
        "id": "FBf8rVAZcjKA"
      }
    },
    {
      "cell_type": "code",
      "source": [
        "def probtria(n):\n",
        "   Lista = []\n",
        "   for i in range(n):\n",
        "    for j in range(5):\n",
        "        u = rnd.random()\n",
        "        if u <= 0.5:\n",
        "            x = (800 * u)**0.5 + 190\n",
        "        else:\n",
        "            x = 230 - (800 * (1 - u))**0.5\n",
        "        Lista.append(x)\n",
        "\n",
        "   return Lista\n"
      ],
      "metadata": {
        "id": "LEvnvt3cJcKw"
      },
      "execution_count": 10,
      "outputs": []
    },
    {
      "cell_type": "markdown",
      "source": [
        "* Realizamos la prueba tantas veces que queramos"
      ],
      "metadata": {
        "id": "OH2WJZnbewfF"
      }
    },
    {
      "cell_type": "code",
      "source": [
        "G=probtria(1000000)"
      ],
      "metadata": {
        "id": "9hcCBuPRsaV0"
      },
      "execution_count": 11,
      "outputs": []
    },
    {
      "cell_type": "markdown",
      "source": [
        "* Graficamos los resultados."
      ],
      "metadata": {
        "id": "6HLeUwi1fCBd"
      }
    },
    {
      "cell_type": "code",
      "source": [
        "plt.hist(G, bins=50, color='lightblue')"
      ],
      "metadata": {
        "colab": {
          "base_uri": "https://localhost:8080/",
          "height": 804
        },
        "id": "-dVRMS5us7mj",
        "outputId": "109d2caf-e8ee-482a-b314-c0e7f177dda4"
      },
      "execution_count": 12,
      "outputs": [
        {
          "output_type": "execute_result",
          "data": {
            "text/plain": [
              "(array([  4174.,  12097.,  20226.,  27993.,  36151.,  44125.,  51864.,\n",
              "         60147.,  68283.,  75557.,  84162.,  91692., 100463., 108095.,\n",
              "        115919., 124012., 132018., 139915., 148031., 156217., 163361.,\n",
              "        172148., 179480., 187561., 195007., 195825., 187443., 180466.,\n",
              "        171519., 163507., 156080., 147824., 139456., 131455., 123690.,\n",
              "        116384., 108190.,  99763.,  92335.,  84434.,  76408.,  68392.,\n",
              "         60120.,  52523.,  44664.,  36291.,  28001.,  20341.,  12016.,\n",
              "          4175.]),\n",
              " array([190.01282958, 190.81214771, 191.61146585, 192.41078398,\n",
              "        193.21010212, 194.00942025, 194.80873839, 195.60805652,\n",
              "        196.40737466, 197.20669279, 198.00601093, 198.80532906,\n",
              "        199.6046472 , 200.40396533, 201.20328347, 202.00260161,\n",
              "        202.80191974, 203.60123788, 204.40055601, 205.19987415,\n",
              "        205.99919228, 206.79851042, 207.59782855, 208.39714669,\n",
              "        209.19646482, 209.99578296, 210.79510109, 211.59441923,\n",
              "        212.39373736, 213.1930555 , 213.99237363, 214.79169177,\n",
              "        215.5910099 , 216.39032804, 217.18964617, 217.98896431,\n",
              "        218.78828244, 219.58760058, 220.38691871, 221.18623685,\n",
              "        221.98555498, 222.78487312, 223.58419125, 224.38350939,\n",
              "        225.18282752, 225.98214566, 226.78146379, 227.58078193,\n",
              "        228.38010006, 229.1794182 , 229.97873633]),\n",
              " <BarContainer object of 50 artists>)"
            ]
          },
          "metadata": {},
          "execution_count": 12
        },
        {
          "output_type": "display_data",
          "data": {
            "text/plain": [
              "<Figure size 640x480 with 1 Axes>"
            ],
            "image/png": "[encoded data removed]"
          },
          "metadata": {}
        }
      ]
    },
    {
      "cell_type": "markdown",
      "source": [
        "* Verificamos que ciertamente se sigue una distribución triangular.\n",
        "* Ahora veamos que si se proxima a una normal, para ello:\n"
      ],
      "metadata": {
        "id": "5Ih9_jXAg-xr"
      }
    },
    {
      "cell_type": "markdown",
      "source": [
        "* Ahora simularemos las probabilidades"
      ],
      "metadata": {
        "id": "Fboynj8NVn4u"
      }
    },
    {
      "cell_type": "markdown",
      "source": [
        "Veamos que $$x_i \\sim Tri(a,b,c) : peso$$\n",
        "la condición que tenemos es: $$ \\sum_{i=1}^{5} x_i > 1000 $$\n",
        "por lo que"
      ],
      "metadata": {
        "id": "wdD9CTiKYw6S"
      }
    },
    {
      "cell_type": "code",
      "source": [
        "def sum_tinas(a,b,c):\n",
        "  n=20\n",
        "  cont=0\n",
        "  lista=[]\n",
        "  for i in range(n):\n",
        "    if sum(probtria(5)) > 1000:\n",
        "      cont=cont+1\n",
        "prob=cont/(i+1)\n",
        "print(prob)\n",
        "    lista.append(prob)\n",
        "  return lista\n",
        ""
      ],
      "metadata": {
        "id": "WCsf8Ka3Vl2T"
      },
      "execution_count": 62,
      "outputs": []
    },
    {
      "cell_type": "code",
      "source": [
        "A= sum_tinas(190,230,210)"
      ],
      "metadata": {
        "id": "9CiDp0_glfEk",
        "outputId": "7824d30e-a408-4aab-a504-c8783b813407",
        "colab": {
          "base_uri": "https://localhost:8080/"
        }
      },
      "execution_count": 63,
      "outputs": [
        {
          "output_type": "stream",
          "name": "stdout",
          "text": [
            "1.0\n",
            "1.0\n",
            "1.0\n",
            "1.0\n",
            "1.0\n",
            "1.0\n",
            "1.0\n",
            "1.0\n",
            "1.0\n",
            "1.0\n",
            "1.0\n",
            "1.0\n",
            "1.0\n",
            "1.0\n",
            "1.0\n",
            "1.0\n",
            "1.0\n",
            "1.0\n",
            "1.0\n",
            "1.0\n"
          ]
        }
      ]
    },
    {
      "cell_type": "code",
      "source": [
        "print(A)"
      ],
      "metadata": {
        "id": "llPaO0cHllrL",
        "outputId": "854243b1-48f8-400c-960b-d87991ed6719",
        "colab": {
          "base_uri": "https://localhost:8080/"
        }
      },
      "execution_count": 61,
      "outputs": [
        {
          "output_type": "stream",
          "name": "stdout",
          "text": [
            "[0.05, 0.1, 0.15, 0.2, 0.25, 0.3, 0.35, 0.4, 0.45, 0.5, 0.55, 0.6, 0.65, 0.7, 0.75, 0.8, 0.85, 0.9, 0.95, 1.0]\n"
          ]
        }
      ]
    },
    {
      "cell_type": "markdown",
      "source": [
        "       E   J   E   R   C   I   C   I   O    2\n",
        "\n",
        "1. En este caso, tomando las siguientes condiciones, calcularemos el costo esperado de enviar la mercancia:\n",
        "\n",
        " * Cada vez que la capacidad del camión es excedida una tina es enviada a través de otra compañía a un costo de $200.\n",
        "\n",
        " * El costo promedio anual de un nuevo camión es de $60,000.\n",
        "\n",
        " * Se trabajan 5 días a la semana y 52 semanas al año.\n",
        "\n",
        " * La la probabilidad de que el peso de las tinas exceda la capacidad del camión es de 0.9969\n",
        "\n",
        " * La capacidad del camión es de una tonelada.\n",
        "\n",
        "Con lo anterior , tenemos que\n",
        "\n",
        "$$ ($200  \\text{  / tina }) *(0.9969 \\text{ / dia}) *(5 \\text{ / dia}) *( 52 \\text{ / semanas})$$\n",
        "\n",
        "\n",
        "\n",
        "\n",
        "\n"
      ],
      "metadata": {
        "id": "9KqsbUWYlQIf"
      }
    }
  ]
}