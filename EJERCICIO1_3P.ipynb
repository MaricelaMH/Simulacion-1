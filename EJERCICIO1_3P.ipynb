{
  "nbformat": 4,
  "nbformat_minor": 0,
  "metadata": {
    "colab": {
      "provenance": [],
      "authorship_tag": "ABX9TyOX+6qxVtuU5I4zKvkppM1C",
      "include_colab_link": true
    },
    "kernelspec": {
      "name": "python3",
      "display_name": "Python 3"
    },
    "language_info": {
      "name": "python"
    }
  },
  "cells": [
    {
      "cell_type": "markdown",
      "metadata": {
        "id": "view-in-github",
        "colab_type": "text"
      },
      "source": [
        "<a href=\"https://colab.research.google.com/github/MaricelaMH/Simulacion-1/blob/main/EJERCICIO1_3P.ipynb\" target=\"_parent\"><img src=\"https://colab.research.google.com/assets/colab-badge.svg\" alt=\"Open In Colab\"/></a>"
      ]
    },
    {
      "cell_type": "markdown",
      "source": [
        "     E   J   E   R   C   I   C   I   O       1\n",
        "\n",
        "1. Graficamente podemos observar que:\n",
        "\n",
        "$$a= 190 , b=230, c=210$$\n",
        "\n",
        "2. Definimos nuestra funsión de densidad\n",
        "\n",
        "$$\n",
        "f(x) =\n",
        "\\begin{array}{ll}\n",
        "\\left\\{\n",
        "\\begin{array}{ll}\n",
        "    0 & \\text{si } x < 190, \\\\\n",
        "    \\frac{2(x-190)}{800} & \\text{si } 190 \\leq x \\leq 210, \\\\\n",
        "    \\frac{2(230 - x)}{800} & \\text{si } 210 < x \\leq 230, \\\\\n",
        "    0 & \\text{si } x > 230\n",
        "\\end{array}\n",
        "\\right.\n",
        "\\end{array}\n",
        "$$\n",
        "\n",
        "3. Queremos calcular la probabilida de\n",
        "\n",
        "$$ P (\\sum_{i=1}^{5} x_i > 1000 )$$\n",
        "\n",
        "para  encontrar  la  probabilidad  de  que  la  suma  de  los  pesos  de  5  tinas exceda la capacidad del camión, en este caso $x_i$ representa el peso de la tina, por lo que si dividimos nuestra probabilidad anterior en 5, la capacidad de cada tina correspondera a la probabilidad siguiente:\n",
        "\n",
        "$$ P( x > 200)$$\n",
        "\n",
        "El teorema del limite central que nos dice que cuando la población muestrada es aproximadamente simetrica, la distribución muestral de $\\bar{x}$ se  proxima a una distribución normal para valores relativamente pequeños de $n$ , en este caso para $n=5$, con media $\\mu$ y desviasión estándar $\\frac{\\theta}{\\sqrt{n}}$\n",
        "\n",
        "4. Calculamos la media\n",
        "\n",
        "$$ \\mu =  \\frac{a+b+c}{3} = \\frac{190+230+210}{3} = 210$$\n",
        "\n",
        "5. Calculamos la varianza\n",
        "\n",
        "$$ \\sigma^2 =  \\frac{a^2+b^2+c^2-ab-ac-bc}{18} $$ $$ = \\frac{(190)^2+(230)^2+(210)^2-(190)(230)-(190)(210)-(230)(210)}{18} $$ $$= \\frac{200}{3} \\approx{66.7} $$\n",
        "\n",
        "6. Dado que se aproxima a una normal, tendremos que\n",
        "\n",
        "\\begin{document}\n",
        "\n",
        "\\begin{align*}\n",
        "P\\left( \\bar{x} > 200 \\right) &= P\\left( \\bar{x} - \\mu > 200 \\right) \\\\\n",
        "&= P\\left( \\frac{\\bar{x} - \\mu}{\\sigma}\\sqrt{n} > 200 \\right) \\\\\n",
        "&= P\\left( \\frac{\\bar{x} - \\mu}{\\sigma} \\sqrt{n}  > \\frac{\\bar{x} - \\mu}{\\sigma}\\sqrt{n} \\right) \\\\\n",
        "&= P\\left( Z > \\frac{\\bar{x} - \\mu}{\\sigma}\\sqrt{5} \\right)\n",
        "\\end{align*}\n",
        "\n",
        "7. Sustituyendo valores tenomos que:\n",
        "\n",
        "\\begin{align*}\n",
        "P\\left( Z > \\frac{\\bar{x} - \\mu}{\\sigma}\\sqrt{5} \\right) &= P\\left( Z > \\frac{200 - 210}{\\sqrt{66.7}}\\sqrt{5} \\right) \\\\\n",
        "&= P(Z > -2.73) \\\\\n",
        "&= 1 - P(Z < -2.73) \\\\\n",
        "&= 1 - 0.0031 \\\\\n",
        "&= 0.9969\n",
        "\\end{align*}\n",
        "\n",
        "* Para simular esto, definiremos nuestra funsión acumulada\n",
        "\n",
        "$$\n",
        "F(x) =\n",
        "\\begin{array}{ll}\n",
        "\\left\\{\n",
        "\\begin{array}{ll}\n",
        "    0 & \\text{si } x \\leq 190, \\\\\n",
        "  \\frac{(x-190)^2}{800} & \\text{si } 190 \\leq x \\leq 210, \\\\\n",
        "    1- \\frac{(230-x)^2}{800} & \\text{si } 210 < x \\leq 230, \\\\\n",
        "    1 & \\text{si } 230 \\leq x\n",
        "\\end{array}\n",
        "\\right.\n",
        "\\end{array}\n",
        "$$\n",
        "\n",
        "* Despejamos $x$ de nuestra funsión en partes:\n",
        "\n",
        "Caso 1:\n",
        "\n",
        "$$ \\frac{(x-190)^2}{800} = u $$\n",
        "$$ ⟹  (x-190)^2 = 800u $$\n",
        "$$ ⟹  x = \\sqrt{800u} + 190 $$\n",
        "\n",
        "Caso 2:\n",
        "\n",
        "$$1- \\frac{(230-x)^2}{800} = u$$\n",
        "$$ ⟹ - \\frac{(230-x)^2}{800} = u-1$$\n",
        "$$ ⟹ (-230+x)^2 = 800(u-1) $$\n",
        "$$ ⟹ x= -\\sqrt{800(1-u)}+230 $$\n",
        "\n",
        "* Asi nuestra inversa es:\n",
        "$$\n",
        "F(x)^{-1} =\n",
        "\\begin{array}{ll}\n",
        "\\left\\{\n",
        "\\begin{array}{ll}\n",
        "    \\sqrt{800u} + 190 & \\text{si } 0 \\leq x \\leq 0.5, \\\\\n",
        "    -\\sqrt{800(1-u)}+230 & \\text{si } 0.5 < x \\leq 1, \\\\\n",
        "\\end{array}\n",
        "\\right.\n",
        "\\end{array}\n",
        "$$"
      ],
      "metadata": {
        "id": "E-OqeY5PMc7M"
      }
    },
    {
      "cell_type": "markdown",
      "source": [
        "* Vamos a codificar nuestra distribución, para ello ingresamos nuestras librerias"
      ],
      "metadata": {
        "id": "ZARNlCq5cOWH"
      }
    },
    {
      "cell_type": "code",
      "execution_count": 1,
      "metadata": {
        "id": "TqlH3NCLAT18"
      },
      "outputs": [],
      "source": [
        "import random as rnd\n",
        "import numpy as np\n",
        "import matplotlib.pyplot as plt\n",
        "import math"
      ]
    },
    {
      "cell_type": "markdown",
      "source": [
        "P S E U D O C O D I G O\n",
        "\n",
        "1. Generar un número uniforme $u$\n",
        "2. Si $u < 0.5$  entonces $$x = \\sqrt{800u} + 190 $$\n",
        "   si no $$ x = -\\sqrt{800(1-u)}+230$$\n",
        "3. Salir x\n"
      ],
      "metadata": {
        "id": "FBf8rVAZcjKA"
      }
    },
    {
      "cell_type": "code",
      "source": [
        "def probtria(n):\n",
        "   Lista = []\n",
        "   for i in range(n):\n",
        "    for j in range(5):\n",
        "        u = rnd.random()\n",
        "        if u <= 0.5:\n",
        "            x = (800 * u)**0.5 + 190\n",
        "        else:\n",
        "            x = 230 - (800 * (1 - u))**0.5\n",
        "        Lista.append(x)\n",
        "   return Lista\n",
        ""
      ],
      "metadata": {
        "id": "LEvnvt3cJcKw"
      },
      "execution_count": 71,
      "outputs": []
    },
    {
      "cell_type": "markdown",
      "source": [
        "* Realizamos la prueba tantas veces que queramos"
      ],
      "metadata": {
        "id": "OH2WJZnbewfF"
      }
    },
    {
      "cell_type": "code",
      "source": [
        "G=probtria(1000000)"
      ],
      "metadata": {
        "id": "9hcCBuPRsaV0"
      },
      "execution_count": 82,
      "outputs": []
    },
    {
      "cell_type": "markdown",
      "source": [
        "* Graficamos los resultados."
      ],
      "metadata": {
        "id": "6HLeUwi1fCBd"
      }
    },
    {
      "cell_type": "code",
      "source": [
        "plt.hist(G, bins=50, color='lightblue')"
      ],
      "metadata": {
        "colab": {
          "base_uri": "https://localhost:8080/",
          "height": 804
        },
        "id": "-dVRMS5us7mj",
        "outputId": "f7ad6995-2ea7-43a9-e35c-150c57455f39"
      },
      "execution_count": 83,
      "outputs": [
        {
          "output_type": "execute_result",
          "data": {
            "text/plain": [
              "(array([  4180.,  12044.,  20233.,  28174.,  35931.,  44145.,  52548.,\n",
              "         60258.,  68021.,  75487.,  83584.,  91782.,  99797., 107973.,\n",
              "        116022., 124209., 131738., 139837., 147502., 155988., 163830.,\n",
              "        171869., 179344., 187960., 195295., 196564., 187804., 179875.,\n",
              "        172018., 164415., 155824., 147029., 139901., 131872., 124191.,\n",
              "        116105., 108361., 100220.,  91797.,  84255.,  76046.,  68093.,\n",
              "         60059.,  52123.,  44501.,  36367.,  28196.,  20269.,  12134.,\n",
              "          4230.]),\n",
              " array([190.01010076, 190.8094986 , 191.60889644, 192.40829429,\n",
              "        193.20769213, 194.00708997, 194.80648781, 195.60588565,\n",
              "        196.40528349, 197.20468133, 198.00407917, 198.80347701,\n",
              "        199.60287486, 200.4022727 , 201.20167054, 202.00106838,\n",
              "        202.80046622, 203.59986406, 204.3992619 , 205.19865974,\n",
              "        205.99805758, 206.79745542, 207.59685327, 208.39625111,\n",
              "        209.19564895, 209.99504679, 210.79444463, 211.59384247,\n",
              "        212.39324031, 213.19263815, 213.99203599, 214.79143383,\n",
              "        215.59083168, 216.39022952, 217.18962736, 217.9890252 ,\n",
              "        218.78842304, 219.58782088, 220.38721872, 221.18661656,\n",
              "        221.9860144 , 222.78541224, 223.58481009, 224.38420793,\n",
              "        225.18360577, 225.98300361, 226.78240145, 227.58179929,\n",
              "        228.38119713, 229.18059497, 229.97999281]),\n",
              " <BarContainer object of 50 artists>)"
            ]
          },
          "metadata": {},
          "execution_count": 83
        },
        {
          "output_type": "display_data",
          "data": {
            "text/plain": [
              "<Figure size 640x480 with 1 Axes>"
            ],
            "image/png": "[encoded data removed]"
          },
          "metadata": {}
        }
      ]
    },
    {
      "cell_type": "markdown",
      "source": [
        "* Verificamos que ciertamente se sigue una distribución triangular.\n",
        "* Ahora veamos que si se proxima a una normal, para ello:\n"
      ],
      "metadata": {
        "id": "5Ih9_jXAg-xr"
      }
    },
    {
      "cell_type": "markdown",
      "source": [
        "       E   J   E   R   C   I   C   I   O    2\n",
        "\n",
        "1. El costo esperado\n",
        "\n",
        "\n",
        "\n",
        "\n",
        "\n"
      ],
      "metadata": {
        "id": "9KqsbUWYlQIf"
      }
    },
    {
      "cell_type": "code",
      "source": [
        "import random\n",
        "\n",
        "# Definimos los parámetros\n",
        "capacidad_camion = 3000  # Capacidad máxima del camión en kg\n",
        "costo_envio_exceso = 200  # Costo de enviar una tina en exceso\n",
        "dias_laborales_anuales = 260  # Días laborales en un año\n",
        "costo_anual_nuevo_camion = 60000  # Costo anual de un nuevo camión\n",
        "numero_anios = 10  # Número de años para la simulación\n",
        "\n",
        "def simular_peso_tinas():\n",
        "    # Simular el peso de 5 tinas (asumimos una distribución uniforme entre 0 y 1000 kg por tina)\n",
        "    pesos_tinas = [random.uniform(0, 1000) for _ in range(5)]\n",
        "    return sum(pesos_tinas)\n",
        "\n",
        "def calcular_costo_anual():\n",
        "    costo_anual = 0\n",
        "    for _ in range(dias_laborales_anuales):\n",
        "        peso_total = simular_peso_tinas()\n",
        "        if peso_total > capacidad_camion:\n",
        "            costo_anual += costo_envio_exceso\n",
        "    return costo_anual\n",
        "\n",
        "def calcular_costo_promedio_anual():\n",
        "    costos_anuales = [calcular_costo_anual() for _ in range(numero_anios)]\n",
        "    costo_promedio_anual = sum(costos_anuales) / numero_anios\n",
        "    return costo_promedio_anual\n",
        "\n",
        "# Calcular el costo promedio anual\n",
        "costo_promedio_anual = calcular_costo_promedio_anual()\n",
        "\n",
        "# Comparar con el costo anual del nuevo camión\n",
        "if costo_promedio_anual < costo_anual_nuevo_camion:\n",
        "    print(f\"Conviene seguir utilizando los servicios de la otra compañía transportista. Costo promedio anual: ${costo_promedio_anual:.2f}\")\n",
        "else:\n",
        "    print(f\"Conviene adquirir un nuevo camión. Costo promedio anual: ${costo_promedio_anual:.2f}\")\n"
      ],
      "metadata": {
        "id": "capCRBCpqDxQ",
        "outputId": "271b191f-ea55-4f43-ae4e-cce694791117",
        "colab": {
          "base_uri": "https://localhost:8080/"
        }
      },
      "execution_count": 105,
      "outputs": [
        {
          "output_type": "stream",
          "name": "stdout",
          "text": [
            "Conviene seguir utilizando los servicios de la otra compañía transportista. Costo promedio anual: $12120.00\n"
          ]
        }
      ]
    }
  ]
}