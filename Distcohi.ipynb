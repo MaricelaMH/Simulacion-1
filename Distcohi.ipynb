{
  "nbformat": 4,
  "nbformat_minor": 0,
  "metadata": {
    "colab": {
      "provenance": [],
      "authorship_tag": "ABX9TyMZCPWsqQSBr404qcOen9b/",
      "include_colab_link": true
    },
    "kernelspec": {
      "name": "python3",
      "display_name": "Python 3"
    },
    "language_info": {
      "name": "python"
    }
  },
  "cells": [
    {
      "cell_type": "markdown",
      "metadata": {
        "id": "view-in-github",
        "colab_type": "text"
      },
      "source": [
        "<a href=\"https://colab.research.google.com/github/MaricelaMH/Simulacion-1/blob/main/Distcohi.ipynb\" target=\"_parent\"><img src=\"https://colab.research.google.com/assets/colab-badge.svg\" alt=\"Open In Colab\"/></a>"
      ]
    },
    {
      "cell_type": "code",
      "execution_count": 1,
      "metadata": {
        "id": "bRBg3WzZO18w"
      },
      "outputs": [],
      "source": [
        "import random as rnd\n",
        "#Si usamos numpy , ya no es necesario mat\n",
        "import numpy as np\n",
        "import matplotlib.pyplot as plt"
      ]
    },
    {
      "cell_type": "code",
      "source": [
        "#Hacemos nuestra función\n",
        "x_0 = -2\n",
        "gam = 1\n",
        "n =10\n",
        "for i in range(n):\n",
        "    # Generamos números aleatorios de (0,1)\n",
        "    u = rnd.random( )\n",
        "    print(gam*(tan(pi*(u-1/2))"
      ],
      "metadata": {
        "id": "qB6Wk_XbPT-P"
      },
      "execution_count": null,
      "outputs": []
    }
  ]
}