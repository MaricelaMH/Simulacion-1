{
  "nbformat": 4,
  "nbformat_minor": 0,
  "metadata": {
    "colab": {
      "provenance": [],
      "authorship_tag": "ABX9TyNNMEWzlBJXq06G9H+pp1jQ",
      "include_colab_link": true
    },
    "kernelspec": {
      "name": "python3",
      "display_name": "Python 3"
    },
    "language_info": {
      "name": "python"
    }
  },
  "cells": [
    {
      "cell_type": "markdown",
      "metadata": {
        "id": "view-in-github",
        "colab_type": "text"
      },
      "source": [
        "<a href=\"https://colab.research.google.com/github/MaricelaMH/Simulacion-1/blob/main/EJERCICIO2.ipynb\" target=\"_parent\"><img src=\"https://colab.research.google.com/assets/colab-badge.svg\" alt=\"Open In Colab\"/></a>"
      ]
    },
    {
      "cell_type": "markdown",
      "source": [
        "METODO DE CUADRADO MEDIO (producto medio)"
      ],
      "metadata": {
        "id": "qfcmH0SbRKvh"
      }
    },
    {
      "cell_type": "code",
      "execution_count": 29,
      "metadata": {
        "colab": {
          "base_uri": "https://localhost:8080/"
        },
        "id": "rJMmevrBRJ7T",
        "outputId": "b27f464a-8d90-421f-853f-5ba930f6fdae"
      },
      "outputs": [
        {
          "output_type": "stream",
          "name": "stdout",
          "text": [
            "Ingrese la cantidad de iteraciones deseadas: 10\n",
            "Ingrese X_n-1 (tres cifras): 123\n",
            "Ingrese X_n (tres cifras): 456\n",
            "\n",
            "n    X_n-1   X_n   (X_n)(X_n-1)   PROD_MED\n",
            "0     123    456     56088         608\n",
            "1     456    608     0277248         772\n",
            "2     608    772     0469376         693\n",
            "3     772    693     0534996         349\n",
            "4     693    349     0241857         418\n",
            "5     349    418     0145882         458\n",
            "6     418    458     0191444         914\n",
            "7     458    914     0418612         186\n",
            "8     914    186     0170004         700\n",
            "9     186    700     0130200         302\n"
          ]
        }
      ],
      "source": [
        "# Pedimos al usuario que ingrese un número de 4 cifras\n",
        "iter = int(input(\"Ingrese la cantidad de iteraciones deseadas: \"))\n",
        "X_n1 = input(\"Ingrese X_n-1 (tres cifras): \")\n",
        "X_n = input(\"Ingrese X_n (tres cifras): \")\n",
        "\n",
        "# Aseguramos que el número ingresado sea de 3 cifras, de lo contrario, marcará error\n",
        "while len(X_n1) != 3 or len(X_n) != 3 or not X_n1.isdigit() or not X_n.isdigit():\n",
        "    X_n1 = input(\"Ingrese X_n-1 (tres cifras): \")\n",
        "    X_n = input(\"Ingrese X_n (tres cifras): \")\n",
        "\n",
        "# Convertimos el número ingresado a entero\n",
        "X_n1 = int(X_n1)\n",
        "X_n = int(X_n)\n",
        "\n",
        "# Creamos una tabla donde mostraremos los resultados\n",
        "print(\"\\nn    X_n-1   X_n   (X_n)(X_n-1)   PROD_MED\")\n",
        "\n",
        "# Aplicamos el método del producto medio\n",
        "for i in range(iter):\n",
        "    prod = X_n1 * X_n\n",
        "    cad = str(prod)\n",
        "\n",
        "    # Aseguramos que el número tenga al menos 8 dígitos\n",
        "    nuevo_num = cad.zfill(3)[1:4]\n",
        "\n",
        "    num_str = str(prod)\n",
        "    while len(num_str)%2==0:\n",
        "        num_str = \"0\" + num_str\n",
        "\n",
        "    print(f\"{i}     {X_n1}    {X_n}     {num_str}         {nuevo_num}\")\n",
        "    X_n1 = X_n\n",
        "    X_n = int(nuevo_num)  # Usamos los 3 dígitos centrales como el siguiente número\n"
      ]
    },
    {
      "cell_type": "code",
      "source": [
        "from tabulate import tabulate\n",
        "\n",
        "imp = set()\n",
        "resultados = []\n",
        "\n",
        "# Pedimos que el usuario ingrese 4 cifras\n",
        "iter = int(input(\"Ingrese la cantidad de iteraciones deseadas: \"))\n",
        "X_n1 = input(\"Ingrese X_n-1 (tres cifras): \")\n",
        "X_n = input(\"Ingrese X_n (tres cifras): \")\n",
        "\n",
        "# Aseguramos que el número ingresado sea de 3 cifras, de lo contrario, marcará error\n",
        "while len(X_n1) != 3 or len(X_n) != 3 or not X_n1.isdigit() or not X_n.isdigit():\n",
        "    X_n1 = input(\"Ingrese X_n-1 (tres cifras): \")\n",
        "    X_n = input(\"Ingrese X_n (tres cifras): \")\n",
        "\n",
        "# Convertimos el número ingresado a entero\n",
        "X_n1 = int(X_n1)\n",
        "X_n = int(X_n)\n",
        "\n",
        "# Aplicamos el método del producto medio\n",
        "for i in range(iter):\n",
        "    prod = X_n1 * X_n\n",
        "    cad = str(prod)\n",
        "\n",
        "    # Aseguramos que el número tenga al menos 8 dígitos\n",
        "    nuevo_num = cad.zfill(3)[1:4]\n",
        "\n",
        "    num_str = str(prod)\n",
        "    while len(num_str) % 2 == 0:\n",
        "        num_str = \"0\" + num_str\n",
        "\n",
        "    resultados.append((i, X_n1, X_n, num_str, nuevo_num))\n",
        "    imp.add(X_n1)\n",
        "\n",
        "    headers = [\"n\", \"X_n-1\", \"X_n\", \"(X_n)(X_n-1)\", \"PROD_MED\"]\n",
        "\n",
        "    X_n1 = X_n\n",
        "    X_n = int(nuevo_num)\n",
        "\n",
        "print(tabulate(resultados, headers=headers, tablefmt=\"grid\"))\n"
      ],
      "metadata": {
        "id": "Oojyoy5MAti1",
        "outputId": "5140005a-05a8-4b8d-9bc6-b4baa1a56887",
        "colab": {
          "base_uri": "https://localhost:8080/"
        }
      },
      "execution_count": 35,
      "outputs": [
        {
          "output_type": "stream",
          "name": "stdout",
          "text": [
            "Ingrese la cantidad de iteraciones deseadas: 10\n",
            "Ingrese X_n-1 (tres cifras): 123\n",
            "Ingrese X_n (tres cifras): 456\n",
            "+-----+---------+-------+----------------+------------+\n",
            "|   n |   X_n-1 |   X_n |   (X_n)(X_n-1) |   PROD_MED |\n",
            "+=====+=========+=======+================+============+\n",
            "|   0 |     123 |   456 |          56088 |        608 |\n",
            "+-----+---------+-------+----------------+------------+\n",
            "|   1 |     456 |   608 |        0277248 |        772 |\n",
            "+-----+---------+-------+----------------+------------+\n",
            "|   2 |     608 |   772 |        0469376 |        693 |\n",
            "+-----+---------+-------+----------------+------------+\n",
            "|   3 |     772 |   693 |        0534996 |        349 |\n",
            "+-----+---------+-------+----------------+------------+\n",
            "|   4 |     693 |   349 |        0241857 |        418 |\n",
            "+-----+---------+-------+----------------+------------+\n",
            "|   5 |     349 |   418 |        0145882 |        458 |\n",
            "+-----+---------+-------+----------------+------------+\n",
            "|   6 |     418 |   458 |        0191444 |        914 |\n",
            "+-----+---------+-------+----------------+------------+\n",
            "|   7 |     458 |   914 |        0418612 |        186 |\n",
            "+-----+---------+-------+----------------+------------+\n",
            "|   8 |     914 |   186 |        0170004 |        700 |\n",
            "+-----+---------+-------+----------------+------------+\n",
            "|   9 |     186 |   700 |        0130200 |        302 |\n",
            "+-----+---------+-------+----------------+------------+\n"
          ]
        }
      ]
    }
  ]
}