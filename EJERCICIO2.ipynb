{
  "nbformat": 4,
  "nbformat_minor": 0,
  "metadata": {
    "colab": {
      "provenance": [],
      "authorship_tag": "ABX9TyO8fzR8MMKpVkLZpusgWwsS",
      "include_colab_link": true
    },
    "kernelspec": {
      "name": "python3",
      "display_name": "Python 3"
    },
    "language_info": {
      "name": "python"
    }
  },
  "cells": [
    {
      "cell_type": "markdown",
      "metadata": {
        "id": "view-in-github",
        "colab_type": "text"
      },
      "source": [
        "<a href=\"https://colab.research.google.com/github/MaricelaMH/Simulacion-1/blob/main/EJERCICIO2.ipynb\" target=\"_parent\"><img src=\"https://colab.research.google.com/assets/colab-badge.svg\" alt=\"Open In Colab\"/></a>"
      ]
    },
    {
      "cell_type": "markdown",
      "source": [
        "METODO DE CUADRADO MEDIO (producto medio)"
      ],
      "metadata": {
        "id": "qfcmH0SbRKvh"
      }
    },
    {
      "cell_type": "code",
      "execution_count": 60,
      "metadata": {
        "colab": {
          "base_uri": "https://localhost:8080/"
        },
        "id": "rJMmevrBRJ7T",
        "outputId": "f1a60379-acd2-44cc-b789-b6348b135c06"
      },
      "outputs": [
        {
          "output_type": "stream",
          "name": "stdout",
          "text": [
            "Ingrese la cantidad de iteraciones deseadas: 10\n",
            "Ingrese X_n-1 (tres cifras): 123\n",
            "Ingrese X_n (tres cifras): 456\n",
            "\n",
            "n    X_n-1   X_n    (X_n)(X_n-1)   CUAD_MED\n",
            "0    123   456   56088   608\n",
            "1    456   608   0277248   724\n",
            "2    608   724   0440192   019\n",
            "3    724   19   13756   375\n",
            "4    19   375   07125   712\n",
            "5    375   712   0267000   700\n",
            "6    712   700   0498400   840\n",
            "7    700   840   0588000   800\n",
            "8    840   800   0672000   200\n",
            "9    800   200   0160000   000\n"
          ]
        }
      ],
      "source": [
        "# Pedimos al usuario que ingrese un número de 4 cifras\n",
        "iter = int(input(\"Ingrese la cantidad de iteraciones deseadas: \"))\n",
        "X_n1 = input(\"Ingrese X_n-1 (tres cifras): \")\n",
        "X_n = input(\"Ingrese X_n (tres cifras): \")\n",
        "\n",
        "# Aseguramos que el número ingresado sea de 3 cifras, de lo contrario, marcará error\n",
        "while len(X_n1) != 3 or len(X_n) != 3 or not X_n1.isdigit() or not X_n.isdigit():\n",
        "    X_n1 = input(\"Ingrese X_n-1 (tres cifras): \")\n",
        "    X_n = input(\"Ingrese X_n (tres cifras): \")\n",
        "\n",
        "# Convertimos el número ingresado a entero\n",
        "X_n1 = int(X_n1)\n",
        "X_n = int(X_n)\n",
        "\n",
        "# Creamos una tabla donde mostraremos los resultados\n",
        "print(\"\\nn    X_n-1   X_n    (X_n)(X_n-1)   CUAD_MED\")\n",
        "\n",
        "# Aplicamos el método del producto medio\n",
        "for i in range(iter):\n",
        "    prod = X_n1 * X_n\n",
        "    cad = str(prod)\n",
        "\n",
        "    # Aseguramos que el número tenga al menos 8 dígitos\n",
        "    nuevo_num = cad.zfill(6)[2:5]\n",
        "\n",
        "    num_str = str(prod)\n",
        "    while len(num_str)%2==0:\n",
        "        num_str = \"0\" + num_str\n",
        "\n",
        "    print(f\"{i}    {X_n1}   {X_n}   {num_str}   {nuevo_num}\")\n",
        "    X_n1 = X_n\n",
        "    X_n = int(nuevo_num)  # Usamos los 3 dígitos centrales como el siguiente número\n"
      ]
    }
  ]
}