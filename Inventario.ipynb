{
  "nbformat": 4,
  "nbformat_minor": 0,
  "metadata": {
    "colab": {
      "provenance": [],
      "include_colab_link": true
    },
    "kernelspec": {
      "name": "python3",
      "display_name": "Python 3"
    },
    "language_info": {
      "name": "python"
    }
  },
  "cells": [
    {
      "cell_type": "markdown",
      "metadata": {
        "id": "view-in-github",
        "colab_type": "text"
      },
      "source": [
        "<a href=\"https://colab.research.google.com/github/MaricelaMH/Simulacion-1/blob/main/Inventario.ipynb\" target=\"_parent\"><img src=\"https://colab.research.google.com/assets/colab-badge.svg\" alt=\"Open In Colab\"/></a>"
      ]
    },
    {
      "cell_type": "markdown",
      "source": [
        "S I S T E M A  -   D   E  -  I N V E N T A R I O S\n",
        "\n",
        "La demanda mensual de un cierto producto, sigue la siguiente distribución de probabilidad empírica:\n",
        "\n",
        "![texto alternativo](https://drive.google.com/uc?id=1i2BtgMyQSJWOi10G1a9UePcG8VItpgzJ)\n",
        "\n",
        "El tiempo de entrega está distribuido de acuerdo a la siguiente función de probabilidad:\n",
        "\n",
        "![texto alternativo](https://drive.google.com/uc?id=1VsRSh1p00wfRk-xqdk6YuxcNu0d_Uc6x)\n",
        "\n",
        "Los factores estacionales para cada uno de los meses del año son como se muestra acontinuación:\n",
        "\n",
        "![texto alternativo](https://drive.google.com/uc?id=1ei4oObcvT8qq2J77MLS8ar3EIEaWhTfh)\n",
        "\n",
        "La información con respecto a los costos relevantes es la siguiente:\n",
        "\n",
        "$$\\text{Costo de ordenar = } \\$ 100 \\text{ /orden}$$ $$\\text{Costo de inventario = } \\$ 20 \\text{ /unidad/año}$$ $$\\text{Costo de faltante = } \\$ 50 \\text{ /unidad}$$\n",
        "\n",
        "Si el inventario inicial se asume en 150 unidades, ¿ determine la cantidad óptima a ordenar $(q)$ y el nivel óptimo de reorden $(R)$?\n",
        "\n",
        "\n"
      ],
      "metadata": {
        "id": "34NJm_1L0NNT"
      }
    },
    {
      "cell_type": "markdown",
      "source": [
        "S   O   L   U   C    I    Ó    N"
      ],
      "metadata": {
        "id": "MVfhv6Vb53Of"
      }
    },
    {
      "cell_type": "code",
      "execution_count": 61,
      "metadata": {
        "id": "RQQxrCT2qSfi"
      },
      "outputs": [],
      "source": [
        "#Importamos las librerias necesarias\n",
        "import random as rnd\n",
        "import numpy as np\n",
        "from tabulate import tabulate\n",
        "import matplotlib.pyplot as plt"
      ]
    },
    {
      "cell_type": "markdown",
      "source": [],
      "metadata": {
        "id": "CdUoZ6dp6JkK"
      }
    },
    {
      "cell_type": "code",
      "source": [
        "def demanda():                            #Esta función calcula y devuelve la demanda\n",
        "  prob=[0,0.01,0.025,0.045,0.065, 0.087,0.11,0.135,0.162,0.19,0.219,0.254,0.299,0.359,0.424,0.494,0.574,0.649,0.719,0.784,0.844, 0.894,0.934,0.964,0.980,0.995,1]\n",
        "  u=rnd.random()\n",
        "  for i in range(len(prob)):\n",
        "      if prob[i-1] <= u <= prob[i]:       #Ubica el valor de u en inervalos\n",
        "          x=i+34                          #Asigna valor de demanda\n",
        "          break\n",
        "  return x,u"
      ],
      "metadata": {
        "id": "FfxcaNZ2qWKh"
      },
      "execution_count": 62,
      "outputs": []
    },
    {
      "cell_type": "code",
      "source": [
        "def demanda_ajustada(x,mes):              #Esta fución calcula y devuelve la demanda ajustada\n",
        "  factor_mes=[1.2, 1, 0.9, 0.8, 0.8 ,0.7, 0.8, 0.9, 1, 1.2, 1.3, 1.4]\n",
        "  for j in range(len(factor_mes)):\n",
        "    if mes==j:                            #Ubica el mes\n",
        "      x=round(x*factor_mes[j-1])          #multiplica por el factor\n",
        "  return x"
      ],
      "metadata": {
        "id": "JZD3JqRrqeZ_"
      },
      "execution_count": 63,
      "outputs": []
    },
    {
      "cell_type": "code",
      "source": [
        "def entrega(carga_pend,cont_ent):                  #Esta función calcula y devuelve el tiempo de entrega (y estatus de entrega pendiente)\n",
        "  carga_pend=True                         #Indica que hay entrega pendiente\n",
        "\n",
        "  v=rnd.random()\n",
        "  if 0<= v < 0.3:                         #Asigna valor a el tiempo de entrega\n",
        "    entrega=1\n",
        "  elif 0.3 <= v < 0.7:\n",
        "    entrega=2\n",
        "  elif 0.7 <= v < 1:\n",
        "    entrega=3\n",
        "  cont_ent+=1\n",
        "  return  entrega,carga_pend,cont_ent\n"
      ],
      "metadata": {
        "id": "TOx1SHxhrpwF"
      },
      "execution_count": 64,
      "outputs": []
    },
    {
      "cell_type": "code",
      "source": [
        "#Asigna valores iniciales\n",
        "\n",
        "inv_inicial=150\n",
        "inventario_i=[150]                          #Guarda inventario inicial en una lista\n",
        "inv_falt=0\n",
        "carga_pend=False                            #Indica que no hay carga pendiente\n",
        "t_entrega=0                                 #No hay tiempo de entrega\n",
        "cont=-1                                     #Contador para recibir la entrega (inicia en -1 para comenzar a contar desde la sig. iteracion)\n",
        "faltante=0                                  #Demanda faltante\n",
        "data=[]                                     #Lista para imprimir tabla\n",
        "cont_ent=0\n",
        "q=200\n",
        "R=100\n",
        "for m in range(12):                         #Ciclo de 12 meses\n",
        "  mes=m+1\n",
        "  dem,val=demanda()                         #Calcula demanda y número aleatorio generado para el mes correspondiente\n",
        "  dem_ajus=demanda_ajustada(dem,mes)        #Calcula demanda ajustada\n",
        "\n",
        "  inv_final=inv_inicial-dem_ajus            #Calcula demanda final\n",
        "  inv_men_prom=(inv_inicial+dem_ajus)/2     #Calcula demanda promedio mensual\n",
        "\n",
        "\n",
        "\n",
        "  if inv_final<=R and carga_pend==False:    #Condición: Se pasó el punto de reorden y no hay carga pendiente\n",
        "    t_entrega,carga_pend,cont_ent=entrega(carga_pend,cont_ent)  #Calucla tiempo de entrega\n",
        "\n",
        "  if carga_pend==True:                        #Contador para recibir la entrega aumenta en 1\n",
        "    cont+=1\n",
        "\n",
        "  if inv_final<0:                             #Si el inventario final es negativo, se imprime \"-\"\n",
        "    faltante=abs(inv_final)\n",
        "    data.append([f\"{mes}\",f\"{inv_inicial}\", f\"{val}\", f\"{dem}\",f\"{dem_ajus}\", \"-\",f\"{faltante}\",f\"{t_entrega}\",f\"{np.round(inv_inicial**2/(2*dem_ajus))}\"])\n",
        "    inv_falt+=faltante\n",
        "  else:\n",
        "    data.append([f\"{mes}\",f\"{inv_inicial}\", f\"{val}\", f\"{dem}\",f\"{dem_ajus}\", f\"{inv_final}\",f\"{faltante}\",f\"{t_entrega}\",f\"{np.round(inv_men_prom)}\"])\n",
        "\n",
        "  inv_inicial=inv_final                       #Inventario final pasa a ser inventario incial en el siguiente mes\n",
        "\n",
        "  if cont==t_entrega:                         #Condición: Se cumple tiempo de entrega\n",
        "    cont=-1                                   #Reinicia contador\n",
        "    inv_inicial+=q                          #Aumenta el inventario +200\n",
        "    carga_pend=False                          #Indica que ya no hay carga pendiente\n",
        "    t_entrega=0                               #Reinicia tiempo de entrega\n",
        "\n",
        "  faltante=0                                  #Reinicia inv. faltante\n",
        "  inventario_i.append(inv_inicial)            #Guarda inventario inicial en una lista\n",
        "\n",
        "#Imprime tabla\n",
        "headers = ['Mes', 'Inventario inicial' ,'No. aleatorio' ,'Demanda' ,'Demanda ajustada' , 'Inventario final','Faltante', 'Entrega', 'Inventario mensual promedio']\n",
        "print(tabulate(data, headers=headers, tablefmt=\"fancy_grid\",showindex=False))\n"
      ],
      "metadata": {
        "colab": {
          "base_uri": "https://localhost:8080/"
        },
        "id": "mwiKhOqLqsTn",
        "outputId": "e5b727a2-7bfa-4a10-ee07-86027d9fdcb3"
      },
      "execution_count": 65,
      "outputs": [
        {
          "output_type": "stream",
          "name": "stdout",
          "text": [
            "╒═══════╤══════════════════════╤═════════════════╤═══════════╤════════════════════╤════════════════════╤════════════╤═══════════╤═══════════════════════════════╕\n",
            "│   Mes │   Inventario inicial │   No. aleatorio │   Demanda │   Demanda ajustada │ Inventario final   │   Faltante │   Entrega │   Inventario mensual promedio │\n",
            "╞═══════╪══════════════════════╪═════════════════╪═══════════╪════════════════════╪════════════════════╪════════════╪═══════════╪═══════════════════════════════╡\n",
            "│     1 │                  150 │       0.759556  │        53 │                 64 │ 86                 │          0 │         3 │                           107 │\n",
            "├───────┼──────────────────────┼─────────────────┼───────────┼────────────────────┼────────────────────┼────────────┼───────────┼───────────────────────────────┤\n",
            "│     2 │                   86 │       0.0898383 │        40 │                 40 │ 46                 │          0 │         3 │                            63 │\n",
            "├───────┼──────────────────────┼─────────────────┼───────────┼────────────────────┼────────────────────┼────────────┼───────────┼───────────────────────────────┤\n",
            "│     3 │                   46 │       0.890401  │        55 │                 50 │ -                  │          4 │         3 │                            21 │\n",
            "├───────┼──────────────────────┼─────────────────┼───────────┼────────────────────┼────────────────────┼────────────┼───────────┼───────────────────────────────┤\n",
            "│     4 │                   -4 │       0.974031  │        58 │                 46 │ -                  │         50 │         3 │                             0 │\n",
            "├───────┼──────────────────────┼─────────────────┼───────────┼────────────────────┼────────────────────┼────────────┼───────────┼───────────────────────────────┤\n",
            "│     5 │                  150 │       0.536923  │        50 │                 40 │ 110                │          0 │         0 │                            95 │\n",
            "├───────┼──────────────────────┼─────────────────┼───────────┼────────────────────┼────────────────────┼────────────┼───────────┼───────────────────────────────┤\n",
            "│     6 │                  110 │       0.211589  │        44 │                 31 │ 79                 │          0 │         1 │                            70 │\n",
            "├───────┼──────────────────────┼─────────────────┼───────────┼────────────────────┼────────────────────┼────────────┼───────────┼───────────────────────────────┤\n",
            "│     7 │                   79 │       0.383113  │        48 │                 38 │ 41                 │          0 │         1 │                            58 │\n",
            "├───────┼──────────────────────┼─────────────────┼───────────┼────────────────────┼────────────────────┼────────────┼───────────┼───────────────────────────────┤\n",
            "│     8 │                  241 │       0.242414  │        45 │                 40 │ 201                │          0 │         0 │                           140 │\n",
            "├───────┼──────────────────────┼─────────────────┼───────────┼────────────────────┼────────────────────┼────────────┼───────────┼───────────────────────────────┤\n",
            "│     9 │                  201 │       0.710523  │        52 │                 52 │ 149                │          0 │         0 │                           126 │\n",
            "├───────┼──────────────────────┼─────────────────┼───────────┼────────────────────┼────────────────────┼────────────┼───────────┼───────────────────────────────┤\n",
            "│    10 │                  149 │       0.755568  │        53 │                 64 │ 85                 │          0 │         3 │                           106 │\n",
            "├───────┼──────────────────────┼─────────────────┼───────────┼────────────────────┼────────────────────┼────────────┼───────────┼───────────────────────────────┤\n",
            "│    11 │                   85 │       0.115748  │        41 │                 53 │ 32                 │          0 │         3 │                            69 │\n",
            "├───────┼──────────────────────┼─────────────────┼───────────┼────────────────────┼────────────────────┼────────────┼───────────┼───────────────────────────────┤\n",
            "│    12 │                   32 │       0.242224  │        45 │                 45 │ -                  │         13 │         3 │                            11 │\n",
            "╘═══════╧══════════════════════╧═════════════════╧═══════════╧════════════════════╧════════════════════╧════════════╧═══════════╧═══════════════════════════════╛\n"
          ]
        }
      ]
    },
    {
      "cell_type": "code",
      "source": [
        "#Imprime gráfica\n",
        "plt.plot(inventario_i, marker='o', label=\"Inventario inicial\")\n",
        "plt.title('Simulación para 1 año de operación del sist. de inventarios')\n",
        "plt.xlabel('Mes')\n",
        "plt.ylabel('Inventario inicial')\n",
        "plt.axhline(100, color=\"red\",linestyle='--', label='Punto de reorden')\n",
        "plt.axhline(0, color='black')\n",
        "plt.grid(True)\n",
        "plt.legend()\n",
        "plt.show()"
      ],
      "metadata": {
        "colab": {
          "base_uri": "https://localhost:8080/",
          "height": 472
        },
        "id": "dJC0nn7YLJav",
        "outputId": "f510292a-3b7f-4c4d-dd98-f1a62dba0d78"
      },
      "execution_count": 66,
      "outputs": [
        {
          "output_type": "display_data",
          "data": {
            "text/plain": [
              "<Figure size 640x480 with 1 Axes>"
            ],
            "image/png": "[encoded data removed]"
          },
          "metadata": {}
        }
      ]
    },
    {
      "cell_type": "code",
      "source": [
        "suma_inv_prom = 0\n",
        "for fila in data:\n",
        "    valor_str = fila[-1]\n",
        "    suma_inv_prom += float(valor_str)\n",
        "\n",
        "costo=[cont_ent*R, suma_inv_prom*1.67 ,inv_falt*50,cont_ent*R+suma_inv_prom*1.67+inv_falt*50]\n",
        "print(costo)"
      ],
      "metadata": {
        "colab": {
          "base_uri": "https://localhost:8080/"
        },
        "id": "1_LoXbqS1WtQ",
        "outputId": "03c9809d-1ef6-4c82-bbc4-f82c6645f945"
      },
      "execution_count": 7,
      "outputs": [
        {
          "output_type": "stream",
          "name": "stdout",
          "text": [
            "[300, 1456.24, 7050, 8806.24]\n"
          ]
        }
      ]
    },
    {
      "cell_type": "code",
      "source": [
        "def experimento(q,R):\n",
        "  inv_inicial=150\n",
        "  inventario_i=[150]                          #Guarda inventario inicial en una lista\n",
        "  inv_falt=0\n",
        "  carga_pend=False                            #Indica que no hay carga pendiente\n",
        "  t_entrega=0                                 #No hay tiempo de entrega\n",
        "  cont=-1                                     #Contador para recibir la entrega (inicia en -1 para comenzar a contar desde la sig. iteracion)\n",
        "  faltante=0                                  #Demanda faltante\n",
        "  data=[]                                     #Lista para imprimir tabla\n",
        "  cont_ent=0\n",
        "  for m in range(12):                         #Ciclo de 12 meses\n",
        "    mes=m+1\n",
        "    dem,val=demanda()                         #Calcula demanda y número aleatorio generado para el mes correspondiente\n",
        "    dem_ajus=demanda_ajustada(dem,mes)        #Calcula demanda ajustada\n",
        "\n",
        "    inv_final=inv_inicial-dem_ajus            #Calcula demanda final\n",
        "    inv_men_prom=(inv_inicial+dem_ajus)/2     #Calcula demanda promedio mensual\n",
        "\n",
        "\n",
        "\n",
        "    if inv_final<=R and carga_pend==False:    #Condición: Se pasó el punto de reorden y no hay carga pendiente\n",
        "      t_entrega,carga_pend,cont_ent=entrega(carga_pend,cont_ent)  #Calucla tiempo de entrega\n",
        "\n",
        "    if carga_pend==True:                        #Contador para recibir la entrega aumenta en 1\n",
        "      cont+=1\n",
        "\n",
        "    if inv_final<0:                             #Si el inventario final es negativo, se imprime \"-\"\n",
        "      faltante=abs(inv_final)\n",
        "      data.append([f\"{mes}\",f\"{inv_inicial}\", f\"{val}\", f\"{dem}\",f\"{dem_ajus}\", \"-\",f\"{faltante}\",f\"{t_entrega}\",f\"{np.round(inv_inicial**2/(2*dem_ajus))}\"])\n",
        "      inv_falt+=faltante\n",
        "    else:\n",
        "      data.append([f\"{mes}\",f\"{inv_inicial}\", f\"{val}\", f\"{dem}\",f\"{dem_ajus}\", f\"{inv_final}\",f\"{faltante}\",f\"{t_entrega}\",f\"{np.round(inv_men_prom)}\"])\n",
        "\n",
        "    inv_inicial=inv_final                       #Inventario final pasa a ser inventario incial en el siguiente mes\n",
        "\n",
        "    if cont==t_entrega:                         #Condición: Se cumple tiempo de entrega\n",
        "      cont=-1                                   #Reinicia contador\n",
        "      inv_inicial+=q                          #Aumenta el inventario +200\n",
        "      carga_pend=False                          #Indica que ya no hay carga pendiente\n",
        "      t_entrega=0                               #Reinicia tiempo de entrega\n",
        "\n",
        "    faltante=0                                  #Reinicia inv. faltante\n",
        "    inventario_i.append(inv_inicial)            #Guarda inventario inicial en una lista\n",
        "\n",
        "  #Imprime tabla\n",
        "  headers = ['Mes', 'Inventario inicial' ,'No. aleatorio' ,'Demanda' ,'Demanda ajustada' , 'Inventario final','Faltante', 'Entrega', 'Inventario mensual promedio']\n",
        "  #print(tabulate(data, headers=headers, tablefmt=\"fancy_grid\",showindex=False))\n",
        "\n",
        "  suma_inv_prom = 0\n",
        "  for fila in data:\n",
        "    # Asumiendo que 'Inventario mensual promedio' es la última columna\n",
        "    valor_str = fila[-1]\n",
        "    suma_inv_prom += float(valor_str)\n",
        "\n",
        "  costo=[cont_ent*R, suma_inv_prom*1.67 ,inv_falt*50,cont_ent*R+suma_inv_prom*1.67+inv_falt*50]\n",
        "  #print(costo)\n",
        "  return cont_ent*R+suma_inv_prom*1.67+inv_falt*50"
      ],
      "metadata": {
        "id": "iM-4kdzV8vFy"
      },
      "execution_count": 67,
      "outputs": []
    },
    {
      "cell_type": "code",
      "source": [
        "EXP=experimento(100,200)"
      ],
      "metadata": {
        "id": "T7zcRC1K9Dn7"
      },
      "execution_count": 68,
      "outputs": []
    },
    {
      "cell_type": "code",
      "source": [
        "EXP"
      ],
      "metadata": {
        "id": "g6M2cYOK9Wty",
        "outputId": "27473ff9-609d-4b44-c1d2-e9bcd0fa9b81",
        "colab": {
          "base_uri": "https://localhost:8080/"
        }
      },
      "execution_count": 69,
      "outputs": [
        {
          "output_type": "execute_result",
          "data": {
            "text/plain": [
              "7378.72"
            ]
          },
          "metadata": {},
          "execution_count": 69
        }
      ]
    },
    {
      "cell_type": "code",
      "source": [
        "from scipy.optimize import minimize\n",
        "\n",
        "def fun_obj(Z):\n",
        "  q,R= Z\n",
        "  return experimento(q,R)\n",
        "\n",
        "def opti():\n",
        "  valores_iniciales = [200, 100]\n",
        "  resultado=minimize(fun_obj,valores_iniciales,method='BFGS')\n",
        "\n",
        "  print('R:',resultado.x[0])\n",
        "  print('q:',resultado.x[1])\n",
        "  return resultado.x[0],resultado.x[1]\n",
        "\n"
      ],
      "metadata": {
        "id": "IJybkstW-F6p"
      },
      "execution_count": 70,
      "outputs": []
    },
    {
      "cell_type": "code",
      "source": [
        "Res=opti()\n",
        "print(Res)\n",
        "Optimizacion=experimento(R,q)\n",
        "Optimizacion"
      ],
      "metadata": {
        "id": "6YssAm6e-17_",
        "outputId": "53c937f5-01b1-450b-8474-745adf578927",
        "colab": {
          "base_uri": "https://localhost:8080/"
        }
      },
      "execution_count": 71,
      "outputs": [
        {
          "output_type": "stream",
          "name": "stdout",
          "text": [
            "R: 200.00000707130454\n",
            "q: 100.0000077760939\n",
            "(200.00000707130454, 100.0000077760939)\n"
          ]
        },
        {
          "output_type": "execute_result",
          "data": {
            "text/plain": [
              "8543.85"
            ]
          },
          "metadata": {},
          "execution_count": 71
        }
      ]
    }
  ]
}