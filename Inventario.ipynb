{
  "nbformat": 4,
  "nbformat_minor": 0,
  "metadata": {
    "colab": {
      "provenance": [],
      "include_colab_link": true
    },
    "kernelspec": {
      "name": "python3",
      "display_name": "Python 3"
    },
    "language_info": {
      "name": "python"
    }
  },
  "cells": [
    {
      "cell_type": "markdown",
      "metadata": {
        "id": "view-in-github",
        "colab_type": "text"
      },
      "source": [
        "<a href=\"https://colab.research.google.com/github/MaricelaMH/Simulacion-1/blob/main/Inventario.ipynb\" target=\"_parent\"><img src=\"https://colab.research.google.com/assets/colab-badge.svg\" alt=\"Open In Colab\"/></a>"
      ]
    },
    {
      "cell_type": "markdown",
      "source": [
        "S I S T E M A  -   D   E  -  I N V E N T A R I O S\n",
        "\n",
        "La demanda mensual de un cierto producto, sigue la siguiente distribución de probabilidad empírica:\n",
        "\n",
        "![texto alternativo](https://drive.google.com/uc?id=1i2BtgMyQSJWOi10G1a9UePcG8VItpgzJ)\n",
        "\n",
        "El tiempo de entrega está distribuido de acuerdo a la siguiente función de probabilidad:\n",
        "\n",
        "![texto alternativo](https://drive.google.com/uc?id=1VsRSh1p00wfRk-xqdk6YuxcNu0d_Uc6x)\n",
        "\n",
        "Los factores estacionales para cada uno de los meses del año son como se muestra acontinuación:\n",
        "\n",
        "![texto alternativo](https://drive.google.com/uc?id=1ei4oObcvT8qq2J77MLS8ar3EIEaWhTfh)\n",
        "\n",
        "La información con respecto a los costos relevantes es la siguiente:\n",
        "\n",
        "$$\\text{Costo de ordenar = } \\$ 100 \\text{ /orden}$$ $$\\text{Costo de inventario = } \\$ 20 \\text{ /unidad/año}$$ $$\\text{Costo de faltante = } \\$ 50 \\text{ /unidad}$$\n",
        "\n",
        "Si el inventario inicial se asume en 150 unidades, ¿ determine la cantidad óptima a ordenar $(q)$ y el nivel óptimo de reorden $(R)$?\n",
        "\n",
        "\n"
      ],
      "metadata": {
        "id": "34NJm_1L0NNT"
      }
    },
    {
      "cell_type": "markdown",
      "source": [
        "S   O   L   U   C    I    Ó    N"
      ],
      "metadata": {
        "id": "MVfhv6Vb53Of"
      }
    },
    {
      "cell_type": "code",
      "execution_count": 75,
      "metadata": {
        "id": "RQQxrCT2qSfi"
      },
      "outputs": [],
      "source": [
        "#Importamos las librerias necesarias\n",
        "\n",
        "import random as rnd\n",
        "import numpy as np\n",
        "from tabulate import tabulate\n",
        "import matplotlib.pyplot as plt"
      ]
    },
    {
      "cell_type": "markdown",
      "source": [
        "Aplicamos el método de la transformada inversa para simular los valores de la demanda como nos muestra el ejemplo del libro."
      ],
      "metadata": {
        "id": "CdUoZ6dp6JkK"
      }
    },
    {
      "cell_type": "code",
      "source": [
        "def demanda():                            #Con esta función calcularemos la demanda\n",
        "  proba=[0,0.01,0.025,0.045,0.065, 0.087,0.11,0.135,0.162,0.19,0.219,0.254,0.299,0.359,0.424,0.494,0.574,0.649,0.719,0.784,0.844, 0.894,0.934,0.964,0.980,0.995,1]\n",
        "  u=rnd.random()\n",
        "  for i in range(len(proba)):\n",
        "      if proba[i-1] <= u <= proba[i]:     # Ubicamos el valor de nuestro número aleatorio en los intervalos\n",
        "          x=i+34                          #Asignamos el valor de demanda \"x\"\n",
        "          break\n",
        "  return x,u"
      ],
      "metadata": {
        "id": "FfxcaNZ2qWKh"
      },
      "execution_count": 76,
      "outputs": []
    },
    {
      "cell_type": "markdown",
      "source": [
        "Para calcular la demanda ajustada, tomaremos en cuenta los factores estacionales para cada uno de los meses del año que nos presenta el ejemplo, los cuales son los que se muestran en factor_est, finalmente tendremos que\n",
        "$$ \\text{Demanda ajustada } = x *(\\text{factor_est}) $$\n",
        "\n",
        "esto para un periodo de 12 meses"
      ],
      "metadata": {
        "id": "diIDSUnB4v67"
      }
    },
    {
      "cell_type": "code",
      "source": [
        "def demanda_ajustada(x,mes):              #Con esta función calcularemos la demanda ajustada\n",
        "  factor_est=[1.2, 1, 0.9, 0.8, 0.8 ,0.7, 0.8, 0.9, 1, 1.2, 1.3, 1.4]\n",
        "  for j in range(len(factor_est)):\n",
        "    if mes==j:                            # Posteriormente se creo un for mara ubicar los 12 meses\n",
        "                                          # Ubicamos el mes\n",
        "      x=round(x*factor_est[j-1])          # Multiplicamos la demanda por el factor\n",
        "  return x"
      ],
      "metadata": {
        "id": "JZD3JqRrqeZ_"
      },
      "execution_count": 77,
      "outputs": []
    },
    {
      "cell_type": "markdown",
      "source": [
        "Ubicamos el tiempo de entrega como se menciono al primcipio del problema."
      ],
      "metadata": {
        "id": "A5kVy3EG8LCp"
      }
    },
    {
      "cell_type": "code",
      "source": [
        "def tiemp_entrega(carga_pend,cont_ent):   # Calculamos el tiempo de entrega (y estatus de entrega pendiente)\n",
        "  carga_pend=True                         #Indica que hay entrega pendiente\n",
        "\n",
        "  v=rnd.random()\n",
        "  if 0<= v < 0.3:                         #Asignamos valor a el tiempo de entrega dependiendo su probabilidad\n",
        "    entrega=1\n",
        "  elif 0.3 <= v < 0.7:\n",
        "    entrega=2\n",
        "  elif 0.7 <= v < 1:\n",
        "    entrega=3\n",
        "  cont_ent+=1\n",
        "  return  entrega,carga_pend,cont_ent\n"
      ],
      "metadata": {
        "id": "TOx1SHxhrpwF"
      },
      "execution_count": 78,
      "outputs": []
    },
    {
      "cell_type": "markdown",
      "source": [
        "El sitema de inventarios que se analiza es lote constante y tiempo entre pedidos variables. Las variables de desición para este modelo son la cantidad de ordenar $q$ y el niver de reorden $R$ , las cuales minimizan los costos totales del inventario (costo de ordenar, costo de llevar inventario y costo faltante). En este caso para simular el manual del sistema de inventarios tendremos que  $q=200$ y $R = 100$"
      ],
      "metadata": {
        "id": "7w2H7JRV_Hcz"
      }
    },
    {
      "cell_type": "code",
      "source": [
        "# Inicializaos valores iniciales\n",
        "def inventario(q, R):                        # Definimos nuestra función de inventario\n",
        " inv_inicial=150\n",
        " inventario_i=[150]                          # Guardamos el inventario inicial en una lista en cual es de 150\n",
        " inv_falt=0                                  # Al comienzo no se cuenta con inventario faltante\n",
        " carga_pend=False                            # Indicamos que no hay carga pendiente\n",
        " tie_entrega=0                               # No hay tiempo de entrega\n",
        " cont=-1                                     # Comenzamos en -1 para comenzar a contar desde la siguiente iteracion\n",
        " faltante=0\n",
        " lista=[]                                     # Lista para imprimir tabla\n",
        " cont_ent=0\n",
        " for m in range(12):                         # Consideramos un ciclo de 12 meses\n",
        "   mes=m+1\n",
        "   dem,val=demanda()                         # Mandamos a llamar nuestra función de demanda\n",
        "   dem_ajus=demanda_ajustada(dem,mes)        # Calculamos la  demanda ajustada\n",
        "\n",
        "   inv_final=inv_inicial-dem_ajus            # Calculamos la demanda final\n",
        "   dem_prom=(inv_inicial+dem_ajus)/2     # Calculamos la demanda promedio mensual\n",
        "\n",
        "   if inv_final<=R and carga_pend==False:    # Si se pasa el punto de reorden y no hay carga pendiente\n",
        "     tie_entrega,carga_pend,cont_ent=tiemp_entrega(carga_pend,cont_ent)  # Calculamos el tiempo de entrega\n",
        "\n",
        "   if carga_pend==True:                        # La entrega aumentara en 1\n",
        "     cont+=1\n",
        "\n",
        "   if inv_final<0:                             # Si el inventario final es negativo, se imprime \"-\"\n",
        "     faltante=abs(inv_final)\n",
        "     lista.append([f\"{mes}\",f\"{inv_inicial}\", f\"{val}\", f\"{dem}\",f\"{dem_ajus}\", \"-\",f\"{faltante}\",f\"{tie_entrega}\",f\"{np.round(inv_inicial**2/(2*dem_ajus))}\"])\n",
        "     inv_falt+=faltante\n",
        "   else:\n",
        "     lista.append([f\"{mes}\",f\"{inv_inicial}\", f\"{val}\", f\"{dem}\",f\"{dem_ajus}\", f\"{inv_final}\",f\"{faltante}\",f\"{tie_entrega}\",f\"{np.round(dem_prom)}\"])\n",
        "\n",
        "   inv_inicial=inv_final                       # Inventario final pasa a ser inventario incial en el siguiente mes\n",
        "\n",
        "   if cont==tie_entrega:                       # Si se cumple tiempo de entrega\n",
        "     cont=-1\n",
        "     inv_inicial+=q                            # Ordenamos el inventario\n",
        "     carga_pend=False                          #Indica que ya no hay carga pendiente\n",
        "     tie_entrega=0                             # Reinicia tiempo de entrega\n",
        "\n",
        "   faltante=0                                  # Reinicia inventario faltante\n",
        "   inventario_i.append(inv_inicial)            # Guarda inventario inicial en una lista\n",
        "\n",
        " suma_inv_prom = sum(float(fila[-1]) for fila in lista) # calculamos la demanda promedio mensual\n",
        " costo_total = cont_ent * R + suma_inv_prom * 1.67 + inv_falt * 50 # Calculamos el costo total del inventario\n",
        "\n",
        " return costo_total, lista, inventario_i, cont_ent, suma_inv_prom, inv_falt\n"
      ],
      "metadata": {
        "id": "mwiKhOqLqsTn"
      },
      "execution_count": 79,
      "outputs": []
    },
    {
      "cell_type": "code",
      "source": [
        "# Asignamos los valores de q y R\n",
        "costo_total, lista, inventario_i, cont_ent, suma_inv_prom, inv_falt = inventario(200, 100)"
      ],
      "metadata": {
        "id": "69XoLY-qIY6W"
      },
      "execution_count": 84,
      "outputs": []
    },
    {
      "cell_type": "code",
      "source": [
        "# Imprimimos nuestra tabla\n",
        "headers = ['Mes', 'Inventario inicial' ,'Num_aleatorio' ,'Demanda' ,'Demanda ajustada' , 'Inventario final','Faltante', 'Entrega', 'Inventario mensual promedio']\n",
        "print(tabulate(lista, headers=headers, tablefmt=\"fancy_grid\",showindex=False))"
      ],
      "metadata": {
        "id": "3SdAzuNvJHcf",
        "outputId": "acd30ea9-7421-47b3-8f91-7248f1d12cca",
        "colab": {
          "base_uri": "https://localhost:8080/"
        }
      },
      "execution_count": 85,
      "outputs": [
        {
          "output_type": "stream",
          "name": "stdout",
          "text": [
            "╒═══════╤══════════════════════╤═════════════════╤═══════════╤════════════════════╤════════════════════╤════════════╤═══════════╤═══════════════════════════════╕\n",
            "│   Mes │   Inventario inicial │   Num_aleatorio │   Demanda │   Demanda ajustada │ Inventario final   │   Faltante │   Entrega │   Inventario mensual promedio │\n",
            "╞═══════╪══════════════════════╪═════════════════╪═══════════╪════════════════════╪════════════════════╪════════════╪═══════════╪═══════════════════════════════╡\n",
            "│     1 │                  150 │        0.275174 │        46 │                 55 │ 95                 │          0 │         2 │                           102 │\n",
            "├───────┼──────────────────────┼─────────────────┼───────────┼────────────────────┼────────────────────┼────────────┼───────────┼───────────────────────────────┤\n",
            "│     2 │                   95 │        0.392958 │        48 │                 48 │ 47                 │          0 │         2 │                            72 │\n",
            "├───────┼──────────────────────┼─────────────────┼───────────┼────────────────────┼────────────────────┼────────────┼───────────┼───────────────────────────────┤\n",
            "│     3 │                   47 │        0.837203 │        54 │                 49 │ -                  │          2 │         2 │                            23 │\n",
            "├───────┼──────────────────────┼─────────────────┼───────────┼────────────────────┼────────────────────┼────────────┼───────────┼───────────────────────────────┤\n",
            "│     4 │                  198 │        0.33482  │        47 │                 38 │ 160                │          0 │         0 │                           118 │\n",
            "├───────┼──────────────────────┼─────────────────┼───────────┼────────────────────┼────────────────────┼────────────┼───────────┼───────────────────────────────┤\n",
            "│     5 │                  160 │        0.131526 │        41 │                 33 │ 127                │          0 │         0 │                            96 │\n",
            "├───────┼──────────────────────┼─────────────────┼───────────┼────────────────────┼────────────────────┼────────────┼───────────┼───────────────────────────────┤\n",
            "│     6 │                  127 │        0.366459 │        48 │                 34 │ 93                 │          0 │         3 │                            80 │\n",
            "├───────┼──────────────────────┼─────────────────┼───────────┼────────────────────┼────────────────────┼────────────┼───────────┼───────────────────────────────┤\n",
            "│     7 │                   93 │        0.664881 │        52 │                 42 │ 51                 │          0 │         3 │                            68 │\n",
            "├───────┼──────────────────────┼─────────────────┼───────────┼────────────────────┼────────────────────┼────────────┼───────────┼───────────────────────────────┤\n",
            "│     8 │                   51 │        0.698014 │        52 │                 47 │ 4                  │          0 │         3 │                            49 │\n",
            "├───────┼──────────────────────┼─────────────────┼───────────┼────────────────────┼────────────────────┼────────────┼───────────┼───────────────────────────────┤\n",
            "│     9 │                    4 │        0.797598 │        54 │                 54 │ -                  │         50 │         3 │                             0 │\n",
            "├───────┼──────────────────────┼─────────────────┼───────────┼────────────────────┼────────────────────┼────────────┼───────────┼───────────────────────────────┤\n",
            "│    10 │                  150 │        0.737591 │        53 │                 64 │ 86                 │          0 │         2 │                           107 │\n",
            "├───────┼──────────────────────┼─────────────────┼───────────┼────────────────────┼────────────────────┼────────────┼───────────┼───────────────────────────────┤\n",
            "│    11 │                   86 │        0.969946 │        58 │                 75 │ 11                 │          0 │         2 │                            80 │\n",
            "├───────┼──────────────────────┼─────────────────┼───────────┼────────────────────┼────────────────────┼────────────┼───────────┼───────────────────────────────┤\n",
            "│    12 │                   11 │        0.818547 │        54 │                 54 │ -                  │         43 │         2 │                             1 │\n",
            "╘═══════╧══════════════════════╧═════════════════╧═══════════╧════════════════════╧════════════════════╧════════════╧═══════════╧═══════════════════════════════╛\n"
          ]
        }
      ]
    },
    {
      "cell_type": "markdown",
      "source": [
        "El inventario inicial queda fijo, el cual es 150, apartir de ahi ira variando dependiendo el número aleatorio que se genere. Simulamos para un año de operación del sistema de inventarios."
      ],
      "metadata": {
        "id": "U9WspbrKxmDg"
      }
    },
    {
      "cell_type": "code",
      "source": [
        "#Imprime gráfica\n",
        "plt.plot(inventario_i, marker='o', label=\"Inventario inicial\")\n",
        "plt.title('Simulación para 1 año de operación del sistema de inventarios')\n",
        "plt.xlabel('Mes')\n",
        "plt.ylabel('Inventario inicial')\n",
        "plt.axhline(100, color=\"red\",linestyle='--', label='Punto de reorden')\n",
        "plt.axhline(0, color='black')\n",
        "plt.grid(True)\n",
        "plt.legend()\n",
        "plt.show()"
      ],
      "metadata": {
        "colab": {
          "base_uri": "https://localhost:8080/",
          "height": 472
        },
        "id": "dJC0nn7YLJav",
        "outputId": "7be20bd1-e027-4a7d-bed2-fdc062d16e91"
      },
      "execution_count": 86,
      "outputs": [
        {
          "output_type": "display_data",
          "data": {
            "text/plain": [
              "<Figure size 640x480 with 1 Axes>"
            ],
            "image/png": "[encoded data removed]"
          },
          "metadata": {}
        }
      ]
    },
    {
      "cell_type": "markdown",
      "source": [
        "Veamos que en este caso especifico , al final del primer mes , el nivel de existencia es menor que el nivel de reorden, por lo cual el primer orden es colocado, de acuerdo con nuestra tabla anterior el tiempo de entrega de este primer orden es de 2 meses, por lo que se tendria un total de 3 ordenes correspondientes al primer mes, sexto mes y decimo mes respectivamente.\n",
        "Ahora calcularemos los costos totales anuales del sistema de inventario."
      ],
      "metadata": {
        "id": "dD4_4KiANLtP"
      }
    },
    {
      "cell_type": "code",
      "source": [
        "costo = [cont_ent * 100, suma_inv_prom * 1.67, inv_falt * 50, costo_total]\n",
        "print(tabulate([costo], headers=['Costo de ordenar', 'Costo de llevar el inventario', 'Costo de faltante', 'Costo total'], tablefmt=\"fancy_grid\", showindex=False))"
      ],
      "metadata": {
        "colab": {
          "base_uri": "https://localhost:8080/"
        },
        "id": "1_LoXbqS1WtQ",
        "outputId": "715d4879-26e6-464e-88d8-17793b313022"
      },
      "execution_count": 87,
      "outputs": [
        {
          "output_type": "stream",
          "name": "stdout",
          "text": [
            "╒════════════════════╤═════════════════════════════════╤═════════════════════╤═══════════════╕\n",
            "│   Costo de ordenar │   Costo de llevar el inventario │   Costo de faltante │   Costo total │\n",
            "╞════════════════════╪═════════════════════════════════╪═════════════════════╪═══════════════╡\n",
            "│                300 │                         1329.32 │                4750 │       6379.32 │\n",
            "╘════════════════════╧═════════════════════════════════╧═════════════════════╧═══════════════╛\n"
          ]
        }
      ]
    },
    {
      "cell_type": "markdown",
      "source": [
        "Por lo que el costo total anual de nuestro sistema de inventarios para este caso en especifico es de $\\$ 6379.32$\n",
        "\n",
        "\n"
      ],
      "metadata": {
        "id": "gGzTZnr71vzw"
      }
    },
    {
      "cell_type": "code",
      "source": [
        "# Función objetivo para Hooke-Jeeves\n",
        "def funcion_objetivo(params):\n",
        "    q, R = map(int, params)\n",
        "    costo_total, _, _, _, _, _ = inventario(q, R)\n",
        "    return costo_total"
      ],
      "metadata": {
        "id": "qIsuzQZtU_oV"
      },
      "execution_count": 96,
      "outputs": []
    },
    {
      "cell_type": "code",
      "source": [
        "# Método de Hooke-Jeeves\n",
        "def hooke_jeeves(func, x0, delta, gamma, epsilon):\n",
        "    x = np.array(x0, dtype=float)\n",
        "    delta = np.array(delta, dtype=float)\n",
        "    while np.any(delta > epsilon):\n",
        "        improved = False\n",
        "        for i in range(len(x)):\n",
        "            for direction in [-1, 1]:\n",
        "                x_new = x.copy()\n",
        "                x_new[i] += direction * delta[i]\n",
        "                if func(x_new) < func(x):\n",
        "                    x = x_new\n",
        "                    improved = True\n",
        "                    break\n",
        "            if improved:\n",
        "                break\n",
        "        if not improved:\n",
        "            delta *= gamma\n",
        "    return x\n"
      ],
      "metadata": {
        "id": "GYKdbNnTVCZo"
      },
      "execution_count": 97,
      "outputs": []
    },
    {
      "cell_type": "code",
      "source": [
        "# Parámetros iniciales para Hooke-Jeeves\n",
        "x0 = [200, 100]  # Valores iniciales de q y R\n",
        "delta = [10.0, 10.0]  # Longitud de paso inicial como floats\n",
        "gamma = 0.5  # Factor de reducción\n",
        "epsilon = 0.01  # Criterio de parada"
      ],
      "metadata": {
        "id": "zvdVoGeZVGRe"
      },
      "execution_count": 98,
      "outputs": []
    },
    {
      "cell_type": "code",
      "source": [
        "# Ejecutar Hooke-Jeeves\n",
        "q_opt, R_opt = hooke_jeeves(funcion_objetivo, x0, delta, gamma, epsilon)\n",
        "print(f'Valores óptimos: q = {q_opt}, R = {R_opt}')"
      ],
      "metadata": {
        "id": "AsI2reN3VJGS",
        "outputId": "0053bc25-d87f-43e1-fd90-289a0ad19c03",
        "colab": {
          "base_uri": "https://localhost:8080/"
        }
      },
      "execution_count": 99,
      "outputs": [
        {
          "output_type": "stream",
          "name": "stdout",
          "text": [
            "Valores óptimos: q = 183.59375, R = 94.9609375\n"
          ]
        }
      ]
    },
    {
      "cell_type": "code",
      "source": [
        "# Calcular el costo total con los valores óptimos\n",
        "costo_total, lista, inventario_i, cont_ent, suma_inv_prom, inv_falt = inventario(int(q_opt), int(R_opt))\n",
        "print(f'Costo total óptimo: {costo_total}')"
      ],
      "metadata": {
        "id": "acLtKEWDWDXX",
        "outputId": "579ce0ff-4a38-4ec1-e785-28bc3ac77cf0",
        "colab": {
          "base_uri": "https://localhost:8080/"
        }
      },
      "execution_count": 100,
      "outputs": [
        {
          "output_type": "stream",
          "name": "stdout",
          "text": [
            "Costo total óptimo: 4028.2200000000003\n"
          ]
        }
      ]
    }
  ]
}