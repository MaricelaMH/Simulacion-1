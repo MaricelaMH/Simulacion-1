{
  "nbformat": 4,
  "nbformat_minor": 0,
  "metadata": {
    "colab": {
      "provenance": [],
      "include_colab_link": true
    },
    "kernelspec": {
      "name": "python3",
      "display_name": "Python 3"
    },
    "language_info": {
      "name": "python"
    }
  },
  "cells": [
    {
      "cell_type": "markdown",
      "metadata": {
        "id": "view-in-github",
        "colab_type": "text"
      },
      "source": [
        "<a href=\"https://colab.research.google.com/github/MaricelaMH/Simulacion-1/blob/main/Inventario.ipynb\" target=\"_parent\"><img src=\"https://colab.research.google.com/assets/colab-badge.svg\" alt=\"Open In Colab\"/></a>"
      ]
    },
    {
      "cell_type": "markdown",
      "source": [
        "S I S T E M A  -   D   E  -  I N V E N T A R I O S\n",
        "\n",
        "La demanda mensual de un cierto producto, sigue la siguiente distribución de probabilidad empírica:\n",
        "\n",
        "![texto alternativo](https://drive.google.com/uc?id=1i2BtgMyQSJWOi10G1a9UePcG8VItpgzJ)\n",
        "\n",
        "El tiempo de entrega está distribuido de acuerdo a la siguiente función de probabilidad:\n",
        "\n",
        "![texto alternativo](https://drive.google.com/uc?id=1VsRSh1p00wfRk-xqdk6YuxcNu0d_Uc6x)\n",
        "\n",
        "Los factores estacionales para cada uno de los meses del año son como se muestra acontinuación:\n",
        "\n",
        "![texto alternativo](https://drive.google.com/uc?id=1ei4oObcvT8qq2J77MLS8ar3EIEaWhTfh)\n",
        "\n",
        "La información con respecto a los costos relevantes es la siguiente:\n",
        "\n",
        "$$\\text{Costo de ordenar = } \\$ 100 \\text{ /orden}$$ $$\\text{Costo de inventario = } \\$ 20 \\text{ /unidad/año}$$ $$\\text{Costo de faltante = } \\$ 50 \\text{ /unidad}$$\n",
        "\n",
        "Si el inventario inicial se asume en 150 unidades, ¿ determine la cantidad óptima a ordenar $(q)$ y el nivel óptimo de reorden $(R)$?\n",
        "\n",
        "\n"
      ],
      "metadata": {
        "id": "34NJm_1L0NNT"
      }
    },
    {
      "cell_type": "markdown",
      "source": [
        "S   O   L   U   C    I    Ó    N"
      ],
      "metadata": {
        "id": "MVfhv6Vb53Of"
      }
    },
    {
      "cell_type": "code",
      "execution_count": 78,
      "metadata": {
        "id": "RQQxrCT2qSfi"
      },
      "outputs": [],
      "source": [
        "#Importamos las librerias necesarias\n",
        "\n",
        "import random as rnd\n",
        "import numpy as np\n",
        "from tabulate import tabulate\n",
        "import matplotlib.pyplot as plt"
      ]
    },
    {
      "cell_type": "markdown",
      "source": [
        "Aplicamos el método de la transformada inversa para simular los valores de la demanda como nos muestra el ejemplo del libro."
      ],
      "metadata": {
        "id": "CdUoZ6dp6JkK"
      }
    },
    {
      "cell_type": "code",
      "source": [
        "def demanda():                            #Con esta función calcularemos la demanda\n",
        "  proba=[0,0.01,0.025,0.045,0.065, 0.087,0.11,0.135,0.162,0.19,0.219,0.254,0.299,0.359,0.424,0.494,0.574,0.649,0.719,0.784,0.844, 0.894,0.934,0.964,0.980,0.995,1]\n",
        "  u=rnd.random()\n",
        "  for i in range(len(proba)):\n",
        "      if proba[i-1] <= u <= proba[i]:     # Ubicamos el valor de nuestro número aleatorio en los intervalos\n",
        "          x=i+34                          #Asignamos el valor de demanda \"x\"\n",
        "          break\n",
        "  return x,u"
      ],
      "metadata": {
        "id": "FfxcaNZ2qWKh"
      },
      "execution_count": 79,
      "outputs": []
    },
    {
      "cell_type": "markdown",
      "source": [
        "Para calcular la demanda ajustada, tomaremos en cuenta los factores estacionales para cada uno de los meses del año que nos presenta el ejemplo, los cuales son los que se muestran en factor_est, finalmente tendremos que\n",
        "$$ \\text{Demanda ajustada } = x *(\\text{factor_est}) $$\n",
        "\n",
        "esto para un periodo de 12 meses"
      ],
      "metadata": {
        "id": "diIDSUnB4v67"
      }
    },
    {
      "cell_type": "code",
      "source": [
        "def demanda_ajustada(x,mes):              #Con esta función calcularemos la demanda ajustada\n",
        "  factor_est=[1.2, 1, 0.9, 0.8, 0.8 ,0.7, 0.8, 0.9, 1, 1.2, 1.3, 1.4]\n",
        "  for j in range(len(factor_est)):\n",
        "    if mes==j:                            # Posteriormente se creo un for mara ubicar los 12 meses\n",
        "                                          # Ubicamos el mes\n",
        "      x=round(x*factor_est[j-1])          # Multiplicamos la demanda por el factor\n",
        "  return x"
      ],
      "metadata": {
        "id": "JZD3JqRrqeZ_"
      },
      "execution_count": 80,
      "outputs": []
    },
    {
      "cell_type": "markdown",
      "source": [
        "Ubicamos el tiempo de entrega como se menciono al primcipio del problema."
      ],
      "metadata": {
        "id": "A5kVy3EG8LCp"
      }
    },
    {
      "cell_type": "code",
      "source": [
        "def tiemp_entrega(carga_pend,cont_ent):   # Calculamos el tiempo de entrega (y estatus de entrega pendiente)\n",
        "  carga_pend=True                         #Indica que hay entrega pendiente\n",
        "\n",
        "  v=rnd.random()\n",
        "  if 0<= v < 0.3:                         #Asignamos valor a el tiempo de entrega dependiendo su probabilidad\n",
        "    entrega=1\n",
        "  elif 0.3 <= v < 0.7:\n",
        "    entrega=2\n",
        "  elif 0.7 <= v < 1:\n",
        "    entrega=3\n",
        "  cont_ent+=1\n",
        "  return  entrega,carga_pend,cont_ent\n"
      ],
      "metadata": {
        "id": "TOx1SHxhrpwF"
      },
      "execution_count": 81,
      "outputs": []
    },
    {
      "cell_type": "markdown",
      "source": [
        "El sitema de inventarios que se analiza es lote constante y tiempo entre pedidos variables. Las variables de desición para este modelo son la cantidad de ordenar $q$ y el niver de reorden $R$ , las cuales minimizan los costos totales del inventario (costo de ordenar, costo de llevar inventario y costo faltante). En este caso para simular el manual del sistema de inventarios tendremos que  $q=200$ y $R = 100$"
      ],
      "metadata": {
        "id": "7w2H7JRV_Hcz"
      }
    },
    {
      "cell_type": "code",
      "source": [
        "# Inicializaos valores iniciales\n",
        "\n",
        "inv_inicial=150\n",
        "inventario_i=[150]                          #Guarda inventario inicial en una lista en cual es de 150\n",
        "inv_falt=0\n",
        "carga_pend=False                            #Indicamos que no hay carga pendiente\n",
        "t_entrega=0                                 #No hay tiempo de entrega\n",
        "cont=-1                                     #Contador para recibir la entrega (inicia en -1 para comenzar a contar desde la sig. iteracion)\n",
        "faltante=0                                  #Demanda faltante\n",
        "data=[]                                     #Lista para imprimir tabla\n",
        "cont_ent=0\n",
        "q=200\n",
        "R=100\n",
        "for m in range(12):                         # Consideramos un ciclo de 12 meses\n",
        "  mes=m+1\n",
        "  dem,val=demanda()                         #Calculamos la  demanda y número aleatorio generado para el mes correspondiente\n",
        "  dem_ajus=demanda_ajustada(dem,mes)        #Calculaos la  demanda ajustada\n",
        "\n",
        "  inv_final=inv_inicial-dem_ajus            #Calculamos la demanda final\n",
        "  inv_men_prom=(inv_inicial+dem_ajus)/2     #Calculamos la demanda promedio mensual\n",
        "\n",
        "\n",
        "\n",
        "  if inv_final<=R and carga_pend==False:    #Condición: Si se pasa el punto de reorden y no hay carga pendiente\n",
        "    t_entrega,carga_pend,cont_ent=tiemp_entrega(carga_pend,cont_ent)  #Caluclamos el tiempo de entrega\n",
        "\n",
        "  if carga_pend==True:                        #Contador para recibir la entrega aumenta en 1\n",
        "    cont+=1\n",
        "\n",
        "  if inv_final<0:                             #Si el inventario final es negativo, se imprime \"-\"\n",
        "    faltante=abs(inv_final)\n",
        "    data.append([f\"{mes}\",f\"{inv_inicial}\", f\"{val}\", f\"{dem}\",f\"{dem_ajus}\", \"-\",f\"{faltante}\",f\"{t_entrega}\",f\"{np.round(inv_inicial**2/(2*dem_ajus))}\"])\n",
        "    inv_falt+=faltante\n",
        "  else:\n",
        "    data.append([f\"{mes}\",f\"{inv_inicial}\", f\"{val}\", f\"{dem}\",f\"{dem_ajus}\", f\"{inv_final}\",f\"{faltante}\",f\"{t_entrega}\",f\"{np.round(inv_men_prom)}\"])\n",
        "\n",
        "  inv_inicial=inv_final                       #Inventario final pasa a ser inventario incial en el siguiente mes\n",
        "\n",
        "  if cont==t_entrega:                         #Condición: Se cumple tiempo de entrega\n",
        "    cont=-1                                   #Reinicia contador\n",
        "    inv_inicial+=q                          #Aumenta el inventario +200\n",
        "    carga_pend=False                          #Indica que ya no hay carga pendiente\n",
        "    t_entrega=0                               #Reinicia tiempo de entrega\n",
        "\n",
        "  faltante=0                                  #Reinicia inv. faltante\n",
        "  inventario_i.append(inv_inicial)            #Guarda inventario inicial en una lista\n",
        "\n",
        "#Imprime tabla\n",
        "headers = ['Mes', 'Inventario inicial' ,'No. aleatorio' ,'Demanda' ,'Demanda ajustada' , 'Inventario final','Faltante', 'Entrega', 'Inventario mensual promedio']\n",
        "print(tabulate(data, headers=headers, tablefmt=\"fancy_grid\",showindex=False))\n",
        "\n"
      ],
      "metadata": {
        "colab": {
          "base_uri": "https://localhost:8080/"
        },
        "id": "mwiKhOqLqsTn",
        "outputId": "f25882c4-3bfe-472f-9a73-6baf07287152"
      },
      "execution_count": 84,
      "outputs": [
        {
          "output_type": "stream",
          "name": "stdout",
          "text": [
            "╒═══════╤══════════════════════╤═════════════════╤═══════════╤════════════════════╤════════════════════╤════════════╤═══════════╤═══════════════════════════════╕\n",
            "│   Mes │   Inventario inicial │   No. aleatorio │   Demanda │   Demanda ajustada │ Inventario final   │   Faltante │   Entrega │   Inventario mensual promedio │\n",
            "╞═══════╪══════════════════════╪═════════════════╪═══════════╪════════════════════╪════════════════════╪════════════╪═══════════╪═══════════════════════════════╡\n",
            "│     1 │                  150 │       0.526486  │        50 │                 60 │ 90                 │          0 │         3 │                           105 │\n",
            "├───────┼──────────────────────┼─────────────────┼───────────┼────────────────────┼────────────────────┼────────────┼───────────┼───────────────────────────────┤\n",
            "│     2 │                   90 │       0.282058  │        46 │                 46 │ 44                 │          0 │         3 │                            68 │\n",
            "├───────┼──────────────────────┼─────────────────┼───────────┼────────────────────┼────────────────────┼────────────┼───────────┼───────────────────────────────┤\n",
            "│     3 │                   44 │       0.519723  │        50 │                 45 │ -                  │          1 │         3 │                            22 │\n",
            "├───────┼──────────────────────┼─────────────────┼───────────┼────────────────────┼────────────────────┼────────────┼───────────┼───────────────────────────────┤\n",
            "│     4 │                   -1 │       0.931735  │        56 │                 45 │ -                  │         46 │         3 │                             0 │\n",
            "├───────┼──────────────────────┼─────────────────┼───────────┼────────────────────┼────────────────────┼────────────┼───────────┼───────────────────────────────┤\n",
            "│     5 │                  154 │       0.0773381 │        39 │                 31 │ 123                │          0 │         0 │                            92 │\n",
            "├───────┼──────────────────────┼─────────────────┼───────────┼────────────────────┼────────────────────┼────────────┼───────────┼───────────────────────────────┤\n",
            "│     6 │                  123 │       0.675713  │        52 │                 36 │ 87                 │          0 │         1 │                            80 │\n",
            "├───────┼──────────────────────┼─────────────────┼───────────┼────────────────────┼────────────────────┼────────────┼───────────┼───────────────────────────────┤\n",
            "│     7 │                   87 │       0.415305  │        48 │                 38 │ 49                 │          0 │         1 │                            62 │\n",
            "├───────┼──────────────────────┼─────────────────┼───────────┼────────────────────┼────────────────────┼────────────┼───────────┼───────────────────────────────┤\n",
            "│     8 │                  249 │       0.884925  │        55 │                 50 │ 199                │          0 │         0 │                           150 │\n",
            "├───────┼──────────────────────┼─────────────────┼───────────┼────────────────────┼────────────────────┼────────────┼───────────┼───────────────────────────────┤\n",
            "│     9 │                  199 │       0.740436  │        53 │                 53 │ 146                │          0 │         0 │                           126 │\n",
            "├───────┼──────────────────────┼─────────────────┼───────────┼────────────────────┼────────────────────┼────────────┼───────────┼───────────────────────────────┤\n",
            "│    10 │                  146 │       0.129875  │        41 │                 49 │ 97                 │          0 │         1 │                            98 │\n",
            "├───────┼──────────────────────┼─────────────────┼───────────┼────────────────────┼────────────────────┼────────────┼───────────┼───────────────────────────────┤\n",
            "│    11 │                   97 │       0.101624  │        40 │                 52 │ 45                 │          0 │         1 │                            74 │\n",
            "├───────┼──────────────────────┼─────────────────┼───────────┼────────────────────┼────────────────────┼────────────┼───────────┼───────────────────────────────┤\n",
            "│    12 │                  245 │       0.761648  │        53 │                 53 │ 192                │          0 │         0 │                           149 │\n",
            "╘═══════╧══════════════════════╧═════════════════╧═══════════╧════════════════════╧════════════════════╧════════════╧═══════════╧═══════════════════════════════╛\n"
          ]
        }
      ]
    },
    {
      "cell_type": "markdown",
      "source": [
        "Simulamos para un año de operación del sistema de inventarios"
      ],
      "metadata": {
        "id": "ZxezvsteL0lt"
      }
    },
    {
      "cell_type": "code",
      "source": [
        "#Imprime gráfica\n",
        "plt.plot(inventario_i, marker='o', label=\"Inventario inicial\")\n",
        "plt.title('Simulación para 1 año de operación del sist. de inventarios')\n",
        "plt.xlabel('Mes')\n",
        "plt.ylabel('Inventario inicial')\n",
        "plt.axhline(100, color=\"red\",linestyle='--', label='Punto de reorden')\n",
        "plt.axhline(0, color='black')\n",
        "plt.grid(True)\n",
        "plt.legend()\n",
        "plt.show()"
      ],
      "metadata": {
        "colab": {
          "base_uri": "https://localhost:8080/",
          "height": 472
        },
        "id": "dJC0nn7YLJav",
        "outputId": "b3d9b5b0-4e24-4838-b911-208b196a003e"
      },
      "execution_count": 85,
      "outputs": [
        {
          "output_type": "display_data",
          "data": {
            "text/plain": [
              "<Figure size 640x480 with 1 Axes>"
            ],
            "image/png": "[encoded data removed]"
          },
          "metadata": {}
        }
      ]
    },
    {
      "cell_type": "markdown",
      "source": [
        "Asi, calculamos los costos totales anuales del sistema de inventario"
      ],
      "metadata": {
        "id": "dD4_4KiANLtP"
      }
    },
    {
      "cell_type": "code",
      "source": [
        "suma_inv_prom = 0\n",
        "for fila in data:\n",
        "    valor_str = fila[-1]\n",
        "    suma_inv_prom += float(valor_str)\n",
        "\n",
        "\n",
        "costo=[[cont_ent*R], [suma_inv_prom*1.67] ,[inv_falt*50],[cont_ent*R+suma_inv_prom*1.67+inv_falt*50]]\n",
        "costo_res = [[costo[j][0] for j in range(len(costo))] for i in range(1)]\n",
        "#Tabla\n",
        "headers=['Costo de ordenar','Costo de llevar el inventario','Costo de faltante','Costo total']\n",
        "print(tabulate(costo_res, headers=headers, tablefmt=\"fancy_grid\",showindex=False))"
      ],
      "metadata": {
        "colab": {
          "base_uri": "https://localhost:8080/"
        },
        "id": "1_LoXbqS1WtQ",
        "outputId": "597269a4-eb5f-493b-e544-07bf27d1cc24"
      },
      "execution_count": 86,
      "outputs": [
        {
          "output_type": "stream",
          "name": "stdout",
          "text": [
            "╒════════════════════╤═════════════════════════════════╤═════════════════════╤═══════════════╕\n",
            "│   Costo de ordenar │   Costo de llevar el inventario │   Costo de faltante │   Costo total │\n",
            "╞════════════════════╪═════════════════════════════════╪═════════════════════╪═══════════════╡\n",
            "│                300 │                         1713.42 │                2350 │       4363.42 │\n",
            "╘════════════════════╧═════════════════════════════════╧═════════════════════╧═══════════════╛\n"
          ]
        }
      ]
    },
    {
      "cell_type": "code",
      "source": [
        "def experimento(q,R):\n",
        "  inv_inicial=150\n",
        "  inventario_i=[150]                          #Guarda inventario inicial en una lista\n",
        "  inv_falt=0\n",
        "  carga_pend=False                            #Indica que no hay carga pendiente\n",
        "  t_entrega=0                                 #No hay tiempo de entrega\n",
        "  cont=-1                                     #Contador para recibir la entrega (inicia en -1 para comenzar a contar desde la sig. iteracion)\n",
        "  faltante=0                                  #Demanda faltante\n",
        "  data=[]                                     #Lista para imprimir tabla\n",
        "  cont_ent=0\n",
        "  for m in range(12):                         #Ciclo de 12 meses\n",
        "    mes=m+1\n",
        "    dem,val=demanda()                         #Calcula demanda y número aleatorio generado para el mes correspondiente\n",
        "    dem_ajus=demanda_ajustada(dem,mes)        #Calcula demanda ajustada\n",
        "\n",
        "    inv_final=inv_inicial-dem_ajus            #Calcula demanda final\n",
        "    inv_men_prom=(inv_inicial+dem_ajus)/2     #Calcula demanda promedio mensual\n",
        "\n",
        "\n",
        "\n",
        "    if inv_final<=R and carga_pend==False:    #Condición: Se pasó el punto de reorden y no hay carga pendiente\n",
        "      t_entrega,carga_pend,cont_ent=tiemp_entrega(carga_pend,cont_ent)  #Calucla tiempo de entrega\n",
        "\n",
        "    if carga_pend==True:                        #Contador para recibir la entrega aumenta en 1\n",
        "      cont+=1\n",
        "\n",
        "    if inv_final<0:                             #Si el inventario final es negativo, se imprime \"-\"\n",
        "      faltante=abs(inv_final)\n",
        "      data.append([f\"{mes}\",f\"{inv_inicial}\", f\"{val}\", f\"{dem}\",f\"{dem_ajus}\", \"-\",f\"{faltante}\",f\"{t_entrega}\",f\"{np.round(inv_inicial**2/(2*dem_ajus))}\"])\n",
        "      inv_falt+=faltante\n",
        "    else:\n",
        "      data.append([f\"{mes}\",f\"{inv_inicial}\", f\"{val}\", f\"{dem}\",f\"{dem_ajus}\", f\"{inv_final}\",f\"{faltante}\",f\"{t_entrega}\",f\"{np.round(inv_men_prom)}\"])\n",
        "\n",
        "    inv_inicial=inv_final                       #Inventario final pasa a ser inventario incial en el siguiente mes\n",
        "\n",
        "    if cont==t_entrega:                         #Condición: Se cumple tiempo de entrega\n",
        "      cont=-1                                   #Reinicia contador\n",
        "      inv_inicial+=q                          #Aumenta el inventario +200\n",
        "      carga_pend=False                          #Indica que ya no hay carga pendiente\n",
        "      t_entrega=0                               #Reinicia tiempo de entrega\n",
        "\n",
        "    faltante=0                                  #Reinicia inv. faltante\n",
        "    inventario_i.append(inv_inicial)            #Guarda inventario inicial en una lista\n",
        "\n",
        "  #Imprime tabla\n",
        "  headers = ['Mes', 'Inventario inicial' ,'No. aleatorio' ,'Demanda' ,'Demanda ajustada' , 'Inventario final','Faltante', 'Entrega', 'Inventario mensual promedio']\n",
        "  #print(tabulate(data, headers=headers, tablefmt=\"fancy_grid\",showindex=False))\n",
        "\n",
        "  suma_inv_prom = 0\n",
        "  for fila in data:\n",
        "    # Asumiendo que 'Inventario mensual promedio' es la última columna\n",
        "    valor_str = fila[-1]\n",
        "    suma_inv_prom += float(valor_str)\n",
        "\n",
        "  costo=[cont_ent*R, suma_inv_prom*1.67 ,inv_falt*50,cont_ent*R+suma_inv_prom*1.67+inv_falt*50]\n",
        "  #print(costo)\n",
        "  return cont_ent*R+suma_inv_prom*1.67+inv_falt*50"
      ],
      "metadata": {
        "id": "iM-4kdzV8vFy"
      },
      "execution_count": 92,
      "outputs": []
    },
    {
      "cell_type": "code",
      "source": [
        "EXP=experimento(100,200)"
      ],
      "metadata": {
        "id": "T7zcRC1K9Dn7"
      },
      "execution_count": 93,
      "outputs": []
    },
    {
      "cell_type": "code",
      "source": [
        "EXP"
      ],
      "metadata": {
        "id": "g6M2cYOK9Wty",
        "outputId": "1d0bc8bd-8269-43d7-870e-10e7939ddf74",
        "colab": {
          "base_uri": "https://localhost:8080/"
        }
      },
      "execution_count": 94,
      "outputs": [
        {
          "output_type": "execute_result",
          "data": {
            "text/plain": [
              "4534.33"
            ]
          },
          "metadata": {},
          "execution_count": 94
        }
      ]
    },
    {
      "cell_type": "code",
      "source": [
        "from scipy.optimize import minimize\n",
        "\n",
        "def fun_obj(Z):\n",
        "  q,R= Z\n",
        "  return experimento(q,R)\n",
        "\n",
        "def opti():\n",
        "  valores_iniciales = [200, 100]\n",
        "  resultado=minimize(fun_obj,valores_iniciales,method='BFGS')\n",
        "\n",
        "  print('R:',resultado.x[0])\n",
        "  print('q:',resultado.x[1])\n",
        "  return resultado.x[0],resultado.x[1]\n",
        "\n"
      ],
      "metadata": {
        "id": "IJybkstW-F6p"
      },
      "execution_count": 95,
      "outputs": []
    },
    {
      "cell_type": "code",
      "source": [
        "Res=opti()\n",
        "print(Res)\n",
        "Optimizacion=experimento(R,q)\n",
        "Optimizacion"
      ],
      "metadata": {
        "id": "6YssAm6e-17_",
        "outputId": "b7e8ebf7-7bbe-40e0-9ae1-b40776855ffd",
        "colab": {
          "base_uri": "https://localhost:8080/"
        }
      },
      "execution_count": 91,
      "outputs": [
        {
          "output_type": "stream",
          "name": "stdout",
          "text": [
            "R: 200.0\n",
            "q: 100.0\n",
            "(200.0, 100.0)\n"
          ]
        },
        {
          "output_type": "execute_result",
          "data": {
            "text/plain": [
              "10828.42"
            ]
          },
          "metadata": {},
          "execution_count": 91
        }
      ]
    }
  ]
}