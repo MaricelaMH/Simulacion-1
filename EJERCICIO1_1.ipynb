{
  "nbformat": 4,
  "nbformat_minor": 0,
  "metadata": {
    "colab": {
      "provenance": [],
      "authorship_tag": "ABX9TyOUPV4q5d8Qw8h1xGkb1fnO",
      "include_colab_link": true
    },
    "kernelspec": {
      "name": "python3",
      "display_name": "Python 3"
    },
    "language_info": {
      "name": "python"
    }
  },
  "cells": [
    {
      "cell_type": "markdown",
      "metadata": {
        "id": "view-in-github",
        "colab_type": "text"
      },
      "source": [
        "<a href=\"https://colab.research.google.com/github/MaricelaMH/Simulacion-1/blob/main/EJERCICIO1_1.ipynb\" target=\"_parent\"><img src=\"https://colab.research.google.com/assets/colab-badge.svg\" alt=\"Open In Colab\"/></a>"
      ]
    },
    {
      "cell_type": "markdown",
      "source": [
        "Del ejercicio 1 crear ahora un ciclo para cualquier numero de 4 cifras"
      ],
      "metadata": {
        "id": "HYCyKGqtBvaC"
      }
    },
    {
      "cell_type": "code",
      "source": [
        "\n",
        "# Pedimos al usuario que ingrese un número de 4 cifras\n",
        "iter = int(input(\"Ingrese la cantidad de iteraciones deseadas: \"))\n",
        "num = input(\"Ingrese un numero de 4 cifras: \")\n",
        "\n",
        "# Aseguramos que el número ingresado sea de 4 cifras, de lo contrario, marcará error\n",
        "while len(num) != 4 or not num.isdigit(): #Aseguramos que se ingrese un numero\n",
        "    num = input(\"Ingrese un numero de 4 cifras: \")\n",
        "\n",
        "# Convertimos el número ingresado a entero\n",
        "num = int(num)\n",
        "\n",
        "# Creamos una tabla donde mostraremos los resultados\n",
        "print(\"\\nn    x_n   (x_n)^2   CUAD_MED\")\n",
        "\n",
        "# Aplicamos el método del cuadrado medio\n",
        "for i in range(iter):\n",
        "    elev_cuad = num ** 2\n",
        "    cad = str(elev_cuad)\n",
        "\n",
        "    #Con zfill rellenamos automaticamente con ceros para que sea un numero al menos de 8 cifras\n",
        "    nuevo_num = cad.zfill(8)\n",
        "\n",
        "    num_str = str(num)\n",
        "    while len(num_str) < 4:\n",
        "        num_str = \"0\" + num_str\n",
        "\n",
        "    print(f\"{i}    {num_str}   {nuevo_num}   {nuevo_num[2:6]}\")\n",
        "    num = int(nuevo_num[2:6])  # Tomamos los 4 dígitos centrales como el siguiente número\n"
      ],
      "metadata": {
        "colab": {
          "base_uri": "https://localhost:8080/"
        },
        "id": "6-zv1mcEOiMC",
        "outputId": "7b417ec3-d3fa-438c-dcd4-238c67069300"
      },
      "execution_count": 7,
      "outputs": [
        {
          "output_type": "stream",
          "name": "stdout",
          "text": [
            "Ingrese la cantidad de iteraciones deseadas: 10\n",
            "Ingrese un numero de 4 cifras: 1234\n",
            "\n",
            "n    x_n   (x_n)^2   CUAD_MED\n",
            "0    1234   01522756   5227\n",
            "1    5227   27321529   3215\n",
            "2    3215   10336225   3362\n",
            "3    3362   11303044   3030\n",
            "4    3030   09180900   1809\n",
            "5    1809   03272481   2724\n",
            "6    2724   07420176   4201\n",
            "7    4201   17648401   6484\n",
            "8    6484   42042256   0422\n",
            "9    0422   00178084   1780\n"
          ]
        }
      ]
    },
    {
      "cell_type": "code",
      "source": [
        "from tabulate import tabulate\n",
        "\n",
        "imp = set()\n",
        "resultados = []\n",
        "\n",
        "# Pedimos al usuario que ingrese un número de 4 cifras\n",
        "iter = int(input(\"Ingrese la cantidad de iteraciones deseadas: \"))\n",
        "num = input(\"Ingrese un numero de 4 cifras: \")\n",
        "\n",
        "# Aseguramos que el número ingresado sea de 4 cifras, de lo contrario, marcará error\n",
        "while len(num) != 4 or not num.isdigit():  # Aseguramos que se ingrese un numero\n",
        "    num = input(\"Ingrese un numero de 4 cifras: \")\n",
        "\n",
        "# Convertimos el número ingresado a entero\n",
        "num = int(num)\n",
        "\n",
        "# Creamos una tabla donde mostraremos los resultados\n",
        "# print(\"\\nn    x_n   (x_n)^2   CUAD_MED\")\n",
        "\n",
        "# Aplicamos el método del cuadrado medio\n",
        "for i in range(iter):\n",
        "    elev_cuad = num ** 2\n",
        "    cad = str(elev_cuad)\n",
        "\n",
        "    # Con zfill rellenamos automaticamente con ceros para que sea un numero al menos de 8 cifras\n",
        "    nuevo_num = cad.zfill(8)\n",
        "\n",
        "    num_str = str(num)\n",
        "    while len(num_str) < 4:\n",
        "        num_str = \"0\" + num_str\n",
        "\n",
        "    resultados.append((i, num_str, elev_cuad, nuevo_num[2:6]))\n",
        "    imp.add(num)\n",
        "\n",
        "    headers = [\"n\", \"X_n\", \"(X_n)^2\", \"CUAD_MED\"]\n",
        "\n",
        "    num = int(nuevo_num[2:6])  # Tomamos los 4 dígitos centrales como el siguiente número\n",
        "\n",
        "print(tabulate(resultados, headers=headers, tablefmt=\"grid\"))\n"
      ],
      "metadata": {
        "id": "y3AAytOmEpw9",
        "outputId": "dd211490-c03c-4e8f-bc4f-a07af5df5eba",
        "colab": {
          "base_uri": "https://localhost:8080/"
        }
      },
      "execution_count": 6,
      "outputs": [
        {
          "output_type": "stream",
          "name": "stdout",
          "text": [
            "Ingrese la cantidad de iteraciones deseadas: 10\n",
            "Ingrese un numero de 4 cifras: 1234\n",
            "+-----+-------+-----------+------------+\n",
            "|   n |   X_n |   (X_n)^2 |   CUAD_MED |\n",
            "+=====+=======+===========+============+\n",
            "|   0 |  1234 |   1522756 |       5227 |\n",
            "+-----+-------+-----------+------------+\n",
            "|   1 |  5227 |  27321529 |       3215 |\n",
            "+-----+-------+-----------+------------+\n",
            "|   2 |  3215 |  10336225 |       3362 |\n",
            "+-----+-------+-----------+------------+\n",
            "|   3 |  3362 |  11303044 |       3030 |\n",
            "+-----+-------+-----------+------------+\n",
            "|   4 |  3030 |   9180900 |       1809 |\n",
            "+-----+-------+-----------+------------+\n",
            "|   5 |  1809 |   3272481 |       2724 |\n",
            "+-----+-------+-----------+------------+\n",
            "|   6 |  2724 |   7420176 |       4201 |\n",
            "+-----+-------+-----------+------------+\n",
            "|   7 |  4201 |  17648401 |       6484 |\n",
            "+-----+-------+-----------+------------+\n",
            "|   8 |  6484 |  42042256 |       0422 |\n",
            "+-----+-------+-----------+------------+\n",
            "|   9 |  0422 |    178084 |       1780 |\n",
            "+-----+-------+-----------+------------+\n"
          ]
        }
      ]
    }
  ]
}