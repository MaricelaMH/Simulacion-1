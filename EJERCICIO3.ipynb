{
  "nbformat": 4,
  "nbformat_minor": 0,
  "metadata": {
    "colab": {
      "provenance": [],
      "authorship_tag": "ABX9TyOk29n+dPTWH2E+zD4g/NBp",
      "include_colab_link": true
    },
    "kernelspec": {
      "name": "python3",
      "display_name": "Python 3"
    },
    "language_info": {
      "name": "python"
    }
  },
  "cells": [
    {
      "cell_type": "markdown",
      "metadata": {
        "id": "view-in-github",
        "colab_type": "text"
      },
      "source": [
        "<a href=\"https://colab.research.google.com/github/MaricelaMH/Simulacion-1/blob/main/EJERCICIO3.ipynb\" target=\"_parent\"><img src=\"https://colab.research.google.com/assets/colab-badge.svg\" alt=\"Open In Colab\"/></a>"
      ]
    },
    {
      "cell_type": "markdown",
      "source": [
        "METODO DE CONGRUENCIA"
      ],
      "metadata": {
        "id": "1d3voFMJNI-i"
      }
    },
    {
      "cell_type": "code",
      "source": [
        "#iter= input(\"Ingrese el numero de iteraciones que desea: \")\n",
        "#X_n=input(\"Ingrese la semilla deseada: \")\n",
        "#a= input(\"Ingrese la constante 'a' que desea: \" )\n",
        "#c=input(\"Ingrese la constante 'c' que desea: \")\n",
        "#m=input(\"Ingrese el valor de 'm' deseado: \")\n",
        "\n",
        "from tabulate import tabulate\n",
        "\n",
        "iter=50\n",
        "X_n=6\n",
        "a=5\n",
        "c=5\n",
        "m=50\n",
        "resultados=[]\n",
        "imp=set()\n",
        "#Creamos una tabra donde se mostraran los resultados\n",
        "#print(\"\\nn   (X_n)+c    a(X_n)+c    (mod 'm')     X_n / m\")\n",
        "\n",
        "#Aplicamos el metodo\n",
        "for i in range(iter):\n",
        "  val= (a)*(X_n)+c\n",
        "  mod=(val) % m\n",
        "  div=X_n /m\n",
        "\n",
        "  if X_n not in imp:\n",
        "    resultados.append((i,X_n,val,mod,div))\n",
        "    imp.add(X_n)\n",
        "  X_n=mod\n",
        "headers=[\"n\",\"X_n\",\"a(X_n)+c\",\"a(X_n)+c(mod 'm')\",\"X_n /16\"]\n",
        "print(tabulate(resultados,headers=headers,tablefmt=\"grid\"))\n",
        "print(\"Se repiten los valores\")"
      ],
      "metadata": {
        "colab": {
          "base_uri": "https://localhost:8080/"
        },
        "id": "9-ldNJ1gNLyk",
        "outputId": "6d10e4d0-1845-4345-9e5b-6e9208be8d4a"
      },
      "execution_count": 30,
      "outputs": [
        {
          "output_type": "stream",
          "name": "stdout",
          "text": [
            "+-----+-------+------------+---------------------+-----------+\n",
            "|   n |   X_n |   a(X_n)+c |   a(X_n)+c(mod 'm') |   X_n /16 |\n",
            "+=====+=======+============+=====================+===========+\n",
            "|   0 |     6 |         35 |                  35 |      0.12 |\n",
            "+-----+-------+------------+---------------------+-----------+\n",
            "|   1 |    35 |        180 |                  30 |      0.7  |\n",
            "+-----+-------+------------+---------------------+-----------+\n",
            "|   2 |    30 |        155 |                   5 |      0.6  |\n",
            "+-----+-------+------------+---------------------+-----------+\n",
            "|   3 |     5 |         30 |                  30 |      0.1  |\n",
            "+-----+-------+------------+---------------------+-----------+\n",
            "Se repiten los valores\n"
          ]
        }
      ]
    }
  ]
}