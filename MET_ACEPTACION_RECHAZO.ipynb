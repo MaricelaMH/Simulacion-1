{
  "nbformat": 4,
  "nbformat_minor": 0,
  "metadata": {
    "colab": {
      "provenance": [],
      "authorship_tag": "ABX9TyOhQLQ7CZRN4vxkkNAZe8xW",
      "include_colab_link": true
    },
    "kernelspec": {
      "name": "python3",
      "display_name": "Python 3"
    },
    "language_info": {
      "name": "python"
    }
  },
  "cells": [
    {
      "cell_type": "markdown",
      "metadata": {
        "id": "view-in-github",
        "colab_type": "text"
      },
      "source": [
        "<a href=\"https://colab.research.google.com/github/MaricelaMH/Simulacion-1/blob/main/MET_ACEPTACION_RECHAZO.ipynb\" target=\"_parent\"><img src=\"https://colab.research.google.com/assets/colab-badge.svg\" alt=\"Open In Colab\"/></a>"
      ]
    },
    {
      "cell_type": "markdown",
      "source": [
        "M-É-T-O-D-O   D-E   A-C-E-P-T-A-C-I-O-N   Y   R-E-C-H-A-Z-O\n",
        "Generar una muestra de la variable con distribución\n",
        "$$ f(x)= 20x(1-x)^3 \\text{si }  0<x<1 $$\n",
        "la gráfica de la función anterior, es la siguiente\n",
        "\n",
        "![texto alternativo](https://drive.google.com/uc?id=1-e9o58PLRsoC5EcH6CTpsb0NMbgTyrJb)\n"
      ],
      "metadata": {
        "id": "m_TIUqRf24X2"
      }
    },
    {
      "cell_type": "markdown",
      "source": [
        "1. Elegir una distribución propuesta $g(x)$: Debe ser una distribución desde la cual sea facil generar muestras , ademas debe cumplir que $cg(x) \\geq f(x)$, donde $c$ es una constante y $f(x)$ la distribución objetivo, en este caso propondremos a\n",
        "$$g(x)=1$$\n",
        "dado que correspondo a una distribución uniforme, $U \\sim (0,1)$\n",
        "\n",
        "2. Calculamos la razon de aceptación, donde\n",
        "$$\\frac{f(x)}{g(x)} \\leq c , \\text{ para toda } x $$\n",
        "$$⟹ \\frac{20x(1-x)^3}{1} \\leq c$$\n",
        "$$ ⟹ 20x(1-x)^3 \\leq c  $$\n",
        "para ello calcularemos el valor máximo, usando el criterio de la segunda derivada\n",
        "$$\\frac{d}{dx} ({20x(1-x)^3})= \\frac{d}{dx}(-20x^4 + 60x^3 -60x^2 + 20x)$$\n",
        "$$ ⟹   \\ = -80x^3 + 180x^2 -120x+20  $$\n",
        "* Despejamos $x$ igualandola a 0\n",
        "$$ -80x^3 + 180x^2 -120x+20 = 0 $$\n",
        "$$ ⟹ -20 (4x^3$- 4x^2 -5x^2+5x+x-1)=0$$\n",
        "$$ ⟹ -20 (x-1)(4x^2-x-4x+1)=0$$\n",
        "$$ ⟹ (x-1)^2(4x-1)=0 $$\n",
        "veamos cual de estos posibles valores de $x$ es un máximo, que es el que nos interesa. \\\\\n",
        "\n",
        "Caso 1:\n",
        "$$(x-1)^2 = 0 ⟹ x-1 = 0 ⟹ x = 1$$\n",
        "\n",
        "Caso 2:\n",
        "$$4x-1 = 0 ⟹ 4x=1 ⟹ x = \\frac{1}{4}$$\n",
        "\n",
        "* Calculamos la segunda derivada de $20x(1-x)^3$\n",
        "$$\\frac{d^2}{dx^2}(20x(1-x)^3) = \\frac{d}{dx} (-80x^3 + 180x^2 -120x+20) $$\n",
        "\n",
        "$$  = -240x^2 + 360x -120 $$\n",
        "\n",
        "* Asi sustituyendo el valor de $x$ tanto en el caso 1 como en el 2 tenemos que para $x=\\frac{1}{4}$\n",
        "$$f´´(x)=f´´(\\frac{1}{4}) < 0$$\n",
        "por lo tanto $x=\\frac{1}{4}$ en un máximo.\n",
        "\n",
        "3. Una vez obtenido el valor de $x$ que corresponde al valor máximo, obtendremos el valor de nuestra constante de la siguente manera:\n",
        "$$ c = 20x(1-x)^3 $$\n",
        "$$ ⟹ c = 20 (\\frac{1}{4}) (1-\\frac{1}{4})^3$$\n",
        "$$⟹ c = \\frac{135}{64}$$\n",
        "\n",
        "Finalmente simulamos lo anterior de la siguente manera."
      ],
      "metadata": {
        "id": "O2Rje00j7gJz"
      }
    },
    {
      "cell_type": "code",
      "execution_count": 1,
      "metadata": {
        "id": "X6HteoBhftq1"
      },
      "outputs": [],
      "source": [
        "# Agregamos nuestras librerias necesarias\n",
        "import numpy as np\n",
        "import random as rnd\n",
        "import matplotlib.pyplot as plt"
      ]
    },
    {
      "cell_type": "markdown",
      "source": [
        "Crearemos una funcion donde definiremos nuestra razon de aceptación"
      ],
      "metadata": {
        "id": "H7MhXPQWH_HM"
      }
    },
    {
      "cell_type": "code",
      "source": [
        "def muestra(n):  # Definimos nuestra funsion muestra\n",
        "  lista=[]    # Creamos una lista para almacenar los valores de x\n",
        "  for i in range(n):\n",
        "    y = rnd.random()  #Generamos valores aleatorios uniformes para y\n",
        "    u = rnd.random()  # Generamos valores aleatorios uniformes para u\n",
        "    if u <= (20*y*(1-y)**3)/(135/64): # Aplicamos la razon de aceptación\n",
        "      x = y  # Almacenamos el valor de x\n",
        "      lista.append(x) # Almacenamos el valor de x en la lista\n",
        "  return lista\n"
      ],
      "metadata": {
        "id": "W14pnAVhhTsZ"
      },
      "execution_count": 2,
      "outputs": []
    },
    {
      "cell_type": "markdown",
      "source": [
        "Realizaremos la prueba para una muestra un poco grande y ver si exactamente esto aproximara correctamente nuestra fdp"
      ],
      "metadata": {
        "id": "LspzoqKfILf3"
      }
    },
    {
      "cell_type": "code",
      "source": [
        "G = muestra(10000000) # Generamos nuestra muestra"
      ],
      "metadata": {
        "id": "0vLvyUPLjYlZ"
      },
      "execution_count": 3,
      "outputs": []
    },
    {
      "cell_type": "code",
      "source": [
        "mu=np.mean(G)  #Calculamos la media de G\n",
        "print(mu)"
      ],
      "metadata": {
        "colab": {
          "base_uri": "https://localhost:8080/"
        },
        "id": "HiWymN_aGhxd",
        "outputId": "c15c8527-2f81-44ac-bb1d-fe9bd990f12b"
      },
      "execution_count": 4,
      "outputs": [
        {
          "output_type": "stream",
          "name": "stdout",
          "text": [
            "0.3334031783821479\n"
          ]
        }
      ]
    },
    {
      "cell_type": "code",
      "source": [
        "sigma2=np.var(G) #Calculamos la varianza de G\n",
        "print(sigma2)"
      ],
      "metadata": {
        "colab": {
          "base_uri": "https://localhost:8080/"
        },
        "id": "jm1BJyMsGv1f",
        "outputId": "b35c3668-c818-40d1-a233-6a9f4f103dc1"
      },
      "execution_count": 5,
      "outputs": [
        {
          "output_type": "stream",
          "name": "stdout",
          "text": [
            "0.031761375520329746\n"
          ]
        }
      ]
    },
    {
      "cell_type": "code",
      "source": [
        "plt.hist(G, bins=500, color='lightblue') # Graficamos nuestra muestra"
      ],
      "metadata": {
        "colab": {
          "base_uri": "https://localhost:8080/",
          "height": 1000
        },
        "id": "Fa5xRzSpjO77",
        "outputId": "1415f16c-77e9-45e7-9ed8-30caa562e323"
      },
      "execution_count": null,
      "outputs": [
        {
          "output_type": "execute_result",
          "data": {
            "text/plain": [
              "(array([2.3400e+02, 5.8500e+02, 9.5800e+02, 1.3410e+03, 1.6980e+03,\n",
              "        2.0150e+03, 2.3310e+03, 2.6520e+03, 3.0820e+03, 3.3420e+03,\n",
              "        3.6510e+03, 3.9960e+03, 4.4230e+03, 4.5140e+03, 5.0410e+03,\n",
              "        5.1280e+03, 5.6050e+03, 5.8500e+03, 6.1490e+03, 6.3500e+03,\n",
              "        6.8100e+03, 6.9940e+03, 7.2670e+03, 7.6750e+03, 7.8900e+03,\n",
              "        8.1770e+03, 8.2740e+03, 8.4340e+03, 8.9710e+03, 9.1340e+03,\n",
              "        9.3160e+03, 9.6280e+03, 9.9060e+03, 1.0072e+04, 1.0353e+04,\n",
              "        1.0533e+04, 1.0997e+04, 1.1032e+04, 1.1366e+04, 1.1328e+04,\n",
              "        1.1701e+04, 1.1921e+04, 1.2130e+04, 1.2290e+04, 1.2484e+04,\n",
              "        1.2676e+04, 1.2902e+04, 1.3193e+04, 1.3222e+04, 1.3423e+04,\n",
              "        1.3603e+04, 1.3688e+04, 1.4098e+04, 1.4205e+04, 1.4464e+04,\n",
              "        1.4454e+04, 1.4677e+04, 1.4840e+04, 1.5020e+04, 1.5233e+04,\n",
              "        1.5426e+04, 1.5354e+04, 1.5641e+04, 1.5718e+04, 1.5847e+04,\n",
              "        1.6141e+04, 1.6193e+04, 1.6435e+04, 1.6415e+04, 1.6580e+04,\n",
              "        1.6636e+04, 1.6833e+04, 1.6963e+04, 1.7106e+04, 1.7102e+04,\n",
              "        1.7371e+04, 1.7206e+04, 1.7601e+04, 1.7627e+04, 1.7499e+04,\n",
              "        1.7669e+04, 1.7878e+04, 1.7844e+04, 1.7971e+04, 1.8315e+04,\n",
              "        1.8265e+04, 1.8246e+04, 1.8400e+04, 1.8210e+04, 1.8382e+04,\n",
              "        1.8422e+04, 1.8676e+04, 1.8876e+04, 1.8730e+04, 1.8847e+04,\n",
              "        1.8922e+04, 1.9223e+04, 1.8993e+04, 1.9213e+04, 1.8975e+04,\n",
              "        1.8893e+04, 1.9237e+04, 1.9534e+04, 1.9350e+04, 1.9178e+04,\n",
              "        1.9555e+04, 1.9348e+04, 1.9549e+04, 1.9508e+04, 1.9300e+04,\n",
              "        1.9263e+04, 1.9534e+04, 1.9262e+04, 1.9691e+04, 1.9409e+04,\n",
              "        1.9735e+04, 1.9697e+04, 1.9798e+04, 1.9596e+04, 1.9579e+04,\n",
              "        1.9524e+04, 1.9754e+04, 1.9738e+04, 1.9916e+04, 1.9707e+04,\n",
              "        1.9767e+04, 1.9703e+04, 1.9710e+04, 1.9725e+04, 2.0062e+04,\n",
              "        1.9726e+04, 1.9637e+04, 1.9785e+04, 1.9563e+04, 1.9742e+04,\n",
              "        1.9664e+04, 1.9689e+04, 1.9637e+04, 1.9436e+04, 1.9726e+04,\n",
              "        1.9353e+04, 1.9579e+04, 1.9782e+04, 1.9399e+04, 1.9521e+04,\n",
              "        1.9512e+04, 1.9461e+04, 1.9488e+04, 1.9436e+04, 1.9415e+04,\n",
              "        1.9406e+04, 1.9188e+04, 1.9113e+04, 1.9255e+04, 1.9134e+04,\n",
              "        1.9017e+04, 1.8892e+04, 1.9428e+04, 1.8937e+04, 1.8848e+04,\n",
              "        1.8991e+04, 1.8643e+04, 1.9010e+04, 1.8870e+04, 1.8570e+04,\n",
              "        1.8587e+04, 1.8276e+04, 1.8604e+04, 1.8478e+04, 1.8458e+04,\n",
              "        1.8408e+04, 1.8315e+04, 1.8162e+04, 1.8141e+04, 1.8083e+04,\n",
              "        1.8097e+04, 1.8232e+04, 1.8144e+04, 1.7703e+04, 1.7659e+04,\n",
              "        1.7776e+04, 1.7910e+04, 1.7468e+04, 1.7544e+04, 1.7435e+04,\n",
              "        1.7189e+04, 1.7509e+04, 1.7100e+04, 1.7218e+04, 1.6949e+04,\n",
              "        1.7125e+04, 1.6875e+04, 1.7083e+04, 1.6573e+04, 1.6934e+04,\n",
              "        1.6542e+04, 1.6470e+04, 1.6483e+04, 1.6526e+04, 1.6356e+04,\n",
              "        1.6338e+04, 1.6155e+04, 1.6502e+04, 1.6031e+04, 1.6031e+04,\n",
              "        1.5869e+04, 1.5787e+04, 1.5764e+04, 1.5710e+04, 1.5609e+04,\n",
              "        1.5337e+04, 1.5374e+04, 1.5041e+04, 1.5254e+04, 1.5068e+04,\n",
              "        1.5163e+04, 1.4881e+04, 1.4821e+04, 1.4706e+04, 1.5141e+04,\n",
              "        1.4466e+04, 1.4632e+04, 1.4728e+04, 1.4572e+04, 1.4278e+04,\n",
              "        1.4161e+04, 1.4116e+04, 1.3975e+04, 1.3970e+04, 1.3820e+04,\n",
              "        1.3661e+04, 1.3613e+04, 1.3539e+04, 1.3480e+04, 1.3421e+04,\n",
              "        1.3409e+04, 1.3160e+04, 1.3038e+04, 1.2987e+04, 1.3035e+04,\n",
              "        1.3127e+04, 1.2918e+04, 1.2780e+04, 1.2670e+04, 1.2508e+04,\n",
              "        1.2158e+04, 1.2310e+04, 1.2206e+04, 1.2333e+04, 1.2012e+04,\n",
              "        1.1917e+04, 1.1919e+04, 1.1670e+04, 1.1500e+04, 1.1491e+04,\n",
              "        1.1434e+04, 1.1495e+04, 1.1119e+04, 1.1236e+04, 1.1141e+04,\n",
              "        1.0961e+04, 1.0889e+04, 1.0909e+04, 1.0728e+04, 1.0545e+04,\n",
              "        1.0502e+04, 1.0441e+04, 1.0347e+04, 1.0194e+04, 1.0165e+04,\n",
              "        1.0223e+04, 9.9410e+03, 1.0002e+04, 9.8420e+03, 9.7230e+03,\n",
              "        9.6380e+03, 9.5370e+03, 9.6270e+03, 9.4890e+03, 9.2430e+03,\n",
              "        9.0270e+03, 9.2080e+03, 8.9760e+03, 8.8720e+03, 8.7860e+03,\n",
              "        8.7310e+03, 8.5950e+03, 8.5680e+03, 8.3430e+03, 8.4410e+03,\n",
              "        8.3030e+03, 8.2760e+03, 8.0920e+03, 8.1070e+03, 8.0350e+03,\n",
              "        7.6320e+03, 7.8900e+03, 7.6820e+03, 7.6480e+03, 7.4990e+03,\n",
              "        7.4700e+03, 7.2800e+03, 7.3800e+03, 7.1280e+03, 7.0800e+03,\n",
              "        7.0780e+03, 7.0450e+03, 6.9200e+03, 6.7730e+03, 6.7040e+03,\n",
              "        6.5820e+03, 6.6130e+03, 6.4960e+03, 6.4410e+03, 6.3040e+03,\n",
              "        6.2520e+03, 6.2250e+03, 6.2140e+03, 6.0070e+03, 5.9340e+03,\n",
              "        5.8030e+03, 5.6400e+03, 5.6000e+03, 5.6670e+03, 5.5320e+03,\n",
              "        5.4660e+03, 5.3650e+03, 5.3950e+03, 5.1240e+03, 5.2900e+03,\n",
              "        5.2330e+03, 5.0070e+03, 4.9130e+03, 4.9830e+03, 4.8080e+03,\n",
              "        4.8680e+03, 4.6990e+03, 4.5590e+03, 4.4620e+03, 4.3560e+03,\n",
              "        4.4100e+03, 4.3560e+03, 4.3340e+03, 4.1500e+03, 4.0240e+03,\n",
              "        4.0790e+03, 4.0830e+03, 4.0830e+03, 3.9210e+03, 3.8490e+03,\n",
              "        3.6960e+03, 3.7610e+03, 3.5750e+03, 3.5410e+03, 3.5660e+03,\n",
              "        3.4260e+03, 3.3950e+03, 3.3460e+03, 3.2330e+03, 3.1820e+03,\n",
              "        3.2290e+03, 3.0320e+03, 3.0570e+03, 2.9990e+03, 3.0040e+03,\n",
              "        2.8490e+03, 2.9140e+03, 2.8240e+03, 2.8390e+03, 2.6150e+03,\n",
              "        2.6930e+03, 2.5070e+03, 2.5400e+03, 2.4060e+03, 2.3770e+03,\n",
              "        2.4050e+03, 2.3390e+03, 2.3050e+03, 2.2760e+03, 2.1260e+03,\n",
              "        2.1250e+03, 2.0730e+03, 2.0290e+03, 2.0040e+03, 1.9650e+03,\n",
              "        1.9560e+03, 1.8870e+03, 1.8180e+03, 1.7800e+03, 1.8330e+03,\n",
              "        1.7120e+03, 1.7090e+03, 1.6840e+03, 1.5160e+03, 1.6740e+03,\n",
              "        1.5420e+03, 1.5190e+03, 1.4540e+03, 1.3870e+03, 1.4580e+03,\n",
              "        1.3090e+03, 1.3190e+03, 1.2900e+03, 1.2410e+03, 1.1780e+03,\n",
              "        1.1220e+03, 1.1220e+03, 1.0660e+03, 1.0280e+03, 1.0290e+03,\n",
              "        9.7900e+02, 9.9200e+02, 9.6400e+02, 9.5100e+02, 8.9500e+02,\n",
              "        9.4500e+02, 8.6300e+02, 7.8900e+02, 7.9800e+02, 7.9200e+02,\n",
              "        7.4300e+02, 7.3300e+02, 7.0500e+02, 6.4000e+02, 6.7100e+02,\n",
              "        6.4300e+02, 5.9600e+02, 5.9500e+02, 5.4900e+02, 5.8800e+02,\n",
              "        5.3100e+02, 4.8200e+02, 4.9800e+02, 4.6400e+02, 4.7300e+02,\n",
              "        4.5500e+02, 4.5500e+02, 4.2900e+02, 4.1300e+02, 3.8600e+02,\n",
              "        3.6200e+02, 3.3800e+02, 3.2700e+02, 3.3200e+02, 3.0200e+02,\n",
              "        2.5600e+02, 2.8300e+02, 2.4000e+02, 2.4200e+02, 2.4200e+02,\n",
              "        1.9500e+02, 2.2100e+02, 2.2000e+02, 1.9000e+02, 1.8900e+02,\n",
              "        1.6900e+02, 1.4100e+02, 1.5000e+02, 1.3400e+02, 1.3300e+02,\n",
              "        1.2000e+02, 1.2500e+02, 1.1100e+02, 1.0700e+02, 1.1100e+02,\n",
              "        9.5000e+01, 8.4000e+01, 5.5000e+01, 7.4000e+01, 6.0000e+01,\n",
              "        4.7000e+01, 8.5000e+01, 5.1000e+01, 4.2000e+01, 4.3000e+01,\n",
              "        3.2000e+01, 3.3000e+01, 3.8000e+01, 3.3000e+01, 2.9000e+01,\n",
              "        2.7000e+01, 2.5000e+01, 1.5000e+01, 1.4000e+01, 1.3000e+01,\n",
              "        1.1000e+01, 1.7000e+01, 8.0000e+00, 9.0000e+00, 1.2000e+01,\n",
              "        3.0000e+00, 4.0000e+00, 3.0000e+00, 3.0000e+00, 0.0000e+00,\n",
              "        1.0000e+00, 2.0000e+00, 1.0000e+00, 0.0000e+00, 1.0000e+00]),\n",
              " array([1.91896171e-04, 2.16720867e-03, 4.14252116e-03, 6.11783366e-03,\n",
              "        8.09314616e-03, 1.00684587e-02, 1.20437711e-02, 1.40190836e-02,\n",
              "        1.59943961e-02, 1.79697086e-02, 1.99450211e-02, 2.19203336e-02,\n",
              "        2.38956461e-02, 2.58709586e-02, 2.78462711e-02, 2.98215836e-02,\n",
              "        3.17968961e-02, 3.37722086e-02, 3.57475211e-02, 3.77228336e-02,\n",
              "        3.96981461e-02, 4.16734586e-02, 4.36487711e-02, 4.56240836e-02,\n",
              "        4.75993961e-02, 4.95747086e-02, 5.15500211e-02, 5.35253336e-02,\n",
              "        5.55006461e-02, 5.74759586e-02, 5.94512711e-02, 6.14265836e-02,\n",
              "        6.34018961e-02, 6.53772086e-02, 6.73525210e-02, 6.93278335e-02,\n",
              "        7.13031460e-02, 7.32784585e-02, 7.52537710e-02, 7.72290835e-02,\n",
              "        7.92043960e-02, 8.11797085e-02, 8.31550210e-02, 8.51303335e-02,\n",
              "        8.71056460e-02, 8.90809585e-02, 9.10562710e-02, 9.30315835e-02,\n",
              "        9.50068960e-02, 9.69822085e-02, 9.89575210e-02, 1.00932833e-01,\n",
              "        1.02908146e-01, 1.04883458e-01, 1.06858771e-01, 1.08834083e-01,\n",
              "        1.10809396e-01, 1.12784708e-01, 1.14760021e-01, 1.16735333e-01,\n",
              "        1.18710646e-01, 1.20685958e-01, 1.22661271e-01, 1.24636583e-01,\n",
              "        1.26611896e-01, 1.28587208e-01, 1.30562521e-01, 1.32537833e-01,\n",
              "        1.34513146e-01, 1.36488458e-01, 1.38463771e-01, 1.40439083e-01,\n",
              "        1.42414396e-01, 1.44389708e-01, 1.46365021e-01, 1.48340333e-01,\n",
              "        1.50315646e-01, 1.52290958e-01, 1.54266271e-01, 1.56241583e-01,\n",
              "        1.58216896e-01, 1.60192208e-01, 1.62167521e-01, 1.64142833e-01,\n",
              "        1.66118146e-01, 1.68093458e-01, 1.70068771e-01, 1.72044083e-01,\n",
              "        1.74019396e-01, 1.75994708e-01, 1.77970021e-01, 1.79945333e-01,\n",
              "        1.81920646e-01, 1.83895958e-01, 1.85871271e-01, 1.87846583e-01,\n",
              "        1.89821896e-01, 1.91797208e-01, 1.93772521e-01, 1.95747833e-01,\n",
              "        1.97723146e-01, 1.99698458e-01, 2.01673771e-01, 2.03649083e-01,\n",
              "        2.05624396e-01, 2.07599708e-01, 2.09575021e-01, 2.11550333e-01,\n",
              "        2.13525646e-01, 2.15500958e-01, 2.17476271e-01, 2.19451583e-01,\n",
              "        2.21426896e-01, 2.23402208e-01, 2.25377521e-01, 2.27352833e-01,\n",
              "        2.29328146e-01, 2.31303458e-01, 2.33278771e-01, 2.35254083e-01,\n",
              "        2.37229396e-01, 2.39204708e-01, 2.41180021e-01, 2.43155333e-01,\n",
              "        2.45130646e-01, 2.47105958e-01, 2.49081271e-01, 2.51056583e-01,\n",
              "        2.53031896e-01, 2.55007208e-01, 2.56982521e-01, 2.58957833e-01,\n",
              "        2.60933146e-01, 2.62908458e-01, 2.64883771e-01, 2.66859083e-01,\n",
              "        2.68834396e-01, 2.70809708e-01, 2.72785021e-01, 2.74760333e-01,\n",
              "        2.76735646e-01, 2.78710958e-01, 2.80686271e-01, 2.82661583e-01,\n",
              "        2.84636896e-01, 2.86612208e-01, 2.88587521e-01, 2.90562833e-01,\n",
              "        2.92538146e-01, 2.94513458e-01, 2.96488771e-01, 2.98464083e-01,\n",
              "        3.00439396e-01, 3.02414708e-01, 3.04390021e-01, 3.06365333e-01,\n",
              "        3.08340646e-01, 3.10315958e-01, 3.12291271e-01, 3.14266583e-01,\n",
              "        3.16241896e-01, 3.18217208e-01, 3.20192521e-01, 3.22167833e-01,\n",
              "        3.24143146e-01, 3.26118458e-01, 3.28093771e-01, 3.30069083e-01,\n",
              "        3.32044396e-01, 3.34019708e-01, 3.35995021e-01, 3.37970333e-01,\n",
              "        3.39945646e-01, 3.41920958e-01, 3.43896271e-01, 3.45871583e-01,\n",
              "        3.47846896e-01, 3.49822208e-01, 3.51797521e-01, 3.53772833e-01,\n",
              "        3.55748146e-01, 3.57723458e-01, 3.59698771e-01, 3.61674083e-01,\n",
              "        3.63649395e-01, 3.65624708e-01, 3.67600020e-01, 3.69575333e-01,\n",
              "        3.71550645e-01, 3.73525958e-01, 3.75501270e-01, 3.77476583e-01,\n",
              "        3.79451895e-01, 3.81427208e-01, 3.83402520e-01, 3.85377833e-01,\n",
              "        3.87353145e-01, 3.89328458e-01, 3.91303770e-01, 3.93279083e-01,\n",
              "        3.95254395e-01, 3.97229708e-01, 3.99205020e-01, 4.01180333e-01,\n",
              "        4.03155645e-01, 4.05130958e-01, 4.07106270e-01, 4.09081583e-01,\n",
              "        4.11056895e-01, 4.13032208e-01, 4.15007520e-01, 4.16982833e-01,\n",
              "        4.18958145e-01, 4.20933458e-01, 4.22908770e-01, 4.24884083e-01,\n",
              "        4.26859395e-01, 4.28834708e-01, 4.30810020e-01, 4.32785333e-01,\n",
              "        4.34760645e-01, 4.36735958e-01, 4.38711270e-01, 4.40686583e-01,\n",
              "        4.42661895e-01, 4.44637208e-01, 4.46612520e-01, 4.48587833e-01,\n",
              "        4.50563145e-01, 4.52538458e-01, 4.54513770e-01, 4.56489083e-01,\n",
              "        4.58464395e-01, 4.60439708e-01, 4.62415020e-01, 4.64390333e-01,\n",
              "        4.66365645e-01, 4.68340958e-01, 4.70316270e-01, 4.72291583e-01,\n",
              "        4.74266895e-01, 4.76242208e-01, 4.78217520e-01, 4.80192833e-01,\n",
              "        4.82168145e-01, 4.84143458e-01, 4.86118770e-01, 4.88094083e-01,\n",
              "        4.90069395e-01, 4.92044708e-01, 4.94020020e-01, 4.95995333e-01,\n",
              "        4.97970645e-01, 4.99945958e-01, 5.01921270e-01, 5.03896583e-01,\n",
              "        5.05871895e-01, 5.07847208e-01, 5.09822520e-01, 5.11797833e-01,\n",
              "        5.13773145e-01, 5.15748458e-01, 5.17723770e-01, 5.19699083e-01,\n",
              "        5.21674395e-01, 5.23649708e-01, 5.25625020e-01, 5.27600333e-01,\n",
              "        5.29575645e-01, 5.31550958e-01, 5.33526270e-01, 5.35501583e-01,\n",
              "        5.37476895e-01, 5.39452208e-01, 5.41427520e-01, 5.43402833e-01,\n",
              "        5.45378145e-01, 5.47353458e-01, 5.49328770e-01, 5.51304083e-01,\n",
              "        5.53279395e-01, 5.55254708e-01, 5.57230020e-01, 5.59205333e-01,\n",
              "        5.61180645e-01, 5.63155958e-01, 5.65131270e-01, 5.67106583e-01,\n",
              "        5.69081895e-01, 5.71057208e-01, 5.73032520e-01, 5.75007833e-01,\n",
              "        5.76983145e-01, 5.78958458e-01, 5.80933770e-01, 5.82909083e-01,\n",
              "        5.84884395e-01, 5.86859708e-01, 5.88835020e-01, 5.90810333e-01,\n",
              "        5.92785645e-01, 5.94760958e-01, 5.96736270e-01, 5.98711583e-01,\n",
              "        6.00686895e-01, 6.02662208e-01, 6.04637520e-01, 6.06612833e-01,\n",
              "        6.08588145e-01, 6.10563458e-01, 6.12538770e-01, 6.14514083e-01,\n",
              "        6.16489395e-01, 6.18464708e-01, 6.20440020e-01, 6.22415333e-01,\n",
              "        6.24390645e-01, 6.26365958e-01, 6.28341270e-01, 6.30316583e-01,\n",
              "        6.32291895e-01, 6.34267207e-01, 6.36242520e-01, 6.38217832e-01,\n",
              "        6.40193145e-01, 6.42168457e-01, 6.44143770e-01, 6.46119082e-01,\n",
              "        6.48094395e-01, 6.50069707e-01, 6.52045020e-01, 6.54020332e-01,\n",
              "        6.55995645e-01, 6.57970957e-01, 6.59946270e-01, 6.61921582e-01,\n",
              "        6.63896895e-01, 6.65872207e-01, 6.67847520e-01, 6.69822832e-01,\n",
              "        6.71798145e-01, 6.73773457e-01, 6.75748770e-01, 6.77724082e-01,\n",
              "        6.79699395e-01, 6.81674707e-01, 6.83650020e-01, 6.85625332e-01,\n",
              "        6.87600645e-01, 6.89575957e-01, 6.91551270e-01, 6.93526582e-01,\n",
              "        6.95501895e-01, 6.97477207e-01, 6.99452520e-01, 7.01427832e-01,\n",
              "        7.03403145e-01, 7.05378457e-01, 7.07353770e-01, 7.09329082e-01,\n",
              "        7.11304395e-01, 7.13279707e-01, 7.15255020e-01, 7.17230332e-01,\n",
              "        7.19205645e-01, 7.21180957e-01, 7.23156270e-01, 7.25131582e-01,\n",
              "        7.27106895e-01, 7.29082207e-01, 7.31057520e-01, 7.33032832e-01,\n",
              "        7.35008145e-01, 7.36983457e-01, 7.38958770e-01, 7.40934082e-01,\n",
              "        7.42909395e-01, 7.44884707e-01, 7.46860020e-01, 7.48835332e-01,\n",
              "        7.50810645e-01, 7.52785957e-01, 7.54761270e-01, 7.56736582e-01,\n",
              "        7.58711895e-01, 7.60687207e-01, 7.62662520e-01, 7.64637832e-01,\n",
              "        7.66613145e-01, 7.68588457e-01, 7.70563770e-01, 7.72539082e-01,\n",
              "        7.74514395e-01, 7.76489707e-01, 7.78465020e-01, 7.80440332e-01,\n",
              "        7.82415645e-01, 7.84390957e-01, 7.86366270e-01, 7.88341582e-01,\n",
              "        7.90316895e-01, 7.92292207e-01, 7.94267520e-01, 7.96242832e-01,\n",
              "        7.98218145e-01, 8.00193457e-01, 8.02168770e-01, 8.04144082e-01,\n",
              "        8.06119395e-01, 8.08094707e-01, 8.10070020e-01, 8.12045332e-01,\n",
              "        8.14020645e-01, 8.15995957e-01, 8.17971270e-01, 8.19946582e-01,\n",
              "        8.21921895e-01, 8.23897207e-01, 8.25872520e-01, 8.27847832e-01,\n",
              "        8.29823145e-01, 8.31798457e-01, 8.33773770e-01, 8.35749082e-01,\n",
              "        8.37724395e-01, 8.39699707e-01, 8.41675020e-01, 8.43650332e-01,\n",
              "        8.45625645e-01, 8.47600957e-01, 8.49576270e-01, 8.51551582e-01,\n",
              "        8.53526895e-01, 8.55502207e-01, 8.57477520e-01, 8.59452832e-01,\n",
              "        8.61428145e-01, 8.63403457e-01, 8.65378770e-01, 8.67354082e-01,\n",
              "        8.69329395e-01, 8.71304707e-01, 8.73280020e-01, 8.75255332e-01,\n",
              "        8.77230645e-01, 8.79205957e-01, 8.81181270e-01, 8.83156582e-01,\n",
              "        8.85131895e-01, 8.87107207e-01, 8.89082520e-01, 8.91057832e-01,\n",
              "        8.93033145e-01, 8.95008457e-01, 8.96983770e-01, 8.98959082e-01,\n",
              "        9.00934395e-01, 9.02909707e-01, 9.04885019e-01, 9.06860332e-01,\n",
              "        9.08835644e-01, 9.10810957e-01, 9.12786269e-01, 9.14761582e-01,\n",
              "        9.16736894e-01, 9.18712207e-01, 9.20687519e-01, 9.22662832e-01,\n",
              "        9.24638144e-01, 9.26613457e-01, 9.28588769e-01, 9.30564082e-01,\n",
              "        9.32539394e-01, 9.34514707e-01, 9.36490019e-01, 9.38465332e-01,\n",
              "        9.40440644e-01, 9.42415957e-01, 9.44391269e-01, 9.46366582e-01,\n",
              "        9.48341894e-01, 9.50317207e-01, 9.52292519e-01, 9.54267832e-01,\n",
              "        9.56243144e-01, 9.58218457e-01, 9.60193769e-01, 9.62169082e-01,\n",
              "        9.64144394e-01, 9.66119707e-01, 9.68095019e-01, 9.70070332e-01,\n",
              "        9.72045644e-01, 9.74020957e-01, 9.75996269e-01, 9.77971582e-01,\n",
              "        9.79946894e-01, 9.81922207e-01, 9.83897519e-01, 9.85872832e-01,\n",
              "        9.87848144e-01]),\n",
              " <BarContainer object of 500 artists>)"
            ]
          },
          "metadata": {},
          "execution_count": 26
        },
        {
          "output_type": "display_data",
          "data": {
            "text/plain": [
              "<Figure size 640x480 with 1 Axes>"
            ],
            "image/png": "[encoded data removed]"
          },
          "metadata": {}
        }
      ]
    },
    {
      "cell_type": "markdown",
      "source": [
        "Podemos ver que con ayuda de este hitograma efectivamente se obtiene nuestra grafica de fdp"
      ],
      "metadata": {
        "id": "vnlx4bLCIVem"
      }
    },
    {
      "cell_type": "code",
      "source": [
        "plt.plot(G,color='lightblue') #Graficamos los valores de G obtenidos"
      ],
      "metadata": {
        "colab": {
          "base_uri": "https://localhost:8080/",
          "height": 465
        },
        "id": "QNrzxCJ8G79H",
        "outputId": "53328ee1-d041-4f50-9065-446f7ec7e80e"
      },
      "execution_count": 6,
      "outputs": [
        {
          "output_type": "execute_result",
          "data": {
            "text/plain": [
              "[<matplotlib.lines.Line2D at 0x7f5f3d650b50>]"
            ]
          },
          "metadata": {},
          "execution_count": 6
        },
        {
          "output_type": "display_data",
          "data": {
            "text/plain": [
              "<Figure size 640x480 with 1 Axes>"
            ],
            "image/png": "[encoded data removed]"
          },
          "metadata": {}
        }
      ]
    },
    {
      "cell_type": "code",
      "source": [
        "def cdf(G):  #Definimos una nueva funsión\n",
        "  n = len(G)  #Calculamos el número de elementos en la lista G.\n",
        "  x = np.sort(G) #Ordena los valores de G en orden ascendente.\n",
        "  y = np.arange(0,n)/n   #Obtenemo las probabilidades acumuladas\n",
        "  return x,y"
      ],
      "metadata": {
        "id": "Pftv1ppNHASN"
      },
      "execution_count": 7,
      "outputs": []
    },
    {
      "cell_type": "code",
      "source": [
        "x,y = cdf(G) #Obtenemos los valores de x , y"
      ],
      "metadata": {
        "id": "PlOYzTQwHE2M"
      },
      "execution_count": 8,
      "outputs": []
    },
    {
      "cell_type": "code",
      "source": [
        "plt.step(x,y)\n",
        "plt.axhline(0.5,color=\"red\")  #Graficamos una línea horizontal en y=0.5 (punto medio)\n",
        "plt.axvline(mu,color=\"green\") #Graficamos la media"
      ],
      "metadata": {
        "colab": {
          "base_uri": "https://localhost:8080/",
          "height": 447
        },
        "id": "HmZ5O2W8HH1G",
        "outputId": "af822c4b-54cc-49a9-d5d5-4b7b94aab15f"
      },
      "execution_count": 9,
      "outputs": [
        {
          "output_type": "execute_result",
          "data": {
            "text/plain": [
              "<matplotlib.lines.Line2D at 0x7f5f3d69ed70>"
            ]
          },
          "metadata": {},
          "execution_count": 9
        },
        {
          "output_type": "display_data",
          "data": {
            "text/plain": [
              "<Figure size 640x480 with 1 Axes>"
            ],
            "image/png": "[encoded data removed]"
          },
          "metadata": {}
        }
      ]
    }
  ]
}