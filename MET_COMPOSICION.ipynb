{
  "nbformat": 4,
  "nbformat_minor": 0,
  "metadata": {
    "colab": {
      "provenance": [],
      "authorship_tag": "ABX9TyNcHHpJnzb6muCKRTRXTZpa",
      "include_colab_link": true
    },
    "kernelspec": {
      "name": "python3",
      "display_name": "Python 3"
    },
    "language_info": {
      "name": "python"
    }
  },
  "cells": [
    {
      "cell_type": "markdown",
      "metadata": {
        "id": "view-in-github",
        "colab_type": "text"
      },
      "source": [
        "<a href=\"https://colab.research.google.com/github/MaricelaMH/Simulacion-1/blob/main/MET_COMPOSICION.ipynb\" target=\"_parent\"><img src=\"https://colab.research.google.com/assets/colab-badge.svg\" alt=\"Open In Colab\"/></a>"
      ]
    },
    {
      "cell_type": "markdown",
      "source": [
        "M-É-T-O-D-O  D-E   C-O-M-P-O-S-I-C-I-O-N\n",
        "\n",
        "Sea $$f(x)=e^{-|2x|}$$\n",
        "\n",
        "Tenemos la siguiente representación gráfica:\n",
        "\n",
        "![texto alternativo](https://drive.google.com/uc?id=1Srj04KtCPJ1H3pIzITM7bSQ2G4KB-QRX)\n",
        "\n",
        "Aplicar el método de composición."
      ],
      "metadata": {
        "id": "mtuGk9_JYA7Q"
      }
    },
    {
      "cell_type": "markdown",
      "source": [
        "1. Asegurémonos de que $f(x)$ es una función de densidad de probabilidad, por lo que:\n",
        "$$ \\int_{-∞}^{\\infty} e^{-|2x|}\\,dx = 1 $$\n",
        "\n",
        "CASO 1:\n",
        "\n",
        "$$⟹ \\int_{-∞}^{0} e^{2x} \\, dx = \\left[ \\frac{e^{2x}}{2} \\right]_{-\\infty}^0 = \\frac{1}{2} $$\n",
        "\n",
        "CASO 2:\n",
        "\n",
        "$$⟹ \\int_{0}^{\\infty} e^{-2x} \\, dx = \\left[ -\\frac{e^{-2x}}{2} \\right]_0^{\\infty} = \\frac{1}{2} $$\n",
        "\n",
        "efectivamente, se cumple que\n",
        "$$ \\int_{-∞}^{\\infty} e^{-|2x|}\\,dx = \\frac{1}{2} \\ + \\frac{1}{2} = 1 $$\n",
        "\n",
        "ademas $f(x)\\geq 0$\n",
        "\n",
        "2. Calculamos la función de densidad segun nuestro método, la cual esta definida como:\n",
        "\n",
        "$$ f(x) = A_1  f_1(x) + A_2 f_2(x) $$\n",
        "$$⟹ f(x)= \\frac{1}{2}(e^{2x}) + \\frac{1}{2}(e^{-2x})$$\n",
        "\n",
        "3. Aplicamos el metrodo de la transformada inversa, para ello calculemos la función de distribución acumulativa $F(x)$, la cual esta definida como:\n",
        "\n",
        "$$F(x)=\\int_{-\\infty}^{x}f(s) \\, ds$$\n",
        "\n",
        "CASO 1:\n",
        "$$F(x)=\\int_{-\\infty}^{x} e^{2s} \\, ds = \\left[ \\frac{e^{2s}}{2} \\right]_{-\\infty}^x = \\frac{e^{2x}}{2}$$\n",
        "\n",
        "CASO 2:\n",
        "$$F(x)=\\int_{-\\infty}^{0} e^{2s} \\, ds + \\int_{0}^{x} e^{-2s} \\, ds $$\n",
        "\n",
        "$$ = \\frac{1}{2} \\ + \\left[ \\frac{-e^{-2s}}{2} \\right]_0^x$$\n",
        "\n",
        "$$ = 1-\\frac{e^{-2x}}{2}$$\n",
        "\n",
        "Por lo que\n",
        " $$ F(x) = \\begin{cases}\n",
        "      \\frac{e^{2x}}{2} & \\text{si } x < 0 \\\\\n",
        "       1-\\frac{e^{-2x}}{2} & \\text{si } x \\geq 0 \\\n",
        "   \\end{cases} $$\n",
        "\n",
        "4. Ahora calculemos la función inversa\n",
        "\n",
        "CASO 1:\n",
        "\n",
        " $$\\frac{e^{2x}}{2} = R ⟹ e^{2x} = 2R ⟹ x = \\frac{ln(2R)}{2}$$\n",
        "\n",
        "CASO 2:\n",
        "\n",
        "$$  1-\\frac{e^{-2x}}{2} = R ⟹ e^{-2x} = 2(1-R)  ⟹ x = -\\frac{ln (2(1-R))}{2}$$\n",
        "\n",
        "Finalmente haciendo $R=u$ nuestra función inversa queda de la forma siguiente:\n",
        "\n",
        "$$ F^{-1}(x) = \\begin{cases}\n",
        "      \\frac{ln(2u)}{2} & \\text{si } u < \\frac{1}{2} \\\\\n",
        "        -\\frac{ln (2(1-u))}{2} & \\text{si } u \\geq \\frac{1}{2}\\\n",
        "   \\end{cases} $$\n",
        "\n",
        "\n",
        "Ahora ya podemos simular nuestra solución para corraborar respuestas."
      ],
      "metadata": {
        "id": "J8gEAvw_YClI"
      }
    },
    {
      "cell_type": "code",
      "source": [
        "# Ingresamos nuestras paqueterias necesarias\n",
        "import random as rnd\n",
        "import numpy as np\n",
        "import matplotlib.pyplot as plt"
      ],
      "metadata": {
        "id": "QM-8SsU-cyX8"
      },
      "execution_count": null,
      "outputs": []
    },
    {
      "cell_type": "markdown",
      "source": [
        "Crearemos una funcion donde definiremos nuestra función inversa obtenida anteriormente"
      ],
      "metadata": {
        "id": "nQC-G3UWg2QI"
      }
    },
    {
      "cell_type": "code",
      "execution_count": null,
      "metadata": {
        "id": "IQxFEhUucaIo"
      },
      "outputs": [],
      "source": [
        "\n",
        "def generar_muestra(n): ## Definimos nuestra funcion generar_muestra, la cual representa la cantidad de números aleatorios que se desean generar\n",
        "    Lista = [] # Creamos una lista vacia\n",
        "    for i in range(n):\n",
        "        u = rnd.random()  # Solo necesitamos un número aleatorio\n",
        "        if u < 0.5:\n",
        "            x = np.log(2 * u) / 2  # Si u < 0.5, calcula x utilizando esta fórmula\n",
        "        else:\n",
        "            x = -np.log(2 * (1 - u)) / 2  # Si u >= 0.5 se calcula x usando esta formula\n",
        "        Lista.append(x)\n",
        "\n",
        "    return Lista\n",
        "\n"
      ]
    },
    {
      "cell_type": "code",
      "source": [
        "# Ejemplo de uso\n",
        "G = generar_muestra(100000 ) # Generarmos la lista G usando la función generar_muestra"
      ],
      "metadata": {
        "id": "DMlbD03iegS8"
      },
      "execution_count": null,
      "outputs": []
    },
    {
      "cell_type": "code",
      "source": [
        "mu=np.mean(G)  #Calculamos la media de G\n",
        "print(mu)\n"
      ],
      "metadata": {
        "colab": {
          "base_uri": "https://localhost:8080/"
        },
        "id": "BJZtg9Wth5lA",
        "outputId": "274612b3-b503-4195-b506-da3a6bb55df7"
      },
      "execution_count": null,
      "outputs": [
        {
          "output_type": "stream",
          "name": "stdout",
          "text": [
            "0.0026174971765069097\n"
          ]
        }
      ]
    },
    {
      "cell_type": "code",
      "source": [
        "sigma2=np.var(G) #Calculamos la varianza de G\n",
        "print(sigma2)"
      ],
      "metadata": {
        "colab": {
          "base_uri": "https://localhost:8080/"
        },
        "id": "Gad6WC4Yh7Hs",
        "outputId": "0a973056-aafa-4b32-b3ca-72e476c6fe10"
      },
      "execution_count": null,
      "outputs": [
        {
          "output_type": "stream",
          "name": "stdout",
          "text": [
            "0.49767065359741525\n"
          ]
        }
      ]
    },
    {
      "cell_type": "code",
      "source": [
        "# Graficamos la función de densidad teórica para comparación\n",
        "x = np.linspace(-3, 3, 1000)\n",
        "y = np.exp(-np.abs(2 * x))\n",
        "plt.plot(x, y, 'r', lw=2)\n",
        "\n",
        "# Graficamos el histograma de las muestras generadas\n",
        "plt.hist(G, bins=50, color='lightblue', density=True, edgecolor='black')"
      ],
      "metadata": {
        "colab": {
          "base_uri": "https://localhost:8080/",
          "height": 855
        },
        "id": "-WRHzyRLWQUN",
        "outputId": "26217d99-f819-4acd-a0d7-fc93eba57b5d"
      },
      "execution_count": null,
      "outputs": [
        {
          "output_type": "execute_result",
          "data": {
            "text/plain": [
              "(array([4.20874778e-05, 0.00000000e+00, 0.00000000e+00, 4.20874778e-05,\n",
              "        0.00000000e+00, 8.41749555e-05, 4.20874778e-05, 4.20874778e-05,\n",
              "        2.10437389e-04, 2.10437389e-04, 5.89224689e-04, 4.62962255e-04,\n",
              "        1.05218694e-03, 1.26262433e-03, 2.27272380e-03, 4.04039786e-03,\n",
              "        6.77608392e-03, 1.02693446e-02, 1.62457664e-02, 2.97979342e-02,\n",
              "        4.45706389e-02, 7.32742988e-02, 1.18349987e-01, 1.86952576e-01,\n",
              "        2.99873279e-01, 4.84384781e-01, 7.79670525e-01, 8.15234444e-01,\n",
              "        4.98904961e-01, 3.13383359e-01, 1.96001384e-01, 1.24957721e-01,\n",
              "        7.70200843e-02, 4.66329253e-02, 2.91666221e-02, 1.87289276e-02,\n",
              "        1.07743943e-02, 6.48147157e-03, 4.29292273e-03, 2.56733614e-03,\n",
              "        1.43097424e-03, 1.05218694e-03, 4.20874778e-04, 5.47137211e-04,\n",
              "        2.52524867e-04, 8.41749555e-05, 8.41749555e-05, 4.20874778e-05,\n",
              "        4.20874778e-05, 1.26262433e-04]),\n",
              " array([-6.42366576, -6.18606539, -5.94846503, -5.71086467, -5.4732643 ,\n",
              "        -5.23566394, -4.99806358, -4.76046321, -4.52286285, -4.28526249,\n",
              "        -4.04766212, -3.81006176, -3.5724614 , -3.33486103, -3.09726067,\n",
              "        -2.85966031, -2.62205994, -2.38445958, -2.14685922, -1.90925885,\n",
              "        -1.67165849, -1.43405813, -1.19645777, -0.9588574 , -0.72125704,\n",
              "        -0.48365668, -0.24605631, -0.00845595,  0.22914441,  0.46674478,\n",
              "         0.70434514,  0.9419455 ,  1.17954587,  1.41714623,  1.65474659,\n",
              "         1.89234696,  2.12994732,  2.36754768,  2.60514805,  2.84274841,\n",
              "         3.08034877,  3.31794914,  3.5555495 ,  3.79314986,  4.03075023,\n",
              "         4.26835059,  4.50595095,  4.74355131,  4.98115168,  5.21875204,\n",
              "         5.4563524 ]),\n",
              " <BarContainer object of 50 artists>)"
            ]
          },
          "metadata": {},
          "execution_count": 107
        },
        {
          "output_type": "display_data",
          "data": {
            "text/plain": [
              "<Figure size 640x480 with 1 Axes>"
            ],
            "image/png": "[encoded data removed]"
          },
          "metadata": {}
        }
      ]
    },
    {
      "cell_type": "markdown",
      "source": [
        "Podemos ver que con ayuda de este hitograma efectivamente se obtiene nuestra grafica de fdp"
      ],
      "metadata": {
        "id": "eqpAt1AliBnu"
      }
    },
    {
      "cell_type": "code",
      "source": [
        "plt.plot(G,color='lightblue')  #Graficamos los valores de G obtenidos"
      ],
      "metadata": {
        "colab": {
          "base_uri": "https://localhost:8080/",
          "height": 447
        },
        "id": "Wu1jTbMQfiiv",
        "outputId": "48393126-2276-4416-9b08-b178085c2fdc"
      },
      "execution_count": null,
      "outputs": [
        {
          "output_type": "execute_result",
          "data": {
            "text/plain": [
              "[<matplotlib.lines.Line2D at 0x7ec2d28d5f00>]"
            ]
          },
          "metadata": {},
          "execution_count": 98
        },
        {
          "output_type": "display_data",
          "data": {
            "text/plain": [
              "<Figure size 640x480 with 1 Axes>"
            ],
            "image/png": "[encoded data removed]"
          },
          "metadata": {}
        }
      ]
    },
    {
      "cell_type": "code",
      "source": [
        "def cdf(muestras):  #Definimos una nueva funsión\n",
        "  n = len(G)  #Calculamos el número de elementos en la lista G.\n",
        "  x = np.sort(G) #Ordena los valores de G en orden ascendente.\n",
        "  y = np.arange(0,n)/n   #Obtenemo las probabilidades acumuladas\n",
        "  return x,y"
      ],
      "metadata": {
        "id": "XiG7hCUOc9c8"
      },
      "execution_count": null,
      "outputs": []
    },
    {
      "cell_type": "code",
      "source": [
        "x,y = cdf(G) #Obtenemos los valores de x , y"
      ],
      "metadata": {
        "id": "kgwDWZshc-Jl"
      },
      "execution_count": null,
      "outputs": []
    },
    {
      "cell_type": "code",
      "source": [
        "mu=np.mean(G)"
      ],
      "metadata": {
        "id": "2Yek1qqNdDow"
      },
      "execution_count": null,
      "outputs": []
    },
    {
      "cell_type": "code",
      "source": [
        "plt.step(x,y)\n",
        "plt.axhline(0.5,color=\"red\")  #Graficamos una línea horizontal en y=0.5 (punto medio)\n",
        "plt.axvline(mu,color=\"green\") #Graficamos la media"
      ],
      "metadata": {
        "colab": {
          "base_uri": "https://localhost:8080/",
          "height": 447
        },
        "id": "sgNMEdVQdAPf",
        "outputId": "baa8c5ae-aaca-4381-8187-cec8143dfeb3"
      },
      "execution_count": null,
      "outputs": [
        {
          "output_type": "execute_result",
          "data": {
            "text/plain": [
              "<matplotlib.lines.Line2D at 0x7ec2d27fa6b0>"
            ]
          },
          "metadata": {},
          "execution_count": 112
        },
        {
          "output_type": "display_data",
          "data": {
            "text/plain": [
              "<Figure size 640x480 with 1 Axes>"
            ],
            "image/png": "[encoded data removed]"
          },
          "metadata": {}
        }
      ]
    }
  ]
}