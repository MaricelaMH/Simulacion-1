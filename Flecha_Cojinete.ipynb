{
  "cells": [
    {
      "cell_type": "markdown",
      "metadata": {
        "id": "view-in-github",
        "colab_type": "text"
      },
      "source": [
        "<a href=\"https://colab.research.google.com/github/MaricelaMH/Simulacion-1/blob/main/Flecha_Cojinete.ipynb\" target=\"_parent\"><img src=\"https://colab.research.google.com/assets/colab-badge.svg\" alt=\"Open In Colab\"/></a>"
      ]
    },
    {
      "cell_type": "markdown",
      "id": "c21e5530",
      "metadata": {
        "id": "c21e5530"
      },
      "source": [
        "# Ejemplo: Flecha y cojinete"
      ]
    },
    {
      "cell_type": "markdown",
      "id": "61f9bd36",
      "metadata": {
        "id": "61f9bd36"
      },
      "source": [
        "Una flecha será embonada en un cojinete como se muestra a continuación\n",
        "\n",
        "<img src=\"https://github.com/MaricelaMH/Simulacion-1/blob/main/cojinete.png?raw=1\">"
      ]
    },
    {
      "cell_type": "markdown",
      "id": "5f658ca1",
      "metadata": {
        "id": "5f658ca1"
      },
      "source": [
        "Si $x_1$ sigue una distribución normal con media $1.5$ y varianza $0.0016$, y $x_2$ esta misma distribución con media $1.48$ y varianza $0.0009$, determine:\n",
        "\n",
        "a) La probabilidad de que haya interferencia.\n",
        "\n",
        "b) El número de veces que es necesario simular el experimento, si se quiere que la probabilidad de interferencia estimada difiera de su valor verdadero en menos de $0.01$, con un nivel de seguridad del $95\\%.$"
      ]
    },
    {
      "cell_type": "markdown",
      "id": "fac00420",
      "metadata": {
        "id": "fac00420"
      },
      "source": [
        "Vamos a resolver este problema, procurando seguir la metodología vista en el curso."
      ]
    },
    {
      "cell_type": "markdown",
      "id": "ccd32164",
      "metadata": {
        "id": "ccd32164"
      },
      "source": [
        "### 1. Identifique las variables\n",
        "\n",
        "Tenemos dos: $x_1$ y $x_2$.\n",
        "\n",
        "$$ x_1 : \\text{ Diámetro del espacio en el cojinete, que sigue una distribución normal }$$ $$ N(1.5,0.04) $$\n",
        "\n",
        "$$x_2: \\text{ Diámetro de la flecha, que sigue una distribución normal }$$ $$ N(1.48,0.03)$$"
      ]
    },
    {
      "cell_type": "markdown",
      "id": "ae8735e5",
      "metadata": {
        "id": "ae8735e5"
      },
      "source": [
        "### 2 y 3. Determine la distribución de probabilidad y modele las variables aleatorias\n",
        "\n",
        "En el planteamiento ya se especifica que $x_1 \\sim N(1.5, 0.04)$ y que $x_2 \\sim N(1.48, 0.03)$."
      ]
    },
    {
      "cell_type": "markdown",
      "id": "b1b57a13",
      "metadata": {
        "id": "b1b57a13"
      },
      "source": [
        "### 4. Defina el modelo del sistema y los objetivos de la simulación\n",
        "\n",
        "La diferencia $x_1 - x_2$ modela adecuadamente el sistema.\n",
        "\n",
        "* Si $x_2 - x_1 > 0 $ ,  hay interferencia (la flecha es más grande que el espacio en el cojinete).\n",
        "\n",
        "* Si $x_2 - x_1 \\leq 0 $ ,las piezas embonan sin problema.\n",
        "\n",
        "Objetivo: determinar la frecuencia con que esto ocurre, lo cual nos da una esrimación de la probabilidad de interefrencia.\n",
        "\n",
        "Una forma de implementarlo es mediante el siguiente código."
      ]
    },
    {
      "cell_type": "code",
      "execution_count": 71,
      "id": "191b1e9b",
      "metadata": {
        "id": "191b1e9b"
      },
      "outputs": [],
      "source": [
        "import numpy as np\n",
        "import random\n",
        "import matplotlib.pyplot as plt\n",
        "from scipy.stats import norm"
      ]
    },
    {
      "cell_type": "code",
      "execution_count": 72,
      "id": "e64c27d2",
      "metadata": {
        "id": "e64c27d2"
      },
      "outputs": [],
      "source": [
        "def interferencia():                #Esta función devuelve el valor 1 si hay interferencia o 0 si no la hay.\n",
        "    interf=0\n",
        "    x_1 = random.gauss(1.50,0.04)    #La funcion gauss genera un número que sigue una distribucion normal con\n",
        "    x_2 = random.gauss(1.48,0.03)   # la media y la desvicion estandar especificados.\n",
        "    if 0.0 < x_2 - x_1:\n",
        "        interf += 1\n",
        "    return interf"
      ]
    },
    {
      "cell_type": "markdown",
      "source": [
        "* Llamaremos a la función interferencia, que ejecuta el código anterior y devuelve 1 o 0 según haya interferencia o no."
      ],
      "metadata": {
        "id": "x1acIKkK0HCY"
      },
      "id": "x1acIKkK0HCY"
    },
    {
      "cell_type": "code",
      "execution_count": 73,
      "id": "ebe51777",
      "metadata": {
        "colab": {
          "base_uri": "https://localhost:8080/"
        },
        "id": "ebe51777",
        "outputId": "8514aed0-b972-4fba-a248-e2ec1c0fbf10"
      },
      "outputs": [
        {
          "output_type": "execute_result",
          "data": {
            "text/plain": [
              "0"
            ]
          },
          "metadata": {},
          "execution_count": 73
        }
      ],
      "source": [
        "interferencia()"
      ]
    },
    {
      "cell_type": "markdown",
      "id": "d6186dac",
      "metadata": {
        "id": "d6186dac"
      },
      "source": [
        "### 5. Diseñe el experimento\n",
        "\n",
        "Para estimar la probabilidad de interferencia, ejecutamos $n$ veces la función anterior y calculamos de manera acumulativa\n",
        "la probabilidad de interferencia."
      ]
    },
    {
      "cell_type": "code",
      "execution_count": 74,
      "id": "f9a766a5",
      "metadata": {
        "id": "f9a766a5"
      },
      "outputs": [],
      "source": [
        "def prob_inter(n):\n",
        "    prob = []                       # Esta funcion devuelve esta lista \"prob\", con los valores de la probabilidad\n",
        "    inter = 0                       # estimada al contar las veces que hay interferencia y dividir entre las veces que\n",
        "    for i in range(n):              # se ha reptido la observacion mientras aumenta el numero de iteraciones.\n",
        "        inter += interferencia()\n",
        "        prob.append(inter/(i+1))\n",
        "    return prob"
      ]
    },
    {
      "cell_type": "markdown",
      "source": [
        "* Realizaremos 500 iteraciones al experimento, con ayuda de nuestra funcion definida anteriormente iremos acumulando la probabilidad de interferencia en cada iteración."
      ],
      "metadata": {
        "id": "K6UvOu9K014G"
      },
      "id": "K6UvOu9K014G"
    },
    {
      "cell_type": "code",
      "execution_count": 103,
      "id": "8099a245",
      "metadata": {
        "id": "8099a245"
      },
      "outputs": [],
      "source": [
        "X = prob_inter(500)                # Asignamos valores a n y realizamos el experimento"
      ]
    },
    {
      "cell_type": "markdown",
      "source": [
        "* Se graficara cómo esta probabilidad converge a medida que aumenta el número de iteraciones"
      ],
      "metadata": {
        "id": "L1fkQkOb1RXn"
      },
      "id": "L1fkQkOb1RXn"
    },
    {
      "cell_type": "code",
      "execution_count": 104,
      "id": "c5a5a3c2",
      "metadata": {
        "colab": {
          "base_uri": "https://localhost:8080/",
          "height": 447
        },
        "id": "c5a5a3c2",
        "outputId": "df7952b0-ca76-4107-f1b2-05245d2abaa3"
      },
      "outputs": [
        {
          "output_type": "execute_result",
          "data": {
            "text/plain": [
              "[<matplotlib.lines.Line2D at 0x7dc2af09b100>]"
            ]
          },
          "metadata": {},
          "execution_count": 104
        },
        {
          "output_type": "display_data",
          "data": {
            "text/plain": [
              "<Figure size 640x480 with 1 Axes>"
            ],
            "image/png": "[encoded data removed]"
          },
          "metadata": {}
        }
      ],
      "source": [
        "plt.plot(X)                         # La gráfica muestra que la convergencia está garantizada con 500 iteraciones\n",
        "                                    # Sin embargo, diferentes ejecuciones darán resultados distintos"
      ]
    },
    {
      "cell_type": "markdown",
      "source": [
        "* Imprimimos la media y la desviación estándar de las probabilidades acumulativas."
      ],
      "metadata": {
        "id": "4tj6h8dk1gy5"
      },
      "id": "4tj6h8dk1gy5"
    },
    {
      "cell_type": "code",
      "execution_count": 105,
      "id": "4ac4c689",
      "metadata": {
        "colab": {
          "base_uri": "https://localhost:8080/"
        },
        "id": "4ac4c689",
        "outputId": "5c21f931-d5d0-4794-952e-f6a54f2021d0"
      },
      "outputs": [
        {
          "output_type": "stream",
          "name": "stdout",
          "text": [
            "0.3446589438682182 0.04665105138153458\n"
          ]
        }
      ],
      "source": [
        "print(np.mean(X), np.std(X))"
      ]
    },
    {
      "cell_type": "markdown",
      "id": "34727279",
      "metadata": {
        "id": "34727279"
      },
      "source": [
        "### 6. Repita el experimento $n$ veces\n",
        "\n",
        "Una forma de hacerlo es mediante el siguiente codigo."
      ]
    },
    {
      "cell_type": "code",
      "execution_count": 106,
      "id": "908f1884",
      "metadata": {
        "id": "908f1884"
      },
      "outputs": [],
      "source": [
        "def modelo(n):\n",
        "    lista=[]                        # Inicializamos una lista vacía para almacenar las medias de las probabilidades\n",
        "    for i in range(n):               # Repetimos el experimento 'n' veces\n",
        "        s = prob_inter(500)          # Ejecutamos la función 'prob_inter' para realizar el experimento\n",
        "        lista.append(np.mean(s))     # Calculamos la media de las probabilidades obtenidas y la agregamos a la lista 'lista'\n",
        "    return lista"
      ]
    },
    {
      "cell_type": "code",
      "execution_count": 107,
      "id": "34868564",
      "metadata": {
        "id": "34868564"
      },
      "outputs": [],
      "source": [
        "Y=modelo(120)         # Llamamos a la función 'modelo' para repetir el experimento 120 veces"
      ]
    },
    {
      "cell_type": "code",
      "execution_count": 108,
      "id": "8a95845e",
      "metadata": {
        "colab": {
          "base_uri": "https://localhost:8080/",
          "height": 430
        },
        "id": "8a95845e",
        "outputId": "119a2067-6acb-46ef-e5df-88108ed3d4c7"
      },
      "outputs": [
        {
          "output_type": "display_data",
          "data": {
            "text/plain": [
              "<Figure size 640x480 with 1 Axes>"
            ],
            "image/png": "[encoded data removed]"
          },
          "metadata": {}
        }
      ],
      "source": [
        "plt.hist(Y)          # Graficamos un histograma de las medias de las probabilidades\n",
        "plt.show()"
      ]
    },
    {
      "cell_type": "code",
      "execution_count": 109,
      "id": "e892a16c",
      "metadata": {
        "colab": {
          "base_uri": "https://localhost:8080/"
        },
        "id": "e892a16c",
        "outputId": "3d3fc0bb-f000-4c40-fd3e-b5dae39e8f3f"
      },
      "outputs": [
        {
          "output_type": "stream",
          "name": "stdout",
          "text": [
            "0.34439943070825013 0.027560894478777784\n"
          ]
        }
      ],
      "source": [
        "print(np.mean(Y), np.std(Y))     # Calculamos la media y la desviación estándar de las medias de las probabilidades"
      ]
    },
    {
      "cell_type": "markdown",
      "id": "e5dc2362",
      "metadata": {
        "id": "e5dc2362"
      },
      "source": [
        "### Paso 7. Hallamos el intervalo de confianza.\n",
        "* Sabemos que la media muestral $\\bar{x}$ de una muestra de tamaño $n$ tomada de una población con media $\\mu$ y desviación estándar $\\sigma$ sigue una distribución normal:\n",
        "$$ \\bar{x} \\sim N(\\mu,\\frac{\\sigma}{\\sqrt{n}} )$$\n",
        "Para muestras grandes, la distribución normal estándar es una buena aproximación, si tuvieramos una muestra pequeña, tendriamos que usar la distribución $t-student$\n",
        "\n",
        "* Para encontrar un intervalo de confianza, primero estandarizamos la media muestral $\\bar{x}$ usando la formula:\n",
        "$$Z=\\frac{\\bar{x}-\\mu}{\\frac{s}{\\sqrt{n}}}$$\n",
        "Donde $Z$ sigue una distribución normal estándar con $N(0,1)$\n",
        "\n",
        "* Para un intervalo de confianza del $(1-\\alpha) \\cdot 100\\%$, los valores críticos $z_\\frac{\\alpha}{2}$ son tales que:\n",
        "\n",
        "$$P(-z_\\frac{\\alpha}{2} \\leq \\frac{\\bar{x}-\\mu}{\\frac{s}{\\sqrt{n}}} \\leq z_\\frac{\\alpha}{2}) = 1-\\alpha$$\n",
        "multiplicando por $\\frac{s}{\\sqrt{n}}$:\n",
        "\n",
        "$$ P(-z_{\\frac{\\alpha}{2}} \\cdot \\frac{s}{\\sqrt{n}} \\leq \\bar{x} - \\mu \\leq z_{\\frac{\\alpha}{2}} \\cdot \\frac{s}{\\sqrt{n}})=1-\\alpha$$\n",
        "\n",
        "sumamos $\\mu$ y restamos $\\bar{x}$:\n",
        "\n",
        "$$P(\\bar{x}-z_\\frac{\\alpha}{2} \\cdot \\frac{s}{\\sqrt{n}} \\leq \\mu \\leq \\bar{x}+z_\\frac{\\alpha}{2} \\cdot \\frac{s}{\\sqrt{n}}) $$\n",
        "\n",
        "Hemos demostrado que el intervalo de confianza del $(1-\\alpha)\\cdot 100\\%$ para la media poblacional $\\mu$ esta dado por:\n",
        "\n",
        "$$\\bar{x}-z_\\frac{\\alpha}{2} \\cdot \\frac{s}{\\sqrt{n}} \\leq \\mu \\leq \\bar{x}+z_\\frac{\\alpha}{2} \\cdot \\frac{s}{\\sqrt{n}}$$\n",
        "\n",
        "Con la emostración anterior podemos calcular el intervalo de confianza para la media de una muestral por lo que, sabiendo que:\n",
        "\n",
        "$$\\bar{x}-z_{\\alpha/2} \\cdot \\frac{s}{\\sqrt{n}} < \\mu < \\bar{x}+z_{\\alpha/2}\\cdot \\frac{s}{\\sqrt{n}}$$\n",
        "\n",
        "donde\n",
        "* $\\bar{x} \\text{ : es la media muestral}$\n",
        "* $z_{\\frac{\\alpha}{2}} \\text{ : es el valor crítico de la distribución normal para el nivel de confianza deseado.}$\n",
        "* $s \\text{ : es la desviación estándar de la muestra}$\n",
        "* $ n \\text{ : es el tamaño de la muestra}$\n",
        "\n",
        "\n",
        "1. Que queremos calcular un intervalo de confianza para la media de las diferencias $x_2 - x_1$ , utilizaremos los siguientes valores:\n",
        "\n",
        "$$ \\rightarrow \\bar{x} = 1.48-1.5=-0.02$$$$ \\text{ (media muestral, igual a la media teórica en este caso)}$$\n",
        "\n",
        "$$\\rightarrow s = \\sqrt{0.0025} = 0.05 $$ $$\\text{ (desviación estándar muestral, igual a la desviación estándar teórica en este caso)}$$\n",
        "\n",
        "$$\\rightarrow  n=50 $$\n",
        "$$ \\text{(Número de simulaciones que determinamos, en este caso 50) }$$\n",
        "\n",
        "$$\\rightarrow \\text{ Un nivel de confianza del }95\\% \\text{ por lo que } z_{\\frac{\\alpha}{2}} \\approx 1.96$$\n",
        "\n",
        "\n",
        "2. El margen de error de $E$ se calcula como:\n",
        "$$E = z_{\\frac{\\alpha}{2}} \\cdot \\frac{s}{\\sqrt{n}}$$\n",
        "sustituyendo valores\n",
        "$$ E= 1.96 \\cdot \\frac{0.05}{\\sqrt{50}} \\approx{0.0138}$$\n",
        "por lo que el intervalo de confianza es:\n",
        "$$ \\bar{x} - E < \\mu < \\bar{x} + E$$\n",
        "sustituyendo valalores \\\\\n",
        "\n",
        "$$ \\Rightarrow -0.02-0.0138 < \\mu < -0.02 + 0.0138  $$\n",
        "\n",
        "$$ ⇒ -0.0338 < \\mu < -0.0062$$\n",
        "\n",
        "3. Con un nivel de confianza del 95\\%, el intervalo de confianza para la media de las diferencias x_2 - x_1 es aproximadamente de $$[-0.0338,-0.0062]$$\n"
      ]
    },
    {
      "cell_type": "code",
      "execution_count": 110,
      "id": "23d0b48e",
      "metadata": {
        "colab": {
          "base_uri": "https://localhost:8080/"
        },
        "id": "23d0b48e",
        "outputId": "c36c3814-3909-479f-d9db-ba8115a50cd6"
      },
      "outputs": [
        {
          "output_type": "execute_result",
          "data": {
            "text/plain": [
              "0.34439943070825013"
            ]
          },
          "metadata": {},
          "execution_count": 110
        }
      ],
      "source": [
        "np.mean(Y)              # Calculamos la media de los resultados de las 120 simulaciones"
      ]
    },
    {
      "cell_type": "code",
      "source": [
        "np.std(Y)/np.sqrt(50)   # Calcular el margen de error"
      ],
      "metadata": {
        "id": "b8fmOk-wEhlN",
        "outputId": "23c466e6-35ad-43cd-afce-64f2f1553bdd",
        "colab": {
          "base_uri": "https://localhost:8080/"
        }
      },
      "id": "b8fmOk-wEhlN",
      "execution_count": 111,
      "outputs": [
        {
          "output_type": "execute_result",
          "data": {
            "text/plain": [
              "0.0038976990763021297"
            ]
          },
          "metadata": {},
          "execution_count": 111
        }
      ]
    },
    {
      "cell_type": "code",
      "execution_count": 112,
      "id": "b29c74e6",
      "metadata": {
        "colab": {
          "base_uri": "https://localhost:8080/"
        },
        "id": "b29c74e6",
        "outputId": "e50487ac-dc06-4c57-fa46-043b0299f977"
      },
      "outputs": [
        {
          "output_type": "execute_result",
          "data": {
            "text/plain": [
              "(0.33675994051869795, 0.3520389208978023)"
            ]
          },
          "metadata": {},
          "execution_count": 112
        }
      ],
      "source": [
        "np.mean(Y) - 1.96*np.std(Y)/np.sqrt(50), np.mean(Y) + 1.96*np.std(Y)/np.sqrt(50) # Calculamos el intervalo de confianza"
      ]
    },
    {
      "cell_type": "markdown",
      "source": [
        "Aqui nuestro resultado puede variar un poco, comparandolo con el resultado analítico esto por cuestión de decimales y por que la media muestral que tomamos es igual a la media teorica proporcionada."
      ],
      "metadata": {
        "id": "go1rxkKRQFFX"
      },
      "id": "go1rxkKRQFFX"
    },
    {
      "cell_type": "markdown",
      "id": "112c0954",
      "metadata": {
        "id": "112c0954"
      },
      "source": [
        "### Para determinar el número de simulaciones"
      ]
    },
    {
      "cell_type": "markdown",
      "id": "0a1a63e7",
      "metadata": {
        "id": "0a1a63e7"
      },
      "source": [
        "Vamos a usar la fórmula\n",
        "$$ N > \\Bigg( \\frac{2 \\sigma z_{\\alpha/2}}{\\epsilon} \\Bigg) ^2 $$\n",
        "\n",
        "donde:\n",
        "\n",
        "* $\\sigma \\text{ : es la desviación estándar de la diferencia } x_2-x_1$\n",
        "* $z_\\frac{\\alpha}{2} \\text{ : es el valor crítico de la distribución normal para un nivel de confianza al } 95\\%$\n",
        "* $\\epsilon \\text{ : es el error de estimación permitido } (0.01)$\n",
        "\n",
        "en este caso:\n",
        "$$⇒  \\sigma= 0.05 $$\n",
        "$$⇒  z_\\frac{\\sigma}{2} = 1.96 $$\n",
        "$$ ⇒ \\epsilon = 0.01 $$\n",
        "\n",
        "sustituimos valores\n",
        "\n",
        "$$N > \\Bigg(\\frac{2 \\cdot 0.05 \\cdot 1.96}{0.01} \\Bigg)^2$$\n",
        "por lo tanto\n",
        "$$ N > (19.6)^2 = 384.16 $$\n",
        "\n",
        "por lo que necesitaremos mas de $384$ simulaciones para que la probabilidad estimada de interferencia difiera de su valor verdadero en menos de $0.01$, con un nivel de confianza del $95\\%$."
      ]
    },
    {
      "cell_type": "code",
      "execution_count": 113,
      "id": "1478d745",
      "metadata": {
        "id": "1478d745"
      },
      "outputs": [],
      "source": [
        "N = (2*np.std(X)*1.96/0.01)**2       # Calculamos el número de simulaciones necesarias"
      ]
    },
    {
      "cell_type": "code",
      "execution_count": 114,
      "id": "fa6ae0ce",
      "metadata": {
        "colab": {
          "base_uri": "https://localhost:8080/"
        },
        "id": "fa6ae0ce",
        "outputId": "cb992d86-cee4-461b-b850-8c97a61eae80"
      },
      "outputs": [
        {
          "output_type": "stream",
          "name": "stdout",
          "text": [
            "334.4221279104763\n"
          ]
        }
      ],
      "source": [
        "print(N)"
      ]
    },
    {
      "cell_type": "markdown",
      "id": "a6d1c695",
      "metadata": {
        "id": "a6d1c695"
      },
      "source": [
        "### Podemos comparar con la sulución analítica del problema.\n",
        "\n",
        "Para ello usamos la teoría sobre la suma de variables con distribución normal, la cual nos dice que:\n",
        "\n",
        "* Si $X$ y $Y$ son variables aleatorias independientes con distribuciones normales $$X \\sim N(\\mu_X,\\sigma^2_X)$$ y $$Y \\sim N(\\mu_Y,\\sigma^2_Y)$$\n",
        "entonces $X-Y$ sigue una distribución normal con media igual a la diferencia de las medias y varianza igual a la suma de las varianzas de las dos variables originales.\n",
        "En este caso $x_1$ y $x_2$ son independientes y tienen distribuciones normales, por lo que podemos aplicar este teorema para encontrar la distribución de $x_2-x_1$\n",
        "\n",
        "De lo anterior tenemos que\n",
        "\n",
        "$$ x_2 - x_1 \\sim N( \\mu_{x_2} - \\mu_{x_1} , \\sigma_{x_2}^2 + \\sigma_{x_1}^2)$$\n",
        "\n",
        "$$⇒ x_2 - x_1 \\sim N( 1.48-1.5 , \\sqrt{0.0009 + 0.0016}) $$\n",
        "\n",
        "$$⇒ x_2 - x_1 \\sim N( -0.02, 0.05) $$\n",
        "\n",
        "* Calcularemos la probabilidad de la interferencia, la cual esta dada por\n",
        "\n",
        "$$ P(x_2 - x_1 > 0)$$\n",
        "\n",
        "Dado que $x_2 - x_1 $ sigue una distribución normal $N(-0.02,0.05)$, esto implica que\n",
        "\n",
        "$$ P \\Bigg(Z > \\frac{0-(-0.02)}{0.05} \\Bigg) = P \\Bigg (Z > \\frac{0.02}{0.05} \\Bigg) = P ( Z > 0.4 )$$\n",
        "\n",
        "Usamos la tabla de la distribución normal estándar $(Z)$ para encontrar esta probabilidad:\n",
        "\n",
        "$$ P ( Z > 0.4 ) = 1- P ( Z \\leq 0.04 ) \\approx 1 - 0.6554 = 0.3446$$\n",
        "\n",
        "Por lo tanto, la probabilidad de interferencia es aproximadamente\n",
        "$0.34460$ o $34.46\\%$"
      ]
    },
    {
      "cell_type": "code",
      "execution_count": null,
      "id": "7284bee0",
      "metadata": {
        "colab": {
          "base_uri": "https://localhost:8080/"
        },
        "id": "7284bee0",
        "outputId": "20a06141-936c-4611-9c93-92c73056442e"
      },
      "outputs": [
        {
          "output_type": "execute_result",
          "data": {
            "text/plain": [
              "0.3445782583896758"
            ]
          },
          "metadata": {},
          "execution_count": 16
        }
      ],
      "source": [
        "norm.cdf(-0.04, -0.02, 0.05)    # Calculamos la probabilidad acumulada"
      ]
    },
    {
      "cell_type": "code",
      "execution_count": null,
      "id": "a1a842a2",
      "metadata": {
        "colab": {
          "base_uri": "https://localhost:8080/"
        },
        "id": "a1a842a2",
        "outputId": "bdd436aa-ecf1-44e7-99d2-257fad11599d"
      },
      "outputs": [
        {
          "output_type": "execute_result",
          "data": {
            "text/plain": [
              "0.0023943319277625608"
            ]
          },
          "metadata": {},
          "execution_count": 17
        }
      ],
      "source": [
        "norm.cdf(-0.04, -0.02, 0.05)-np.mean(Y)   # Diferencia entre la CDF calculada y la media de Y"
      ]
    },
    {
      "cell_type": "markdown",
      "source": [
        "Finalmente:\n",
        "\n",
        "a) La probabilidad de que haya interferencia es aproximadamente\n",
        "$34.46\\%$\n",
        "\n",
        "b) Se necesitarían más de $384$ simulaciones para que la probabilidad estimada de interferencia difiera de su valor verdadero en menos de %0.01%, con un nivel de confianza del $95\\%$."
      ],
      "metadata": {
        "id": "gYTCjuVCbopn"
      },
      "id": "gYTCjuVCbopn"
    }
  ],
  "metadata": {
    "kernelspec": {
      "display_name": "Python 3 (ipykernel)",
      "language": "python",
      "name": "python3"
    },
    "language_info": {
      "codemirror_mode": {
        "name": "ipython",
        "version": 3
      },
      "file_extension": ".py",
      "mimetype": "text/x-python",
      "name": "python",
      "nbconvert_exporter": "python",
      "pygments_lexer": "ipython3",
      "version": "3.7.3"
    },
    "colab": {
      "provenance": [],
      "include_colab_link": true
    }
  },
  "nbformat": 4,
  "nbformat_minor": 5
}