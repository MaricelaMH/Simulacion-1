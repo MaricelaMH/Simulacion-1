{
  "cells": [
    {
      "cell_type": "markdown",
      "metadata": {
        "id": "Zgln0iNiCTF6"
      },
      "source": [
        "## Listas"
      ]
    },
    {
      "cell_type": "markdown",
      "metadata": {
        "id": "lzZiOO_8CTF_"
      },
      "source": [
        "Una **lista** es una colección ordenada de objetos, que pueden ser de distintos tipos. Las listas son mutables y se pueden realizar varias operaciones con ellas mediante funciones de Python."
      ]
    },
    {
      "cell_type": "markdown",
      "metadata": {
        "id": "9CqmlqY-CTGA"
      },
      "source": [
        "Se pueden definir mediante corchetes [ ], entre los cuales se escriben los objetos separados por comas. Así, son listas:"
      ]
    },
    {
      "cell_type": "code",
      "execution_count": 2,
      "metadata": {
        "id": "A7snmR5ICTGB"
      },
      "outputs": [],
      "source": [
        "l = [5,10,15]\n",
        "\n",
        "m = [1,2,2]\n",
        "\n",
        "lista = [1,2,3,4,5, 'a', 'b', 'c', [1,2], [3, 'c']]"
      ]
    },
    {
      "cell_type": "code",
      "execution_count": 3,
      "metadata": {
        "id": "kBmQVBnvCTGE",
        "outputId": "df861e9e-5d12-4749-bbdc-abfd5c0786bb",
        "colab": {
          "base_uri": "https://localhost:8080/"
        }
      },
      "outputs": [
        {
          "output_type": "execute_result",
          "data": {
            "text/plain": [
              "list"
            ]
          },
          "metadata": {},
          "execution_count": 3
        }
      ],
      "source": [
        "type(l)  # La función type() devuelve el tipo de objeto que es el argumento"
      ]
    },
    {
      "cell_type": "code",
      "execution_count": 4,
      "metadata": {
        "id": "D5YiN_8jCTGE",
        "outputId": "2c3b550c-e779-421a-bdd9-ea224d5a48e6",
        "colab": {
          "base_uri": "https://localhost:8080/"
        }
      },
      "outputs": [
        {
          "output_type": "execute_result",
          "data": {
            "text/plain": [
              "list"
            ]
          },
          "metadata": {},
          "execution_count": 4
        }
      ],
      "source": [
        "type(m)"
      ]
    },
    {
      "cell_type": "markdown",
      "metadata": {
        "id": "Su-W2cZeCTGF"
      },
      "source": [
        "Las listas son iterables: podemos recorrer sus elementos mediante un bucle:"
      ]
    },
    {
      "cell_type": "code",
      "execution_count": 5,
      "metadata": {
        "id": "FWOWuikvCTGG",
        "outputId": "0f635722-c0d0-49f1-a2b2-374a3b4d3034",
        "colab": {
          "base_uri": "https://localhost:8080/"
        }
      },
      "outputs": [
        {
          "output_type": "stream",
          "name": "stdout",
          "text": [
            "1\n",
            "2\n",
            "3\n",
            "4\n",
            "5\n",
            "a\n",
            "b\n",
            "c\n",
            "[1, 2]\n",
            "[3, 'c']\n"
          ]
        }
      ],
      "source": [
        "for i in lista:\n",
        "    print(i)"
      ]
    },
    {
      "cell_type": "markdown",
      "metadata": {
        "id": "iMmoeimaCTGG"
      },
      "source": [
        "Se puede acceder a cada elemento de la lista indicando su posición en ella:"
      ]
    },
    {
      "cell_type": "code",
      "execution_count": 6,
      "metadata": {
        "id": "KwMu0WS6CTGH",
        "outputId": "9f1cc1d4-5cf5-430a-ee4c-c7cdd465db62",
        "colab": {
          "base_uri": "https://localhost:8080/"
        }
      },
      "outputs": [
        {
          "output_type": "execute_result",
          "data": {
            "text/plain": [
              "1"
            ]
          },
          "metadata": {},
          "execution_count": 6
        }
      ],
      "source": [
        "lista[0]"
      ]
    },
    {
      "cell_type": "markdown",
      "metadata": {
        "id": "NG0ZR-MoCTGH"
      },
      "source": [
        "Y se puede reemplazar alguno de sus elementos indicando el nuevo valor:"
      ]
    },
    {
      "cell_type": "code",
      "execution_count": 7,
      "metadata": {
        "id": "db-tWs2pCTGI"
      },
      "outputs": [],
      "source": [
        "lista[0] = 100"
      ]
    },
    {
      "cell_type": "code",
      "execution_count": 8,
      "metadata": {
        "id": "hYHFJCqaCTGJ",
        "outputId": "d2e906cf-ada4-4b57-f7a2-3dd59daa458b",
        "colab": {
          "base_uri": "https://localhost:8080/"
        }
      },
      "outputs": [
        {
          "output_type": "stream",
          "name": "stdout",
          "text": [
            "[100, 2, 3, 4, 5, 'a', 'b', 'c', [1, 2], [3, 'c']]\n"
          ]
        }
      ],
      "source": [
        "print(lista)"
      ]
    },
    {
      "cell_type": "markdown",
      "metadata": {
        "id": "dWha-bVcCTGJ"
      },
      "source": [
        "### Ejercicio:\n",
        "\n",
        "¿Cómo accedemos al elemento 'c' de la lista [3, 'c'] dentro de lista?"
      ]
    },
    {
      "cell_type": "code",
      "source": [
        "val=lista[9]\n",
        "print(val)\n",
        "val[1]"
      ],
      "metadata": {
        "id": "N6bXUKgLEF82",
        "outputId": "5a7c876f-dd20-4338-8efd-c8699edddd9e",
        "colab": {
          "base_uri": "https://localhost:8080/",
          "height": 53
        }
      },
      "execution_count": 9,
      "outputs": [
        {
          "output_type": "stream",
          "name": "stdout",
          "text": [
            "[3, 'c']\n"
          ]
        },
        {
          "output_type": "execute_result",
          "data": {
            "text/plain": [
              "'c'"
            ],
            "application/vnd.google.colaboratory.intrinsic+json": {
              "type": "string"
            }
          },
          "metadata": {},
          "execution_count": 9
        }
      ]
    },
    {
      "cell_type": "markdown",
      "metadata": {
        "id": "kjZ2mtb8CTGK"
      },
      "source": [
        "Con el operador **in** podemos comprobar si un determinado **valor** está en la lista: dará True si está y False si no está."
      ]
    },
    {
      "cell_type": "code",
      "execution_count": null,
      "metadata": {
        "id": "1cqXReL4CTGK",
        "outputId": "54671738-9e74-4fdc-eb78-048d47dad86e",
        "colab": {
          "base_uri": "https://localhost:8080/"
        }
      },
      "outputs": [
        {
          "output_type": "execute_result",
          "data": {
            "text/plain": [
              "True"
            ]
          },
          "metadata": {},
          "execution_count": 16
        }
      ],
      "source": [
        "2 in lista"
      ]
    },
    {
      "cell_type": "markdown",
      "metadata": {
        "id": "7b2ag15ACTGK"
      },
      "source": [
        "Las listas se pueden sumar y multiplicar"
      ]
    },
    {
      "cell_type": "code",
      "execution_count": 10,
      "metadata": {
        "id": "-lewinSRCTGL"
      },
      "outputs": [],
      "source": [
        "a = [1, 2, 3, 4, 5]\n",
        "b = [6,7,8,9,10]"
      ]
    },
    {
      "cell_type": "code",
      "execution_count": 11,
      "metadata": {
        "id": "GAz8TUeRCTGL",
        "outputId": "9f59da4e-7b57-46e0-9cc0-7730f03d41bb",
        "colab": {
          "base_uri": "https://localhost:8080/"
        }
      },
      "outputs": [
        {
          "output_type": "execute_result",
          "data": {
            "text/plain": [
              "[1, 2, 3, 4, 5, 6, 7, 8, 9, 10]"
            ]
          },
          "metadata": {},
          "execution_count": 11
        }
      ],
      "source": [
        "a + b"
      ]
    },
    {
      "cell_type": "code",
      "execution_count": 12,
      "metadata": {
        "id": "_U_KLul-CTGN",
        "outputId": "22b14c78-a1c0-44bb-c8c3-50428969e5ef",
        "colab": {
          "base_uri": "https://localhost:8080/"
        }
      },
      "outputs": [
        {
          "output_type": "execute_result",
          "data": {
            "text/plain": [
              "[6, 7, 8, 9, 10, 6, 7, 8, 9, 10]"
            ]
          },
          "metadata": {},
          "execution_count": 12
        }
      ],
      "source": [
        "2*b        # Observar el resultado"
      ]
    },
    {
      "cell_type": "markdown",
      "metadata": {
        "id": "Cx1NpUwtCTGN"
      },
      "source": [
        "La función **sum( )** devuelve la suma de los elementos de listas numéricas."
      ]
    },
    {
      "cell_type": "code",
      "execution_count": 13,
      "metadata": {
        "id": "4D_zdJJDCTGO",
        "outputId": "82e1a519-15c3-4941-b8ee-6741788b12f9",
        "colab": {
          "base_uri": "https://localhost:8080/"
        }
      },
      "outputs": [
        {
          "output_type": "execute_result",
          "data": {
            "text/plain": [
              "15"
            ]
          },
          "metadata": {},
          "execution_count": 13
        }
      ],
      "source": [
        "sum(a)"
      ]
    },
    {
      "cell_type": "markdown",
      "metadata": {
        "id": "M3uxOFvBCTGP"
      },
      "source": [
        "La función **len( )** devuelve el número de elementos de la lista."
      ]
    },
    {
      "cell_type": "code",
      "execution_count": 14,
      "metadata": {
        "id": "wEhNZwWzCTGP",
        "outputId": "0a1cb387-6ea8-4592-b22d-70ce6c7ecb20",
        "colab": {
          "base_uri": "https://localhost:8080/"
        }
      },
      "outputs": [
        {
          "output_type": "execute_result",
          "data": {
            "text/plain": [
              "3"
            ]
          },
          "metadata": {},
          "execution_count": 14
        }
      ],
      "source": [
        "len(l)"
      ]
    },
    {
      "cell_type": "markdown",
      "metadata": {
        "id": "DPWabgzICTGQ"
      },
      "source": [
        "### Ejercicio:"
      ]
    },
    {
      "cell_type": "markdown",
      "metadata": {
        "id": "QQX1vH_uCTGQ"
      },
      "source": [
        "Calcular el promedio de:\n",
        "\n",
        "* a\n",
        "* b\n",
        "* 5a ¿Es igual a 5*(promedio de a)?\n",
        "Respuesta: Si, tienen el mismo resultado\n",
        "* a + b ¿Es igual a la suma de los promedios?\n",
        "Respuesta: No"
      ]
    },
    {
      "cell_type": "code",
      "source": [
        "\n",
        "#Promedio de a\n",
        "prom_A=sum(a) / len(a)\n",
        "print(\"Promedio de A =\",prom_A)\n",
        "\n",
        "#Primedio de b\n",
        "prom_B=sum(b) / len(b)\n",
        "print(\"Promedio de B =\",prom_B)\n",
        "\n",
        "#Calculando 5a\n",
        "prom1=(5*sum(a)) / len(a)\n",
        "print(\"Valor de 5a =\",prom1)\n",
        "\n",
        "#Calculando 5(promedio de a)\n",
        "prom2= 5*prom_A\n",
        "print(\"Valor de 5*(promedio de A) =\",prom2)\n",
        "\n",
        "#Respuesta: Por lo que 5a = 5(promedio de a)\n",
        "\n",
        "#Promedio de a+b\n",
        "prom3= sum(a+b) / len(a+b)\n",
        "print(\"Promedio de a+b =\",prom3)\n",
        "\n",
        "#Suma de los promedios\n",
        "sumpro= prom_A + prom_B\n",
        "print(\"Suma de promedios =\",sumpro)\n",
        "\n",
        "#Respuesta: No necesariamente el promedio de (a+b) es igual a la suma de sus promedios"
      ],
      "metadata": {
        "id": "P9egxrVpFU4j",
        "outputId": "46e84401-5254-4e5d-ccc4-9e84e555cf10",
        "colab": {
          "base_uri": "https://localhost:8080/"
        }
      },
      "execution_count": 57,
      "outputs": [
        {
          "output_type": "stream",
          "name": "stdout",
          "text": [
            "Promedio de A = 3.0\n",
            "Promedio de B = 8.0\n",
            "Valor de 5a = 15.0\n",
            "Valor de 5*(promedio de A) = 15.0\n",
            "Promedio de a+b = 5.5\n",
            "Suma de promedios = 11.0\n"
          ]
        }
      ]
    },
    {
      "cell_type": "markdown",
      "metadata": {
        "id": "IL5siJ1hCTGR"
      },
      "source": [
        "También se puede acceder a los elementos de una lista por rangos."
      ]
    },
    {
      "cell_type": "code",
      "execution_count": 37,
      "metadata": {
        "id": "jkhet0QJCTGR",
        "colab": {
          "base_uri": "https://localhost:8080/"
        },
        "outputId": "4361b540-0e22-4662-fd46-2118c52a6b53"
      },
      "outputs": [
        {
          "output_type": "execute_result",
          "data": {
            "text/plain": [
              "[2, 3, 4, 5]"
            ]
          },
          "metadata": {},
          "execution_count": 37
        }
      ],
      "source": [
        "a[1:]"
      ]
    },
    {
      "cell_type": "code",
      "execution_count": 38,
      "metadata": {
        "id": "AMFJlhbzCTGR",
        "colab": {
          "base_uri": "https://localhost:8080/"
        },
        "outputId": "ac484afe-54d6-45c6-a523-f0c1fd3e5d60"
      },
      "outputs": [
        {
          "output_type": "execute_result",
          "data": {
            "text/plain": [
              "[1, 2]"
            ]
          },
          "metadata": {},
          "execution_count": 38
        }
      ],
      "source": [
        "a[:2]"
      ]
    },
    {
      "cell_type": "code",
      "execution_count": 39,
      "metadata": {
        "id": "l0Wwm3jMCTGR",
        "colab": {
          "base_uri": "https://localhost:8080/"
        },
        "outputId": "d38e26fb-a93a-4cfd-fd31-559cb173ed24"
      },
      "outputs": [
        {
          "output_type": "execute_result",
          "data": {
            "text/plain": [
              "[4, 5]"
            ]
          },
          "metadata": {},
          "execution_count": 39
        }
      ],
      "source": [
        "a[3:5]"
      ]
    },
    {
      "cell_type": "code",
      "execution_count": 40,
      "metadata": {
        "id": "22HNpLFUCTGS",
        "colab": {
          "base_uri": "https://localhost:8080/"
        },
        "outputId": "02980e7c-c728-44fb-e469-5804396e3baa"
      },
      "outputs": [
        {
          "output_type": "execute_result",
          "data": {
            "text/plain": [
              "[1, 3, 5]"
            ]
          },
          "metadata": {},
          "execution_count": 40
        }
      ],
      "source": [
        "a[::2]"
      ]
    },
    {
      "cell_type": "markdown",
      "metadata": {
        "id": "htKCWgcxCTGS"
      },
      "source": [
        "La función **append( )** agrega un elemento al final de la lista."
      ]
    },
    {
      "cell_type": "markdown",
      "metadata": {
        "id": "Qw8q45E0CTGS"
      },
      "source": [
        "### Ejercicio:\n",
        "\n",
        "1 Generar una lista de 20 números aleatorios.\n",
        "\n",
        "2 Obtener el promedio de los 10 últimos números generados."
      ]
    },
    {
      "cell_type": "code",
      "execution_count": 42,
      "metadata": {
        "id": "coluXmGrCTGT",
        "colab": {
          "base_uri": "https://localhost:8080/"
        },
        "outputId": "d0787447-6302-49e4-a7aa-b926866692d3"
      },
      "outputs": [
        {
          "output_type": "stream",
          "name": "stdout",
          "text": [
            "[67, 100, 67, 38, 88, 35, 94, 71, 97, 40, 24, 64, 21, 40, 41, 76, 83, 31, 40, 25]\n"
          ]
        }
      ],
      "source": [
        "import random\n",
        "\n",
        "# Generar una lista de 20 números aleatorios entre 1 y 100\n",
        "numeros_aleatorios = [random.randint(1, 100) for _ in range(20)]\n",
        "\n",
        "print(numeros_aleatorios)"
      ]
    },
    {
      "cell_type": "code",
      "execution_count": 43,
      "metadata": {
        "id": "bCRXgSMiCTGT",
        "colab": {
          "base_uri": "https://localhost:8080/"
        },
        "outputId": "ff7ca882-d4a1-44f2-d1e2-6064e6840ac1"
      },
      "outputs": [
        {
          "output_type": "stream",
          "name": "stdout",
          "text": [
            "Promedio de los últimos 10 números: 44.5\n"
          ]
        }
      ],
      "source": [
        "# Obtener los últimos 10 números de la lista\n",
        "ultimos_10_numeros = numeros_aleatorios[-10:]\n",
        "\n",
        "# Calcular el promedio de los últimos 10 números\n",
        "promedio_ultimos_10 = sum(ultimos_10_numeros) / len(ultimos_10_numeros)\n",
        "\n",
        "print(\"Promedio:\", promedio_ultimos_10)"
      ]
    },
    {
      "cell_type": "markdown",
      "metadata": {
        "id": "SPCuTp1eCTGT"
      },
      "source": [
        "## Diccionarios"
      ]
    },
    {
      "cell_type": "markdown",
      "metadata": {
        "id": "phSqMGNZCTGU"
      },
      "source": [
        "Un **diccionario** es una estructura de datos que almacena conjuntos de pares **clave-valor**."
      ]
    },
    {
      "cell_type": "markdown",
      "metadata": {
        "id": "1HrCzhuMCTGU"
      },
      "source": [
        "Para definir un diccionario se escribe un listado entre llaves, {}, mediante un sistema de pares clave-valor. Las entredas se separan por comas y la clave se separa del valor mediante dos puntos, :."
      ]
    },
    {
      "cell_type": "code",
      "execution_count": 44,
      "metadata": {
        "id": "bkdgmQV9CTGU"
      },
      "outputs": [],
      "source": [
        "diccionario = {'Nombre': 'Isaac', 'Edad':'22', 'Cursos':['Ecuaciones','Simulación','Operaciones']}"
      ]
    },
    {
      "cell_type": "code",
      "execution_count": 45,
      "metadata": {
        "id": "fRNsa2koCTGg",
        "colab": {
          "base_uri": "https://localhost:8080/",
          "height": 35
        },
        "outputId": "f3580c51-d06b-461c-c692-dd3cacfcc439"
      },
      "outputs": [
        {
          "output_type": "execute_result",
          "data": {
            "text/plain": [
              "'Isaac'"
            ],
            "application/vnd.google.colaboratory.intrinsic+json": {
              "type": "string"
            }
          },
          "metadata": {},
          "execution_count": 45
        }
      ],
      "source": [
        "diccionario['Nombre']"
      ]
    },
    {
      "cell_type": "code",
      "execution_count": 46,
      "metadata": {
        "id": "9jrJwp2SCTGh",
        "colab": {
          "base_uri": "https://localhost:8080/",
          "height": 35
        },
        "outputId": "fba68339-0296-4533-d63f-7dff70789df9"
      },
      "outputs": [
        {
          "output_type": "execute_result",
          "data": {
            "text/plain": [
              "'Simulación'"
            ],
            "application/vnd.google.colaboratory.intrinsic+json": {
              "type": "string"
            }
          },
          "metadata": {},
          "execution_count": 46
        }
      ],
      "source": [
        "diccionario['Cursos'][1]"
      ]
    },
    {
      "cell_type": "markdown",
      "metadata": {
        "id": "SbDWVoZECTGh"
      },
      "source": [
        "La función **dict( )** permite crear un diccionario:"
      ]
    },
    {
      "cell_type": "code",
      "execution_count": 47,
      "metadata": {
        "id": "b9s-QXzTCTGi"
      },
      "outputs": [],
      "source": [
        "d = dict(a=1, b=2, c=3)"
      ]
    },
    {
      "cell_type": "code",
      "execution_count": 48,
      "metadata": {
        "id": "-ihnjwkdCTGi",
        "colab": {
          "base_uri": "https://localhost:8080/"
        },
        "outputId": "1086d840-3fdf-4111-95f5-68c39a1b9be5"
      },
      "outputs": [
        {
          "output_type": "stream",
          "name": "stdout",
          "text": [
            "{'a': 1, 'b': 2, 'c': 3}\n"
          ]
        }
      ],
      "source": [
        "print(d)"
      ]
    },
    {
      "cell_type": "code",
      "execution_count": 49,
      "metadata": {
        "id": "WeMmRSouCTGj",
        "colab": {
          "base_uri": "https://localhost:8080/"
        },
        "outputId": "8d769e89-905a-46b8-d7ad-4435024eca80"
      },
      "outputs": [
        {
          "output_type": "execute_result",
          "data": {
            "text/plain": [
              "dict"
            ]
          },
          "metadata": {},
          "execution_count": 49
        }
      ],
      "source": [
        "type(d)"
      ]
    },
    {
      "cell_type": "code",
      "execution_count": 50,
      "metadata": {
        "id": "cm2Pv8ROCTGk",
        "colab": {
          "base_uri": "https://localhost:8080/"
        },
        "outputId": "c2dc63f5-f7eb-4199-a9e3-41291dfc4f71"
      },
      "outputs": [
        {
          "output_type": "execute_result",
          "data": {
            "text/plain": [
              "3"
            ]
          },
          "metadata": {},
          "execution_count": 50
        }
      ],
      "source": [
        "len(d)"
      ]
    },
    {
      "cell_type": "markdown",
      "metadata": {
        "id": "h4npuhaWCTGl"
      },
      "source": [
        "Con el operador in podemos comprobar si una determinada **clave** está en el diccionario: dará True si está y False si no está."
      ]
    },
    {
      "cell_type": "code",
      "execution_count": 51,
      "metadata": {
        "id": "i6k-y1zkCTGm",
        "colab": {
          "base_uri": "https://localhost:8080/"
        },
        "outputId": "00e354bb-82ee-4f41-b8c8-b8e2a44aa55f"
      },
      "outputs": [
        {
          "output_type": "execute_result",
          "data": {
            "text/plain": [
              "True"
            ]
          },
          "metadata": {},
          "execution_count": 51
        }
      ],
      "source": [
        "'a' in d"
      ]
    },
    {
      "cell_type": "markdown",
      "metadata": {
        "id": "U63shHroCTGn"
      },
      "source": [
        "Las diccionarios son iterables: podemos recorrer sus elementos mediante un bucle:"
      ]
    },
    {
      "cell_type": "code",
      "execution_count": 52,
      "metadata": {
        "id": "PVqqvCmFCTGo",
        "colab": {
          "base_uri": "https://localhost:8080/"
        },
        "outputId": "37badb8d-a81b-4115-b7e3-8016cf280818"
      },
      "outputs": [
        {
          "output_type": "stream",
          "name": "stdout",
          "text": [
            "Nombre : Isaac\n",
            "Edad : 22\n",
            "Cursos : ['Ecuaciones', 'Simulación', 'Operaciones']\n"
          ]
        }
      ],
      "source": [
        "for key in diccionario:\n",
        "    print(key, \":\", diccionario[key])"
      ]
    },
    {
      "cell_type": "markdown",
      "metadata": {
        "id": "uJqw61adCTGo"
      },
      "source": [
        "**items()** devuelve las tuplas clave-valor del diccionario."
      ]
    },
    {
      "cell_type": "code",
      "execution_count": 53,
      "metadata": {
        "id": "k1JjwB67CTGp",
        "colab": {
          "base_uri": "https://localhost:8080/"
        },
        "outputId": "c92d987a-4122-4dfc-97d2-246e0a74f2f5"
      },
      "outputs": [
        {
          "output_type": "execute_result",
          "data": {
            "text/plain": [
              "dict_items([('Nombre', 'Isaac'), ('Edad', '22'), ('Cursos', ['Ecuaciones', 'Simulación', 'Operaciones'])])"
            ]
          },
          "metadata": {},
          "execution_count": 53
        }
      ],
      "source": [
        "diccionario.items()"
      ]
    },
    {
      "cell_type": "markdown",
      "metadata": {
        "id": "yUZMAIDxCTGq"
      },
      "source": [
        "**items()** devuelve una tupla, lo cual permite verificar si un par clave-valor está en el diccionario."
      ]
    },
    {
      "cell_type": "code",
      "execution_count": 54,
      "metadata": {
        "id": "nNQ674eKCTGq",
        "colab": {
          "base_uri": "https://localhost:8080/"
        },
        "outputId": "55343953-0455-4485-aad1-4771e3463a90"
      },
      "outputs": [
        {
          "output_type": "execute_result",
          "data": {
            "text/plain": [
              "True"
            ]
          },
          "metadata": {},
          "execution_count": 54
        }
      ],
      "source": [
        "('a',1) in d.items()"
      ]
    },
    {
      "cell_type": "markdown",
      "metadata": {
        "id": "6345d4efCTGr"
      },
      "source": [
        "**values()** devuelve una lista de los valores del diccionario."
      ]
    },
    {
      "cell_type": "code",
      "execution_count": 55,
      "metadata": {
        "id": "5M-Ylv2PCTGr",
        "colab": {
          "base_uri": "https://localhost:8080/"
        },
        "outputId": "e8094a65-5697-4fe3-f062-beae9045ac10"
      },
      "outputs": [
        {
          "output_type": "execute_result",
          "data": {
            "text/plain": [
              "dict_values(['Isaac', '22', ['Ecuaciones', 'Simulación', 'Operaciones']])"
            ]
          },
          "metadata": {},
          "execution_count": 55
        }
      ],
      "source": [
        "diccionario.values()"
      ]
    },
    {
      "cell_type": "code",
      "execution_count": 55,
      "metadata": {
        "id": "_Uw6yY33CTGs"
      },
      "outputs": [],
      "source": []
    }
  ],
  "metadata": {
    "kernelspec": {
      "display_name": "Python 3",
      "language": "python",
      "name": "python3"
    },
    "language_info": {
      "codemirror_mode": {
        "name": "ipython",
        "version": 3
      },
      "file_extension": ".py",
      "mimetype": "text/x-python",
      "name": "python",
      "nbconvert_exporter": "python",
      "pygments_lexer": "ipython3",
      "version": "3.7.3"
    },
    "colab": {
      "provenance": []
    }
  },
  "nbformat": 4,
  "nbformat_minor": 0
}